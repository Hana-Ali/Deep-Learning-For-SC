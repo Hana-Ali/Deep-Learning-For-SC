{
 "cells": [
  {
   "cell_type": "code",
   "execution_count": 4,
   "metadata": {},
   "outputs": [
    {
     "name": "stdout",
     "output_type": "stream",
     "text": [
      "(10, 5000)\n",
      "[[ 0.00000000e+000  0.00000000e+000  2.64029329e-003 ... -1.67557893e+164\n",
      "  -1.80892679e+164 -1.95288688e+164]\n",
      " [ 0.00000000e+000  0.00000000e+000  1.75466645e-003 ... -1.22068259e+164\n",
      "  -1.31782836e+164 -1.42270529e+164]\n",
      " [ 0.00000000e+000  0.00000000e+000  2.19908545e-003 ... -1.44895508e+164\n",
      "  -1.56426749e+164 -1.68875683e+164]\n",
      " ...\n",
      " [ 0.00000000e+000  0.00000000e+000  5.03380416e-004 ... -5.77942890e+163\n",
      "  -6.23937407e+163 -6.73592312e+163]\n",
      " [ 0.00000000e+000  0.00000000e+000  2.35342619e-003 ... -1.52823654e+164\n",
      "  -1.64985842e+164 -1.78115935e+164]\n",
      " [ 0.00000000e+000  0.00000000e+000  2.73504630e-003 ... -1.72424359e+164\n",
      "  -1.86146433e+164 -2.00960553e+164]]\n"
     ]
    },
    {
     "data": {
      "text/plain": [
       "[<matplotlib.lines.Line2D at 0x20651a7e6d0>]"
      ]
     },
     "execution_count": 4,
     "metadata": {},
     "output_type": "execute_result"
    },
    {
     "data": {
      "image/png": "[encoded data removed]",
      "text/plain": [
       "<Figure size 640x480 with 1 Axes>"
      ]
     },
     "metadata": {},
     "output_type": "display_data"
    }
   ],
   "source": [
    "import numpy as np\n",
    "from scipy.signal import hilbert\n",
    "from scipy.stats import pearsonr\n",
    "import matplotlib.pyplot as plt\n",
    "\n",
    "# Number of brain regions\n",
    "X = 10\n",
    "# Time steps\n",
    "T = 5000\n",
    "# Parameters for the Wilson-Cowan equations\n",
    "tau_e, tau_i = 10, 10\n",
    "alpha_e, alpha_i = 1.3, 2\n",
    "theta_e, theta_i = 4, 3.7\n",
    "beta = 0.4\n",
    "# Global coupling\n",
    "G = 0.1\n",
    "# Time delay (in time steps)\n",
    "delay = 2\n",
    "# Structural connectivity matrix\n",
    "SC = np.random.rand(X, X)\n",
    "# Excitatory and inhibitory variables\n",
    "E = np.random.rand(X)\n",
    "I = np.random.rand(X)\n",
    "# Time-step size\n",
    "dt = 0.1\n",
    "\n",
    "# Time series container\n",
    "time_series_E = np.zeros((X, T))\n",
    "\n",
    "# Wilson-Cowan equations update\n",
    "def update(E, I, past_E, SC):\n",
    "    dE = (-E + (1 - E) * alpha_e * np.tanh(E - beta * I + theta_e + G * SC.dot(past_E))) / tau_e\n",
    "    dI = (-I + alpha_i * np.tanh(E - I + theta_i)) / tau_i\n",
    "    return E + dE * dt, I + dI * dt\n",
    "\n",
    "# Simulating Wilson-Cowan dynamics\n",
    "for t in range(T):\n",
    "    if t < delay:\n",
    "        past_E = E  # Use current state for first time steps\n",
    "    else:\n",
    "        past_E = time_series_E[:, t - delay]\n",
    "    \n",
    "    E, I = update(E, I, past_E, SC)\n",
    "    time_series_E[:, t] = E\n",
    "\n",
    "# # Converting to BOLD signal using the Hilbert transform\n",
    "# BOLD_signal = np.abs(hilbert(time_series_E))\n",
    "\n",
    "def balloon_windkessel(S, dt):\n",
    "    num_regions, simulation_time = S.shape\n",
    "    BOLD = np.zeros_like(S)\n",
    "    k1 = 7\n",
    "    k2 = 2\n",
    "    k3 = 2\n",
    "    alpha = 0.32\n",
    "    tau_s = 0.8\n",
    "    tau_f = 0.4\n",
    "    tau_o = 0.4\n",
    "    E = 0.4\n",
    "\n",
    "    s = np.zeros((num_regions, simulation_time))\n",
    "    f = np.zeros_like(s)\n",
    "    v = np.zeros_like(s)\n",
    "    q = np.zeros_like(s)\n",
    "    \n",
    "    for t in range(1, simulation_time):\n",
    "        s[:, t] = s[:, t-1] + dt * (S[:, t] - (k1 + 1) * s[:, t-1] + k1 * f[:, t-1])\n",
    "        f[:, t] = f[:, t-1] + dt * s[:, t-1]\n",
    "        v[:, t] = v[:, t-1] + dt * (alpha * (S[:, t] - f[:, t]) - 1/tau_s * v[:, t-1])\n",
    "        q[:, t] = q[:, t-1] + dt * (alpha * (S[:, t] - E * f[:, t]) - 1/tau_f * q[:, t-1])\n",
    "        BOLD[:, t] = v[:, t] - q[:, t]\n",
    "        \n",
    "    return BOLD\n",
    "\n",
    "BOLD_signal = balloon_windkessel(time_series_E, dt)\n",
    "\n",
    "print(BOLD_signal.shape)\n",
    "print(BOLD_signal)\n",
    "\n",
    "# plot the bold signal\n",
    "plt.plot(BOLD_signal[0, :])\n",
    "\n",
    "# # Computing the functional connectivity matrix\n",
    "# FC = np.zeros((X, X))\n",
    "# for i in range(X):\n",
    "#     for j in range(X):\n",
    "#         corr, _ = pearsonr(BOLD_signal[i, :], BOLD_signal[j, :])\n",
    "#         FC[i, j] = corr\n",
    "\n",
    "# plt.imshow(FC, cmap='hot')\n",
    "# plt.title('Functional Connectivity Matrix')\n",
    "# plt.colorbar()\n",
    "# plt.show()\n"
   ]
  },
  {
   "cell_type": "code",
   "execution_count": null,
   "metadata": {},
   "outputs": [],
   "source": []
  }
 ],
 "metadata": {
  "kernelspec": {
   "display_name": "diss",
   "language": "python",
   "name": "python3"
  },
  "language_info": {
   "codemirror_mode": {
    "name": "ipython",
    "version": 3
   },
   "file_extension": ".py",
   "mimetype": "text/x-python",
   "name": "python",
   "nbconvert_exporter": "python",
   "pygments_lexer": "ipython3",
   "version": "3.11.4"
  },
  "orig_nbformat": 4
 },
 "nbformat": 4,
 "nbformat_minor": 2
}
