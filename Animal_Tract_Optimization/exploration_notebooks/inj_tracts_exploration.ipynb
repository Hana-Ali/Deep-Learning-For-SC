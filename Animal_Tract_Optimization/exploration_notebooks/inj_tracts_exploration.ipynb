{
 "cells": [
  {
   "cell_type": "code",
   "execution_count": null,
   "metadata": {},
   "outputs": [],
   "source": [
    "import sys\n",
    "sys.path.append('..')\n",
    "from injection_helpers.inj_paths import *\n",
    "from py_helpers.general_helpers import *\n",
    "import matplotlib.pyplot as plt\n",
    "import numpy as np"
   ]
  },
  {
   "cell_type": "markdown",
   "metadata": {},
   "source": [
    "### **Get the paths**"
   ]
  },
  {
   "cell_type": "code",
   "execution_count": null,
   "metadata": {},
   "outputs": [],
   "source": [
    "# Get the main paths for the mrtrix folder\n",
    "(GENERAL_MRTRIX_FOLDER, SPECIFIC_MRTRIX_FOLDER, ATLAS_REG_FOLDER_NAME, COMBINED_TRACTS_FOLDER_NAME, \n",
    "    COMBINED_CONNECTOME_FOLDER_NAME, INDIVIDUAL_ROIS_FROM_ATLAS_FOLDER_NAME, INDIVIDUAL_ROIS_NIFTI_FOLDER_NAME, \n",
    "    INDIVIDUAL_ROIS_MIF_FOLDER_NAME) = main_mrtrix_folder_paths()\n",
    "# Get the combined connectome path\n",
    "(COMBINED_CONNECTOME_PATH) = get_combined_connectome_path()\n",
    "\n",
    "# Get all the text names in SPECIFIC_MRTRIX_FOLDER and filter for ones with vector in the name\n",
    "REGION_FOLDER_NAMES = glob_files(SPECIFIC_MRTRIX_FOLDER, \"txt\")\n",
    "REGION_FOLDER_NAMES = [file for file in REGION_FOLDER_NAMES if \"vector\" in file]\n",
    "# Ensure it isn't empty and that its length is 52 (we have 52 injections)\n",
    "check_globbed_files(REGION_FOLDER_NAMES, \"region files\")\n",
    "if len(REGION_FOLDER_NAMES) != 52:\n",
    "    print(\"Not all region files were found. Please check that all 52 region files are in the folder\")\n",
    "    sys.exit('Exiting program')"
   ]
  },
  {
   "cell_type": "markdown",
   "metadata": {},
   "source": [
    "### **Load data**"
   ]
  },
  {
   "cell_type": "code",
   "execution_count": null,
   "metadata": {},
   "outputs": [],
   "source": [
    "# For each of the region files, load the data into a numpy array\n",
    "ALL_REGION_DATA = []\n",
    "for region_file in REGION_FOLDER_NAMES:\n",
    "    REGION_DATA = np.loadtxt(region_file)\n",
    "    ALL_REGION_DATA.append(REGION_DATA)\n",
    "\n",
    "# Display each of the region data using matplotlib\n",
    "for region_data in ALL_REGION_DATA:\n",
    "    plt.imshow(region_data)\n",
    "    plt.show()"
   ]
  }
 ],
 "metadata": {
  "language_info": {
   "name": "python"
  },
  "orig_nbformat": 4
 },
 "nbformat": 4,
 "nbformat_minor": 2
}
