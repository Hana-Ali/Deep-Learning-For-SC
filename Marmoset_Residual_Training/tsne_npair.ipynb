{
 "cells": [
  {
   "cell_type": "code",
   "execution_count": 2,
   "metadata": {
    "execution": {
     "iopub.execute_input": "2023-08-10T16:02:04.363496Z",
     "iopub.status.busy": "2023-08-10T16:02:04.362958Z",
     "iopub.status.idle": "2023-08-10T16:02:05.371607Z",
     "shell.execute_reply": "2023-08-10T16:02:05.371122Z",
     "shell.execute_reply.started": "2023-08-10T16:02:04.363468Z"
    }
   },
   "outputs": [],
   "source": [
    "from utils import *\n",
    "from models import *\n",
    "from training import *\n",
    "\n",
    "hpc = False\n",
    "labs = False\n",
    "paperspace = True\n",
    "\n",
    "if hpc:\n",
    "    main_data_path = \"/rds/general/user/hsa22/ephemeral/Brain_MINDS/model_data\"\n",
    "    main_logs_path = \"/rds/general/user/hsa22/ephemeral/Brain_MINDS/predicted_streamlines\"\n",
    "elif labs:\n",
    "    main_data_path = \"/media/hsa22/Expansion/Brain_MINDS/model_data\"\n",
    "    main_logs_path = \"/media/hsa22/Expansion//Brain_MINDS/predicted_streamlines\"\n",
    "elif paperspace:\n",
    "    main_data_path = \"/notebooks/model_data_w_resize\"\n",
    "    main_logs_path = \"/notebooks/predicted_streamlines\"\n",
    "else:\n",
    "    main_data_path = \"D:\\\\Brain-MINDS\\\\model_data\"\n",
    "    main_logs_path = \"D:\\\\Brain-MINDS\\\\predicted_streamlines\"\n",
    "\n",
    "streamline_arrays_path = os.path.join(main_logs_path, \"streamline_predictions\", \"resnet_streamlines\")\n",
    "training_log_folder = os.path.join(main_logs_path, \"training_logs\")\n",
    "model_folder = os.path.join(main_logs_path, \"models\", \"resnet_streamlines\")\n",
    "\n",
    "check_output_folders(streamline_arrays_path, \"streamline arrays\", wipe=False)\n",
    "check_output_folders(training_log_folder, \"training_log_folder\", wipe=False)\n",
    "check_output_folders(model_folder, \"model_folder\", wipe=False)\n",
    "\n",
    "training_log_path = os.path.join(training_log_folder, \"resnet_streamlines.csv\")\n",
    "model_filename = os.path.join(model_folder, \"resnet_streamlines.h5\")\n",
    "\n",
    "# Create the configs dictionary\n",
    "config = {\n",
    "\n",
    "    ####### Model #######\n",
    "    \"model_name\" : \"resnet_streamlines\", # Model name\n",
    "    \"input_nc\" : 1,\n",
    "    \"combination\" : True, # Combination\n",
    "    \"task\" : \"classification\", # Task\n",
    "    \"hidden_size\" : 32, # number of neurons\n",
    "    \"depthwise_conv\" : True, # Depthwise convolution\n",
    "    \"library_opt\" : True, # Use stuff from torch_optim\n",
    "    \"contrastive\" : \"npair\", # Contrastive\n",
    "\n",
    "    ####### Training #######\n",
    "    \"n_epochs\" : 50, # Number of epochs\n",
    "    \"loss\" : \"negative_log_likelihood_loss\", # Loss function\n",
    "    \"optimizer\" : \"Adam\", # Optimizer\n",
    "    \"evaluation_metric\" : \"negative_log_likelihood_loss\", # Evaluation metric\n",
    "    \"shuffle_dataset\" : True,\n",
    "    \"separate_hemisphere\" : False,\n",
    "    \"cube_size\" : 5, # cube size\n",
    "    \"save_best\" : True, # Save best model\n",
    "    \"overfitting\" : False, # Overfitting\n",
    "\n",
    "    ####### Data #######\n",
    "    \"main_data_path\" : main_data_path, # Data path\n",
    "    \"training_log_path\" : training_log_path, # Training log path\n",
    "    \"model_filename\" : model_filename, # Model filename\n",
    "    \"streamline_arrays_path\" : streamline_arrays_path, # Path to the streamlines array\n",
    "    \"batch_size\" : 32, # Batch size\n",
    "    \"validation_batch_size\" : 32, # Validation batch size\n",
    "    \"num_streamlines\" : 10, # Number of streamlines to consider from each site\n",
    "    \n",
    "    ####### Parameters #######\n",
    "    \"initial_learning_rate\" : 0.05, # Initial learning rate\n",
    "    \"early_stopping_patience\": 50, # Early stopping patience\n",
    "    \"decay_patience\": 20, # Learning rate decay patience\n",
    "    \"decay_factor\": 0.5, # Learning rate decay factor\n",
    "    \"min_learning_rate\": 1e-08, # Minimum learning rate\n",
    "    \"save_last_n_models\": 10, # Save last n models\n",
    "\n",
    "    ####### Misc #######\n",
    "    \"skip_val\" : False, # Skip validation\n",
    "    \"training_type\" : \"streamline\", # Training type\n",
    "    \"tck_type\" : \"trk\" # TCK type\n",
    "\n",
    "}\n"
   ]
  },
  {
   "cell_type": "code",
   "execution_count": 3,
   "metadata": {
    "execution": {
     "iopub.execute_input": "2023-08-10T16:02:07.300732Z",
     "iopub.status.busy": "2023-08-10T16:02:07.299786Z",
     "iopub.status.idle": "2023-08-10T16:02:09.029626Z",
     "shell.execute_reply": "2023-08-10T16:02:09.029134Z",
     "shell.execute_reply.started": "2023-08-10T16:02:07.300702Z"
    }
   },
   "outputs": [
    {
     "name": "stdout",
     "output_type": "stream",
     "text": [
      "Model is: ResnetEncoder_Streamlines\n"
     ]
    }
   ],
   "source": [
    "# Get the model information\n",
    "model_name = config[\"model_name\"]\n",
    "model_filename = config[\"model_filename\"]\n",
    "main_data_path = config[\"main_data_path\"]\n",
    "training_log_path = config[\"training_log_path\"]\n",
    "residual_arrays_path = config[\"residual_arrays_path\"] if \"residual_arrays_path\" in config else None\n",
    "streamline_arrays_path = config[\"streamline_arrays_path\"] if \"streamline_arrays_path\" in config else None\n",
    "\n",
    "# Get the training parameters\n",
    "n_epochs = config[\"n_epochs\"]\n",
    "learning_rate_decay_patience = config[\"decay_patience\"] if \"decay_patience\" in config else None\n",
    "learning_rate_decay_step_size = config[\"decay_step_size\"] if \"decay_step_size\" in config else None\n",
    "decay_factor = config[\"decay_factor\"] if \"decay_factor\" in config else 0.1\n",
    "min_lr = config[\"min_learning_rate\"] if \"min_learning_rate\" in config else 0.\n",
    "early_stopping_patience = config[\"early_stopping_patience\"] if \"early_stopping_patience\" in config else None\n",
    "separate_hemisphere = config[\"separate_hemisphere\"] if \"separate_hemisphere\" in config else True\n",
    "voxel_wise = config[\"voxel_wise\"] if \"voxel_wise\" in config else False\n",
    "cube_size = config[\"cube_size\"] if \"cube_size\" in config else 5\n",
    "\n",
    "# Get general parameters\n",
    "n_gpus = config[\"n_gpus\"] if \"n_gpus\" in config else 1\n",
    "n_workers = config[\"n_workers\"] if \"n_workers\" in config else 1\n",
    "pin_memory = config[\"pin_memory\"] if \"pin_memory\" in config else False\n",
    "prefetch_factor = config[\"prefetch_factor\"] if \"prefetch_factor\" in config else 1\n",
    "amp = config[\"amp\"] if \"amp\" in config else False\n",
    "save_best = config[\"save_best\"] if \"save_best\" in config else False\n",
    "save_every_n_epochs = config[\"save_every_n_epochs\"] if \"save_every_n_epochs\" in config else None\n",
    "save_last_n_models = config[\"save_last_n_models\"] if \"save_last_n_models\" in config else None\n",
    "verbose = config[\"verbose\"] if \"verbose\" in config else 1\n",
    "\n",
    "# Define the output size depending on the task\n",
    "if in_config(\"task\", config, None) == \"classification\" and not in_config(\"contrastive\", config, None):\n",
    "    output_size = 27 # Predicting directions, there are 27 bins\n",
    "elif in_config(\"task\", config, None) == \"regression_angles\" and not in_config(\"contrastive\", config, None):\n",
    "    output_size = 3 # Predicting angles\n",
    "elif in_config(\"task\", config, None) == \"regression_coords\" and not in_config(\"contrastive\", config, None):\n",
    "    output_size = 3 # Predicting coordinates\n",
    "elif in_config(\"contrastive\", config, None):\n",
    "    output_size = 256 # Predicting contrastive loss\n",
    "    \n",
    "# Build or load the model depending on streamline or dwi training, and build dataset differently\n",
    "if config[\"training_type\"] == \"streamline\":\n",
    "    # Build the model\n",
    "    model = build_or_load_model(model_name, model_filename, input_nc=config[\"input_nc\"], cube_size=config[\"cube_size\"],\n",
    "                                num_rnn_layers=in_config(\"num_rnn_layers\", config, None), num_rnn_hidden_neurons=in_config(\"num_rnn_hidden_neurons\", config, None),\n",
    "                                num_nodes=in_config(\"num_nodes\", config, None), num_coordinates=in_config(\"num_coordinates\", config, None),\n",
    "                                prev_output_size=in_config(\"prev_output_size\", config, False), combination=config[\"combination\"],\n",
    "                                n_gpus=n_gpus, bias=None, freeze_bias=in_config(\"freeze_bias\", config, False),\n",
    "                                strict=False, task=in_config(\"task\", config, \"classification\"), output_size=output_size,\n",
    "                                hidden_size=in_config(\"hidden_size\", config, 128), batch_norm=True if config[\"batch_size\"] > 1 else False,\n",
    "                                depthwise_conv=in_config(\"depthwise_conv\", config, False), contrastive=in_config(\"contrastive\", config, False))\n",
    "    # Build the dataset\n",
    "    dataset = StreamlineDataset(main_data_path, num_streamlines=config[\"num_streamlines\"], transforms=None, train=True, tck_type=config[\"tck_type\"], \n",
    "                                task=in_config(\"task\", config, \"classification\"))\n",
    "elif config[\"training_type\"] == \"residual\":\n",
    "    # Build the model\n",
    "    model = build_or_load_model(model_name, model_filename, input_nc=config[\"input_nc\"], \n",
    "                                output_nc=config[\"output_nc\"], ngf=config[\"ngf\"], \n",
    "                                num_blocks=config[\"num_blocks\"], norm_layer=config[\"norm_layer\"],\n",
    "                                use_dropout=config[\"use_dropout\"], padding_type=config[\"padding_type\"],\n",
    "                                cube_size=config[\"cube_size\"],\n",
    "                                n_gpus=n_gpus, bias=bias, freeze_bias=in_config(\"freeze_bias\", config, False),\n",
    "                                strict=False, voxel_wise=config[\"voxel_wise\"])\n",
    "    # Build the dataset\n",
    "    dataset = NiftiDataset(main_data_path, transforms=None, train=True)\n",
    "else:\n",
    "    raise ValueError(\"Training type {} not found\".format(config[\"training_type\"]))\n",
    "    \n",
    "# Print the model name and metric to monitor as logging\n",
    "print(\"Model is: {}\".format(model.__class__.__name__))\n"
   ]
  },
  {
   "cell_type": "code",
   "execution_count": 4,
   "metadata": {
    "execution": {
     "iopub.execute_input": "2023-08-10T16:02:10.926235Z",
     "iopub.status.busy": "2023-08-10T16:02:10.925469Z",
     "iopub.status.idle": "2023-08-10T16:02:10.939755Z",
     "shell.execute_reply": "2023-08-10T16:02:10.939286Z",
     "shell.execute_reply.started": "2023-08-10T16:02:10.926210Z"
    }
   },
   "outputs": [
    {
     "name": "stdout",
     "output_type": "stream",
     "text": [
      "Criterion is:  MultiClassNPairLoss()\n",
      "Optimizer is MADGRAD (\n",
      "Parameter Group 0\n",
      "    eps: 1e-06\n",
      "    k: 0\n",
      "    lr: 0.05\n",
      "    momentum: 0.9\n",
      "    weight_decay: 0.5\n",
      ")\n"
     ]
    }
   ],
   "source": [
    "# If given a task, then get a specific criterion\n",
    "if in_config(\"contrastive\", config, None):\n",
    "    if config[\"contrastive\"] == \"max_margin\":\n",
    "        criterion = ContrastiveLossWithPosNegPairs()\n",
    "    elif config[\"contrastive\"] == \"npair\":\n",
    "        criterion = MultiClassNPairLoss()\n",
    "    else:\n",
    "        raise ValueError(\"Contrastive loss {} not found\".format(config[\"contrastive\"]))\n",
    "else:\n",
    "    if in_config(\"task\", config, None) == \"classification\":\n",
    "        criterion = negative_log_likelihood_loss\n",
    "    elif in_config(\"task\", config, None) == \"regression_angles\" or in_config(\"task\", config, None) == \"regression_coords\":\n",
    "        criterion = MSE_loss\n",
    "    else: # If no task is given, then we need to load one according to the evaluation metric\n",
    "        criterion = load_criterion(config['evaluation_metric'], n_gpus=n_gpus)\n",
    "\n",
    "# If weighted loss\n",
    "if \"weights\" in config and config[\"weights\"] is not None:\n",
    "    criterion = loss_funcs.WeightedLoss(torch.tensor(config[\"weights\"]), criterion)\n",
    "    \n",
    "print(\"Criterion is: \", criterion)\n",
    "\n",
    "# Define the optimizer IF WE'RE NOT USING THE LIBRARY\n",
    "if in_config(\"library_opt\", config, None) != None:\n",
    "    # Using MADGRAD\n",
    "    optimizer = optim.MADGRAD(\n",
    "    model.parameters(),\n",
    "    lr=config[\"initial_learning_rate\"],\n",
    "    momentum=0.9,\n",
    "    weight_decay=config[\"decay_factor\"] if in_config(\"decay_factor\", config, None) != None else 0,\n",
    "    eps=1e-6,\n",
    "    )\n",
    "else:\n",
    "    # Optimizer kwargs dictionary\n",
    "    optimizer_kwargs = dict()\n",
    "\n",
    "    # If initial learning rate in config\n",
    "    if \"initial_learning_rate\" in config:\n",
    "        optimizer_kwargs[\"learning_rate\"] = config[\"initial_learning_rate\"]\n",
    "\n",
    "    # Build the optimizer\n",
    "    optimizer = build_optimizer(optimizer_name=config[\"optimizer\"],\n",
    "                                model_parameters=model.parameters(),\n",
    "                                **optimizer_kwargs)\n",
    "\n",
    "print(\"Optimizer is\", optimizer)\n",
    "# Get default collate\n",
    "from torch.utils.data.dataloader import default_collate\n",
    "collate_fn = default_collate\n",
    "\n",
    "# Define the split size\n",
    "proportions = [.75, .10, .15]\n",
    "lengths = [int(p * len(dataset)) for p in proportions]\n",
    "lengths[-1] = len(dataset) - sum(lengths[:-1])\n",
    "\n",
    "# Split the data\n",
    "seed = torch.Generator().manual_seed(42)\n",
    "train_set, val_set, test_set = torch.utils.data.random_split(dataset, lengths, generator=seed)\n",
    "\n",
    "# Define the training loader\n",
    "train_loader = torch.utils.data.DataLoader(train_set,\n",
    "                                            batch_size=config[\"batch_size\"],\n",
    "                                            shuffle=config[\"shuffle_dataset\"],\n",
    "                                            num_workers=n_workers,\n",
    "                                            collate_fn=collate_fn,\n",
    "                                            pin_memory=pin_memory,\n",
    "                                            prefetch_factor=prefetch_factor)    \n",
    "\n",
    "# Define the validation loader\n",
    "val_loader = torch.utils.data.DataLoader(val_set,\n",
    "                                        batch_size=config[\"batch_size\"],\n",
    "                                        shuffle=config[\"shuffle_dataset\"],\n",
    "                                        num_workers=n_workers,\n",
    "                                        collate_fn=collate_fn,\n",
    "                                        pin_memory=pin_memory,\n",
    "                                        prefetch_factor=prefetch_factor)\n",
    "    \n",
    "# Define the test loader\n",
    "test_loader = torch.utils.data.DataLoader(test_set,\n",
    "                                            batch_size=config[\"batch_size\"],\n",
    "                                            shuffle=config[\"shuffle_dataset\"],\n",
    "                                            num_workers=n_workers,\n",
    "                                            collate_fn=collate_fn,\n",
    "                                            pin_memory=pin_memory,\n",
    "                                            prefetch_factor=prefetch_factor)"
   ]
  },
  {
   "cell_type": "code",
   "execution_count": 5,
   "metadata": {
    "execution": {
     "iopub.execute_input": "2023-08-10T16:02:14.505812Z",
     "iopub.status.busy": "2023-08-10T16:02:14.504969Z",
     "iopub.status.idle": "2023-08-10T16:04:21.540515Z",
     "shell.execute_reply": "2023-08-10T16:04:21.539514Z",
     "shell.execute_reply.started": "2023-08-10T16:02:14.505779Z"
    }
   },
   "outputs": [
    {
     "name": "stdout",
     "output_type": "stream",
     "text": [
      "wmfod.shape: torch.Size([32, 45, 128, 178, 115])\n",
      "streamlines.shape: torch.Size([32, 10, 40, 3])\n",
      "labels.shape: torch.Size([32, 10, 39])\n"
     ]
    }
   ],
   "source": [
    "# Get the next batch from the train loader\n",
    "(wmfod, streamlines, labels) = next(iter(train_loader))\n",
    "\n",
    "print(\"wmfod.shape:\", wmfod.shape)\n",
    "print(\"streamlines.shape:\", streamlines.shape)\n",
    "print(\"labels.shape:\", labels.shape)"
   ]
  },
  {
   "cell_type": "code",
   "execution_count": 6,
   "metadata": {
    "execution": {
     "iopub.execute_input": "2023-08-10T16:04:36.845701Z",
     "iopub.status.busy": "2023-08-10T16:04:36.844742Z",
     "iopub.status.idle": "2023-08-10T16:04:37.930842Z",
     "shell.execute_reply": "2023-08-10T16:04:37.930187Z",
     "shell.execute_reply.started": "2023-08-10T16:04:36.845670Z"
    }
   },
   "outputs": [
    {
     "data": {
      "text/plain": [
       "<All keys matched successfully>"
      ]
     },
     "execution_count": 6,
     "metadata": {},
     "output_type": "execute_result"
    }
   ],
   "source": [
    "# Path to the best weights\n",
    "best_weights_path = \"/notebooks/predicted_streamlines/models/resnet_streamlines/resnet_streamlines_best.h5\"\n",
    "# best_weights_path = \"/notebooks/Marmoset_Residual_Training/resnet_streamlines_best.h5\"\n",
    "model.load_state_dict(torch.load(best_weights_path))"
   ]
  },
  {
   "cell_type": "code",
   "execution_count": 7,
   "metadata": {
    "execution": {
     "iopub.execute_input": "2023-08-10T16:04:43.540950Z",
     "iopub.status.busy": "2023-08-10T16:04:43.540132Z",
     "iopub.status.idle": "2023-08-10T16:04:43.549356Z",
     "shell.execute_reply": "2023-08-10T16:04:43.548688Z",
     "shell.execute_reply.started": "2023-08-10T16:04:43.540927Z"
    }
   },
   "outputs": [],
   "source": [
    "# Define the function to get model output\n",
    "def batch_loss(model, wmfod_cube, label, previous_predictions, criterion, original_shape, distributed=False, n_gpus=None, use_amp=False,\n",
    "              training_task=\"classification\", contrastive=False):\n",
    "    \n",
    "    # If number of GPUs\n",
    "    if n_gpus:\n",
    "        \n",
    "        # Cast all the data to float if the task is not classification\n",
    "        if training_task != \"classification\":\n",
    "            wmfod_cube = wmfod_cube.float()\n",
    "            label = label.float()\n",
    "            previous_predictions = previous_predictions.float()\n",
    "\n",
    "        # If not running serially, put the data on the GPU\n",
    "        if not distributed:\n",
    "\n",
    "            # Empty cache\n",
    "            torch.cuda.empty_cache()\n",
    "\n",
    "            # Get all the data on the GPU\n",
    "            wmfod_cube = wmfod_cube.cuda()\n",
    "            label = label.cuda()\n",
    "            previous_predictions = previous_predictions.cuda()\n",
    "            \n",
    "            # Get the model on the GPU\n",
    "            model = model.cuda()\n",
    "    \n",
    "    # Compute the output\n",
    "    if use_amp:\n",
    "        with torch.cuda.amp.autocast():\n",
    "            return _batch_loss(model, wmfod_cube, label, previous_predictions, criterion, training_task, original_shape, contrastive=contrastive)\n",
    "    else:\n",
    "        return _batch_loss(model, wmfod_cube, label, previous_predictions, criterion, training_task, original_shape, contrastive=contrastive)\n",
    "    \n",
    "# Define the batch loss\n",
    "def _batch_loss(model, wmfod_cube, label, previous_predictions, criterion, training_task, original_shape, contrastive=False):\n",
    "        \n",
    "    # Compute the output\n",
    "    predicted_output = model(wmfod_cube, previous_predictions, original_shape)\n",
    "\n",
    "    # Get the batch size\n",
    "    batch_size = label.size(0)\n",
    "    \n",
    "    # Find the loss between the output and the label depending on task\n",
    "    if training_task == \"classification\":\n",
    "        loss = criterion(predicted_output, label)\n",
    "    else:\n",
    "        loss = criterion(predicted_output.float(), label.float())\n",
    "            \n",
    "    # Return the loss\n",
    "    return predicted_output, loss, batch_size\n"
   ]
  },
  {
   "cell_type": "code",
   "execution_count": 8,
   "metadata": {
    "execution": {
     "iopub.execute_input": "2023-08-10T16:04:46.302112Z",
     "iopub.status.busy": "2023-08-10T16:04:46.301267Z",
     "iopub.status.idle": "2023-08-10T16:04:55.131136Z",
     "shell.execute_reply": "2023-08-10T16:04:55.130555Z",
     "shell.execute_reply.started": "2023-08-10T16:04:46.302085Z"
    }
   },
   "outputs": [
    {
     "name": "stdout",
     "output_type": "stream",
     "text": [
      "Predicted label is [[-8.3293748e-04  5.6051939e-45  4.8825863e-29 ... -2.1885492e-13\n",
      "  -3.8260205e-29 -2.3580080e-13]\n",
      " [-8.3300326e-04  5.6051939e-45  4.8825863e-29 ... -2.1885453e-13\n",
      "  -3.8260205e-29 -2.3580080e-13]\n",
      " [-8.3296670e-04  5.6051939e-45  4.8825863e-29 ... -2.1885529e-13\n",
      "  -3.8260205e-29 -2.3580080e-13]\n",
      " ...\n",
      " [-8.3302520e-04  5.6051939e-45  4.8825863e-29 ... -2.1885564e-13\n",
      "  -3.8260205e-29 -2.3580080e-13]\n",
      " [-8.3298661e-04  5.6051939e-45  4.8825863e-29 ... -2.1885476e-13\n",
      "  -3.8260205e-29 -2.3580080e-13]\n",
      " [-8.3296740e-04  5.6051939e-45  4.8825863e-29 ... -2.1885456e-13\n",
      "  -3.8260205e-29 -2.3580080e-13]]\n",
      "Loss is 1.7165520191192627\n"
     ]
    }
   ],
   "source": [
    "# Define indices for the coordinates\n",
    "x_coord = 2\n",
    "y_coord = 3\n",
    "z_coord = 4\n",
    "coordinates = [x_coord, y_coord, z_coord]\n",
    "\n",
    "# Set the model to evaluation\n",
    "model.eval()\n",
    "\n",
    "# Define the kernel size (cube will be 2 * kernel_size) - HYPERPARAMETER\n",
    "kernel_size = cube_size\n",
    "\n",
    "# Get the brain hemisphere\n",
    "brain_hemisphere = get_hemisphere(coordinates, separate_hemisphere, wmfod, kernel_size)\n",
    "\n",
    "# Get the batch size\n",
    "batch_size = brain_hemisphere.shape[0]\n",
    "\n",
    "# Store the previous two predictions, to use as input for the next prediction\n",
    "previous_prediction_1 = torch.randn((batch_size, output_size))\n",
    "previous_prediction_2 = torch.randn((batch_size, output_size))\n",
    "# Concatenate the previous predictions together along dimension 1\n",
    "previous_predictions = torch.cat((previous_prediction_1, previous_prediction_2), dim=1)\n",
    "\n",
    "# Define the indices of the streamlines\n",
    "batch_idx = 0\n",
    "streamline_idx = 1\n",
    "node_idx = 2\n",
    "node_coord_idx = 3\n",
    "\n",
    "# Create predictions array of the same size as what we'd expect (batch size x number of streamlines x number of nodes x output_size)\n",
    "# Note that it's either num_nodes - 1 or not, depending on if we're predicting nodes, or predicting directions/angles\n",
    "predictions_array = np.zeros((batch_size, streamlines.shape[streamline_idx], streamlines.shape[node_idx] - 1, output_size))\n",
    "\n",
    "# Define a streamline and point to overfit to\n",
    "streamline = 0\n",
    "point = 10\n",
    "\n",
    "# List to store the predicted nodes\n",
    "predicted_nodes_array = []\n",
    "\n",
    "# Do this 10k times\n",
    "while True:\n",
    "\n",
    "    # Get the current point from the streamline of all batches\n",
    "    streamline_node = streamlines[:, streamline, point]\n",
    "\n",
    "    # Get the x, y, z coordinate into a list\n",
    "    curr_coord = [streamline_node[:, 0], streamline_node[:, 1], streamline_node[:, 2]]\n",
    "\n",
    "    # Get the current label from all batches\n",
    "    streamline_label = labels[:, streamline, point]\n",
    "\n",
    "    # Get the cube in the wmfod that corresponds to this coordinate\n",
    "    wmfod_cube = grab_cube_around_voxel(image=brain_hemisphere, voxel_coordinates=curr_coord, kernel_size=kernel_size)\n",
    "\n",
    "    # Turn the cube into a tensor\n",
    "    wmfod_cube = torch.from_numpy(wmfod_cube).float()\n",
    "\n",
    "    # Get model output\n",
    "    (predicted_label, loss, batch_size) = batch_loss(model, wmfod_cube, streamline_label, previous_predictions, criterion, \n",
    "                                                        distributed=False, n_gpus=n_gpus, use_amp=False, \n",
    "                                                        original_shape=brain_hemisphere.shape, training_task=config[\"task\"],\n",
    "                                                        contrastive=config[\"contrastive\"])\n",
    "    \n",
    "    print(\"Predicted label is\", predicted_label.cpu().detach().numpy())\n",
    "    print(\"Loss is\", loss.item())\n",
    "\n",
    "    # If the loss is 0, that means we didn't find a valid pair, so we skip this point\n",
    "    if loss == 0:\n",
    "        continue\n",
    "\n",
    "    # Get the prediction for this node as a numpy array\n",
    "    predicted_label = predicted_label.cpu().detach().numpy()\n",
    "\n",
    "    # Add the predicted label to the predictions array\n",
    "    predictions_array[:, streamline, point] = predicted_label\n",
    "\n",
    "    if loss != 0:\n",
    "        break"
   ]
  },
  {
   "cell_type": "code",
   "execution_count": 9,
   "metadata": {
    "execution": {
     "iopub.execute_input": "2023-08-10T16:05:03.652295Z",
     "iopub.status.busy": "2023-08-10T16:05:03.652030Z",
     "iopub.status.idle": "2023-08-10T16:05:03.656398Z",
     "shell.execute_reply": "2023-08-10T16:05:03.655554Z",
     "shell.execute_reply.started": "2023-08-10T16:05:03.652275Z"
    }
   },
   "outputs": [
    {
     "name": "stdout",
     "output_type": "stream",
     "text": [
      "(32, 256)\n",
      "(32,)\n"
     ]
    }
   ],
   "source": [
    "streamline_label = streamline_label.cpu().detach().numpy()\n",
    "labels = streamline_label\n",
    "\n",
    "print(predicted_label.shape)\n",
    "print(labels.shape)"
   ]
  },
  {
   "cell_type": "code",
   "execution_count": 10,
   "metadata": {
    "execution": {
     "iopub.execute_input": "2023-08-10T16:05:05.103268Z",
     "iopub.status.busy": "2023-08-10T16:05:05.102996Z",
     "iopub.status.idle": "2023-08-10T16:05:06.138898Z",
     "shell.execute_reply": "2023-08-10T16:05:06.138331Z",
     "shell.execute_reply.started": "2023-08-10T16:05:05.103248Z"
    }
   },
   "outputs": [
    {
     "name": "stderr",
     "output_type": "stream",
     "text": [
      "/usr/local/lib/python3.9/dist-packages/sklearn/manifold/_t_sne.py:800: FutureWarning: The default initialization in TSNE will change from 'random' to 'pca' in 1.2.\n",
      "  warnings.warn(\n",
      "/usr/local/lib/python3.9/dist-packages/sklearn/manifold/_t_sne.py:810: FutureWarning: The default learning rate in TSNE will change from 200.0 to 'auto' in 1.2.\n",
      "  warnings.warn(\n"
     ]
    }
   ],
   "source": [
    "from sklearn.manifold import TSNE\n",
    "import matplotlib.pyplot as plt\n",
    "\n",
    "tsne = TSNE(n_components=2, random_state=42)\n",
    "tsne_results = tsne.fit_transform(predicted_label)"
   ]
  },
  {
   "cell_type": "code",
   "execution_count": 11,
   "metadata": {
    "execution": {
     "iopub.execute_input": "2023-08-10T16:05:07.809932Z",
     "iopub.status.busy": "2023-08-10T16:05:07.809149Z",
     "iopub.status.idle": "2023-08-10T16:05:08.135391Z",
     "shell.execute_reply": "2023-08-10T16:05:08.134940Z",
     "shell.execute_reply.started": "2023-08-10T16:05:07.809898Z"
    }
   },
   "outputs": [
    {
     "data": {
      "image/png": "[encoded data removed]",
      "text/plain": [
       "<Figure size 1200x800 with 1 Axes>"
      ]
     },
     "metadata": {},
     "output_type": "display_data"
    }
   ],
   "source": [
    "unique_labels = np.unique(labels)\n",
    "plt.figure(figsize=(12, 8))\n",
    "\n",
    "for label in unique_labels:\n",
    "    indices = np.where(labels == label)\n",
    "    plt.scatter(tsne_results[indices, 0], tsne_results[indices, 1], label=label, alpha=0.6)\n",
    "\n",
    "    # Optional: Add text annotation for each point\n",
    "    for idx in indices[0]:\n",
    "        plt.text(tsne_results[idx, 0], tsne_results[idx, 1], str(label), fontsize=9)\n",
    "\n",
    "plt.xlabel('t-SNE Component 1')\n",
    "plt.ylabel('t-SNE Component 2')\n",
    "plt.legend(loc='best')\n",
    "plt.show()\n"
   ]
  }
 ],
 "metadata": {
  "kernelspec": {
   "display_name": "Python 3 (ipykernel)",
   "language": "python",
   "name": "python3"
  },
  "language_info": {
   "codemirror_mode": {
    "name": "ipython",
    "version": 3
   },
   "file_extension": ".py",
   "mimetype": "text/x-python",
   "name": "python",
   "nbconvert_exporter": "python",
   "pygments_lexer": "ipython3",
   "version": "3.9.16"
  }
 },
 "nbformat": 4,
 "nbformat_minor": 4
}
