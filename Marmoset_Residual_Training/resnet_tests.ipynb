{
 "cells": [
  {
   "cell_type": "code",
   "execution_count": 1,
   "metadata": {
    "tags": []
   },
   "outputs": [],
   "source": [
    "from utils import *\n",
    "from models import *\n",
    "from training import *"
   ]
  },
  {
   "cell_type": "code",
   "execution_count": 2,
   "metadata": {
    "tags": []
   },
   "outputs": [],
   "source": [
    "hpc = False\n",
    "labs = False\n",
    "paperspace = True\n",
    "\n",
    "if hpc:\n",
    "    main_data_path = \"/rds/general/user/hsa22/ephemeral/Brain_MINDS/model_data\"\n",
    "    main_logs_path = \"/rds/general/user/hsa22/ephemeral/Brain_MINDS/tract_residuals\"\n",
    "elif labs:\n",
    "    main_data_path = \"/media/hsa22/Expansion/Brain_MINDS/model_data\"\n",
    "    main_logs_path = \"/media/hsa22/Expansion//Brain_MINDS/tract_residuals\"\n",
    "elif paperspace:\n",
    "    main_data_path = \"/notebooks/model_data_w_resize\"\n",
    "    main_logs_path = \"/notebooks/tract_residuals\"\n",
    "else:\n",
    "    main_data_path = \"D:\\\\Brain-MINDS\\\\model_data\"\n",
    "    main_logs_path = \"D:\\\\Brain-MINDS\\\\tract_residuals\"\n",
    "\n",
    "residual_arrays_path = os.path.join(main_logs_path, \"predicted_residuals\")\n",
    "training_log_path = os.path.join(main_logs_path, \"training_logs\", \"resnet_log.csv\")\n",
    "model_filename = os.path.join(main_logs_path, \"models\", \"resnet_model.pt\")"
   ]
  },
  {
   "cell_type": "code",
   "execution_count": 3,
   "metadata": {},
   "outputs": [],
   "source": [
    "# Create the configs dictionary\n",
    "configs = {\n",
    "\n",
    "    ####### Model #######\n",
    "    \"model_name\" : \"resnet\", # Model name\n",
    "    \"input_nc\" : 1, # Number of input channels\n",
    "    \"output_nc\" : 3, # Number of output channels\n",
    "    \"ngf\" : 64, # Number of filters in first conv layer\n",
    "    \"num_blocks\" : 3, # Number of residual blocks\n",
    "    \"norm_layer\" : \"BatchNorm3d\", # Normalization layer\n",
    "    \"use_dropout\" : False, # Dropout layers\n",
    "    \"padding_type\" : \"reflect\", # Padding type\n",
    "    \n",
    "    ####### Training #######\n",
    "    \"n_epochs\" : 100, # Number of epochs\n",
    "    \"loss\" : \"mse_loss\", # Loss function\n",
    "    \"optimizer\" : \"Adam\", # Optimizer\n",
    "    \"evaluation_metric\" : \"MSE_loss\", # Evaluation metric\n",
    "    \"shuffle_dataset\" : True,\n",
    "    \"separate_hemisphere\" : True,\n",
    "    \"save_best\" : True, # Save best model\n",
    "    \"regularized\" : False, # Regularization\n",
    "    \"vae\" : False, # Variational autoencoder\n",
    "\n",
    "    ####### Data #######\n",
    "    \"main_data_path\" : main_data_path, # Data path\n",
    "    \"training_log_path\" : training_log_path, # Training log path\n",
    "    \"model_filename\" : model_filename, # Model filename\n",
    "    \"residual_arrays_path\" : residual_arrays_path, # Path to the residuals array\n",
    "    \"batch_size\" : 16, # Batch size\n",
    "    \"validation_batch_size\" : 1, # Validation batch size\n",
    "    \n",
    "    ####### Parameters #######\n",
    "    \"initial_learning_rate\" : 1e-04, # Initial learning rate\n",
    "    \"early_stopping_patience\": 50, # Early stopping patience\n",
    "    \"decay_patience\": 20, # Learning rate decay patience\n",
    "    \"decay_factor\": 0.5, # Learning rate decay factor\n",
    "    \"min_learning_rate\": 1e-08, # Minimum learning rate\n",
    "    \"save_last_n_models\": 10, # Save last n models\n",
    "\n",
    "    ####### Misc #######\n",
    "    \"skip_val\" : True, # Skip validation\n",
    "\n",
    "}"
   ]
  },
  {
   "cell_type": "code",
   "execution_count": 4,
   "metadata": {},
   "outputs": [],
   "source": [
    "# Define the configuration path and save it as a .json file\n",
    "config_path = os.path.join(\"configs\", configs[\"model_name\"] + \".json\")\n",
    "\n",
    "# Save the configuration\n",
    "dump_json(configs, config_path)"
   ]
  },
  {
   "cell_type": "code",
   "execution_count": null,
   "metadata": {},
   "outputs": [
    {
     "name": "stdout",
     "output_type": "stream",
     "text": [
      "Model is: ResnetEncoder\n",
      "Metric to monitor is: train_loss\n",
      "Scaler is: None\n"
     ]
    }
   ],
   "source": [
    "# Load the configuration\n",
    "configs = load_json(config_path)\n",
    "\n",
    "# Define the metric to monitor based on whether we're skipping val or not\n",
    "if configs[\"skip_val\"]:\n",
    "    metric_to_monitor = \"train_loss\"\n",
    "else:\n",
    "    metric_to_monitor = \"val_loss\"\n",
    "\n",
    "# Define the groups\n",
    "if configs[\"skip_val\"]:\n",
    "    groups = (\"training\",)\n",
    "else:\n",
    "    groups = (\"training\", \"validation\")\n",
    "\n",
    "model_metrics = (configs[\"evaluation_metric\"],)\n",
    "\n",
    "run_pytorch_training(configs, configs[\"model_filename\"], configs[\"training_log_path\"],\n",
    "                     configs[\"residual_arrays_path\"],\n",
    "                     metric_to_monitor=metric_to_monitor,\n",
    "                     bias=None)"
   ]
  },
  {
   "cell_type": "code",
   "execution_count": null,
   "metadata": {},
   "outputs": [],
   "source": []
  }
 ],
 "metadata": {
  "kernelspec": {
   "display_name": "Python 3 (ipykernel)",
   "language": "python",
   "name": "python3"
  },
  "language_info": {
   "codemirror_mode": {
    "name": "ipython",
    "version": 3
   },
   "file_extension": ".py",
   "mimetype": "text/x-python",
   "name": "python",
   "nbconvert_exporter": "python",
   "pygments_lexer": "ipython3",
   "version": "3.9.16"
  }
 },
 "nbformat": 4,
 "nbformat_minor": 4
}
