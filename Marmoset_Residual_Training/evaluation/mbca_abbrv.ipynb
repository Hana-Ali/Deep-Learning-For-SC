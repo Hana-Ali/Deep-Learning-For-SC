{
 "cells": [
  {
   "cell_type": "code",
   "execution_count": 2,
   "metadata": {},
   "outputs": [],
   "source": [
    "import nibabel as nib\n",
    "import numpy as np\n",
    "import os\n",
    "import warnings\n",
    "\n",
    "labs = True\n",
    "if labs:\n",
    "    # Define the path to the tractograms to evaluate\n",
    "    results_path = \"/media/hsa22/Expansion/deeplearning_test/test/test/brain_A6Vb-R01_0104-TT72/regression_points_directions/batch_0\"\n",
    "else:\n",
    "    results_path = \"/mnt/d/deeplearning_test/test/test/brain_A6Vb-R01_0104-TT72/regression_points_directions/batch_0\"\n",
    "\n",
    "# Get the atlas label paths\n",
    "MBCA_labels_path = os.path.join(results_path, \"MBCA_labels.txt\")\n",
    "MBCA_full_labels_path = os.path.join(results_path, \"MBCA_full_labels.txt\")\n",
    "\n",
    "# Possibility to stop warnings\n",
    "warnings.filterwarnings('ignore') "
   ]
  },
  {
   "attachments": {},
   "cell_type": "markdown",
   "metadata": {},
   "source": [
    "## **Load data from the atlases**"
   ]
  },
  {
   "cell_type": "code",
   "execution_count": 5,
   "metadata": {},
   "outputs": [
    {
     "name": "stdout",
     "output_type": "stream",
     "text": [
      "Number of labels in MBCA: 139\n",
      "Number of labels in MBM: 139\n"
     ]
    }
   ],
   "source": [
    "# Function to load MBCA data\n",
    "def load_MBCA_data(path):\n",
    "\n",
    "    # Dictionary to store the results\n",
    "    label_data = {}\n",
    "\n",
    "    # Load data from MBCA and MBM\n",
    "    with open(path, 'r') as file:\n",
    "        for line in file:\n",
    "            # Split each line into columns\n",
    "            columns = line.strip().split(\"\\t\") \n",
    "            # Extract the first column (assuming it's a number) and the last column (label)\n",
    "            number = float(columns[0])\n",
    "            label = columns[-1].strip('\"')\n",
    "\n",
    "            # Capitalize every word in the label\n",
    "            label = label.title()\n",
    "\n",
    "            # Save to dictionary\n",
    "            label_data[number] = label\n",
    "\n",
    "    return label_data\n",
    "\n",
    "# Load the MBCA data\n",
    "MBCA_label_data = load_MBCA_data(MBCA_labels_path)\n",
    "MBCA_label_full_data = load_MBCA_data(MBCA_full_labels_path)\n",
    "    \n",
    "\n",
    "# Print the number of labels\n",
    "print(\"Number of labels in MBCA: {}\".format(len(MBCA_label_data)))\n",
    "print(\"Number of labels in MBM: {}\".format(len(MBCA_label_full_data)))"
   ]
  },
  {
   "cell_type": "code",
   "execution_count": 7,
   "metadata": {},
   "outputs": [
    {
     "name": "stdout",
     "output_type": "stream",
     "text": [
      "                        Full Name Abbreviation\n",
      "0         Areas 1 And 2 Of Cortex         Ar12\n",
      "1               Area 10 Of Cortex         A10C\n",
      "2               Area 11 Of Cortex         A11C\n",
      "3  Area 13 Of Cortex Lateral Part         A13L\n",
      "4   Area 13 Of Cortex Medial Part         A13M\n"
     ]
    }
   ],
   "source": [
    "import pandas as pd\n",
    "\n",
    "# Convert the dictionaries to DataFrame\n",
    "df = pd.DataFrame({\n",
    "    'Full Name': [MBCA_label_full_data[key] for key in MBCA_label_full_data.keys()],\n",
    "    'Abbreviation': [MBCA_label_data[key] for key in MBCA_label_data.keys()]\n",
    "})\n",
    "\n",
    "# Print the DataFrame\n",
    "print(df.head())"
   ]
  },
  {
   "cell_type": "code",
   "execution_count": 8,
   "metadata": {},
   "outputs": [],
   "source": [
    "# Save the DataFrame to a CSV file\n",
    "df.to_csv('mbca_abbrv.csv', index=False)"
   ]
  }
 ],
 "metadata": {
  "kernelspec": {
   "display_name": "diss",
   "language": "python",
   "name": "python3"
  },
  "language_info": {
   "codemirror_mode": {
    "name": "ipython",
    "version": 3
   },
   "file_extension": ".py",
   "mimetype": "text/x-python",
   "name": "python",
   "nbconvert_exporter": "python",
   "pygments_lexer": "ipython3",
   "version": "3.11.4"
  },
  "orig_nbformat": 4
 },
 "nbformat": 4,
 "nbformat_minor": 2
}
