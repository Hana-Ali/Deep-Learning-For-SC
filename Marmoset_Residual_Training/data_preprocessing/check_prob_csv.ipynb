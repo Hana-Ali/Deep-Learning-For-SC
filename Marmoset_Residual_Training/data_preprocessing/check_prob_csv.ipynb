{
 "cells": [
  {
   "cell_type": "code",
   "execution_count": 9,
   "metadata": {},
   "outputs": [],
   "source": [
    "import numpy as np\n",
    "import os\n",
    "from py_helpers import *\n",
    "import matplotlib.pyplot as plt\n",
    "\n",
    "data_path = \"/media/hsa22/Expansion/Brain-MINDS/processed_dMRI/MRTRIX/connectomes_MBCA_tracer\""
   ]
  },
  {
   "cell_type": "code",
   "execution_count": 10,
   "metadata": {},
   "outputs": [
    {
     "name": "stdout",
     "output_type": "stream",
     "text": [
      "Found 52 csv files\n"
     ]
    }
   ],
   "source": [
    "csv_files = glob_files(data_path, \"csv\")\n",
    "# csv_files = [csv_file for csv_file in csv_files if \"connectomes_MBCA\" in csv_file and \"flipped\" in csv_file]\n",
    "print(\"Found {} csv files\".format(len(csv_files)))"
   ]
  },
  {
   "cell_type": "code",
   "execution_count": 11,
   "metadata": {},
   "outputs": [
    {
     "name": "stdout",
     "output_type": "stream",
     "text": [
      "(139, 139)\n"
     ]
    }
   ],
   "source": [
    "loaded_csv = []\n",
    "\n",
    "for i in range(len(csv_files)):\n",
    "    loaded_csv.append(np.genfromtxt(csv_files[i], delimiter=','))\n",
    "\n",
    "print(loaded_csv[0].shape)"
   ]
  },
  {
   "cell_type": "code",
   "execution_count": 13,
   "metadata": {},
   "outputs": [
    {
     "data": {
      "text/plain": [
       "<matplotlib.image.AxesImage at 0x7fb1fc4ebe80>"
      ]
     },
     "execution_count": 13,
     "metadata": {},
     "output_type": "execute_result"
    },
    {
     "data": {
      "image/png": "[encoded data removed]",
      "text/plain": [
       "<Figure size 640x480 with 1 Axes>"
      ]
     },
     "metadata": {},
     "output_type": "display_data"
    }
   ],
   "source": [
    "plt.figure()\n",
    "plt.imshow(loaded_csv[1], interpolation='nearest', aspect='equal', cmap='jet')"
   ]
  },
  {
   "cell_type": "code",
   "execution_count": null,
   "metadata": {},
   "outputs": [],
   "source": [
    "tck_path = \"/media/hsa22/Expansion/Brain-MINDS/combined_streamlines/combined_track.tck\"\n",
    "atlas_reg_path = \"/media/hsa22/Expansion/Brain-MINDS/BMCR_STPT_template/Atlases/registered_atlas_integer.nii.gz\"\n",
    "connectome_path = \"/media/hsa22/Expansion/Brain-MINDS/combined_streamlines/combined_track.csv\"\n",
    "\n",
    "CONNECTIVITY_PROB_CMD = \"tck2connectome {input} {atlas} {output} -zero_diagonal -symmetric \\\n",
    "-assignment_all_voxels -force\".format(input=tck_path, atlas=atlas_reg_path, output=connectome_path)\n",
    "\n",
    "# Run the command\n",
    "print(\"Running: {}\".format(CONNECTIVITY_PROB_CMD))\n",
    "subprocess.run(CONNECTIVITY_PROB_CMD, shell=True, check=True)\n",
    "\n",
    "connectome_path = \"/media/hsa22/Expansion/Brain-MINDS/combined_streamlines/combined_track.csv\"\n",
    "connectome2_path = \"/media/hsa22/Expansion/Brain-MINDS/combined_streamlines/combined_tracer_streamlines.csv\"\n",
    "connectome = np.genfromtxt(connectome_path, delimiter=\",\")\n",
    "\n",
    "plt.figure()\n",
    "plt.imshow(connectome)"
   ]
  }
 ],
 "metadata": {
  "kernelspec": {
   "display_name": "Python 3",
   "language": "python",
   "name": "python3"
  },
  "language_info": {
   "codemirror_mode": {
    "name": "ipython",
    "version": 3
   },
   "file_extension": ".py",
   "mimetype": "text/x-python",
   "name": "python",
   "nbconvert_exporter": "python",
   "pygments_lexer": "ipython3",
   "version": "3.10.12"
  },
  "orig_nbformat": 4
 },
 "nbformat": 4,
 "nbformat_minor": 2
}
