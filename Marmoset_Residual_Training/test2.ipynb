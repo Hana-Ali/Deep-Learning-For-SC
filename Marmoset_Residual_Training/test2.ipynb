{
 "cells": [
  {
   "cell_type": "code",
   "execution_count": 1,
   "metadata": {
    "tags": []
   },
   "outputs": [],
   "source": [
    "from utils import *\n",
    "from models import *\n",
    "from training import *"
   ]
  },
  {
   "cell_type": "code",
   "execution_count": 2,
   "metadata": {
    "tags": []
   },
   "outputs": [],
   "source": [
    "hpc = False\n",
    "labs = False\n",
    "paperspace = True\n",
    "\n",
    "if hpc:\n",
    "    main_data_path = \"/rds/general/user/hsa22/ephemeral/Brain_MINDS/model_data\"\n",
    "    main_logs_path = \"/rds/general/user/hsa22/ephemeral/Brain_MINDS/tract_residuals\"\n",
    "elif labs:\n",
    "    main_data_path = \"/media/hsa22/Expansion/Brain_MINDS/model_data\"\n",
    "    main_logs_path = \"/media/hsa22/Expansion//Brain_MINDS/tract_residuals\"\n",
    "elif paperspace:\n",
    "    main_data_path = \"/notebooks/model_data_w_resize\"\n",
    "    main_logs_path = \"/notebooks/tract_residuals\"\n",
    "else:\n",
    "    main_data_path = \"D:\\\\Brain-MINDS\\\\model_data\"\n",
    "    main_logs_path = \"D:\\\\Brain-MINDS\\\\tract_residuals\"\n",
    "\n",
    "residual_arrays_path = os.path.join(main_logs_path, \"predicted_residuals\")\n",
    "training_log_path = os.path.join(main_logs_path, \"training_logs\", \"resnet_log.csv\")\n",
    "model_filename = os.path.join(main_logs_path, \"models\", \"resnet_model.pt\")"
   ]
  },
  {
   "cell_type": "code",
   "execution_count": 3,
   "metadata": {},
   "outputs": [],
   "source": [
    "# Create the configs dictionary\n",
    "configs = {\n",
    "\n",
    "    ####### Model #######\n",
    "    \"model_name\" : \"resnet\", # Model name\n",
    "    \"input_nc\" : 1, # Number of input channels\n",
    "    \"output_nc\" : 3, # Number of output channels\n",
    "    \"ngf\" : 64, # Number of filters in first conv layer\n",
    "    \"num_blocks\" : 3, # Number of residual blocks\n",
    "    \"norm_layer\" : \"BatchNorm3d\", # Normalization layer\n",
    "    \"use_dropout\" : False, # Dropout layers\n",
    "    \"padding_type\" : \"reflect\", # Padding type\n",
    "    \n",
    "    ####### Training #######\n",
    "    \"n_epochs\" : 100, # Number of epochs\n",
    "    \"loss\" : \"mse_loss\", # Loss function\n",
    "    \"optimizer\" : \"Adam\", # Optimizer\n",
    "    \"evaluation_metric\" : \"MSE_loss\", # Evaluation metric\n",
    "    \"shuffle_dataset\" : True,\n",
    "    \"separate_hemisphere\" : True,\n",
    "    \"save_best\" : True, # Save best model\n",
    "    \"regularized\" : False, # Regularization\n",
    "    \"vae\" : False, # Variational autoencoder\n",
    "\n",
    "    ####### Data #######\n",
    "    \"main_data_path\" : main_data_path, # Data path\n",
    "    \"training_log_path\" : training_log_path, # Training log path\n",
    "    \"model_filename\" : model_filename, # Model filename\n",
    "    \"residual_arrays_path\" : residual_arrays_path, # Path to the residuals array\n",
    "    \"batch_size\" : 16, # Batch size\n",
    "    \"validation_batch_size\" : 1, # Validation batch size\n",
    "    \n",
    "    ####### Parameters #######\n",
    "    \"initial_learning_rate\" : 1e-04, # Initial learning rate\n",
    "    \"early_stopping_patience\": 50, # Early stopping patience\n",
    "    \"decay_patience\": 20, # Learning rate decay patience\n",
    "    \"decay_factor\": 0.5, # Learning rate decay factor\n",
    "    \"min_learning_rate\": 1e-08, # Minimum learning rate\n",
    "    \"save_last_n_models\": 10, # Save last n models\n",
    "\n",
    "    ####### Misc #######\n",
    "    \"skip_val\" : True, # Skip validation\n",
    "\n",
    "}"
   ]
  },
  {
   "cell_type": "code",
   "execution_count": 4,
   "metadata": {},
   "outputs": [],
   "source": [
    "# Define the configuration path and save it as a .json file\n",
    "config_path = os.path.join(\"configs\", configs[\"model_name\"] + \".json\")\n",
    "\n",
    "# Save the configuration\n",
    "dump_json(configs, config_path)"
   ]
  },
  {
   "cell_type": "code",
   "execution_count": 5,
   "metadata": {},
   "outputs": [
    {
     "name": "stdout",
     "output_type": "stream",
     "text": [
      "Model is: ResnetEncoder\n",
      "Metric to monitor is: train_loss\n",
      "Doing it in one line gets shape: (8, 8, 8, 256, 3)\n",
      "New shape of injections_tiles is: torch.Size([16, 3, 8, 8, 8])\n",
      "Number of x_centers: (8,), [ 3 11 19 27 35 43 51 59]\n",
      "Number of y_centers: (22,), [  3  11  19  27  35  43  51  59  67  75  83  91  99 107 115 123 131 139\n",
      " 147 155 163 171]\n",
      "Number of z_centers: (14,), [  3  11  19  27  35  43  51  59  67  75  83  91  99 107]\n",
      "Image coordinates shape is: (8, 8, 8, 1, 48)\n"
     ]
    },
    {
     "name": "stderr",
     "output_type": "stream",
     "text": [
      "Exception ignored in: <function _MultiProcessingDataLoaderIter.__del__ at 0x7f91b70a4dc0>\n",
      "Traceback (most recent call last):\n",
      "  File \"/usr/local/lib/python3.9/dist-packages/torch/utils/data/dataloader.py\", line 1510, in __del__\n",
      "    self._shutdown_workers()\n",
      "  File \"/usr/local/lib/python3.9/dist-packages/torch/utils/data/dataloader.py\", line 1474, in _shutdown_workers\n",
      "    w.join(timeout=_utils.MP_STATUS_CHECK_INTERVAL)\n",
      "  File \"/usr/lib/python3.9/multiprocessing/process.py\", line 149, in join\n",
      "    res = self._popen.wait(timeout)\n",
      "  File \"/usr/lib/python3.9/multiprocessing/popen_fork.py\", line 40, in wait\n",
      "    if not wait([self.sentinel], timeout):\n",
      "  File \"/usr/lib/python3.9/multiprocessing/connection.py\", line 931, in wait\n",
      "    ready = selector.select(timeout)\n",
      "  File \"/usr/lib/python3.9/selectors.py\", line 416, in select\n",
      "    fd_event_list = self._selector.poll(timeout)\n",
      "KeyboardInterrupt: \n"
     ]
    },
    {
     "ename": "RuntimeError",
     "evalue": "number of dims don't match in permute",
     "output_type": "error",
     "traceback": [
      "\u001b[0;31m---------------------------------------------------------------------------\u001b[0m",
      "\u001b[0;31mRuntimeError\u001b[0m                              Traceback (most recent call last)",
      "Cell \u001b[0;32mIn [5], line 18\u001b[0m\n\u001b[1;32m     14\u001b[0m     groups \u001b[38;5;241m=\u001b[39m (\u001b[38;5;124m\"\u001b[39m\u001b[38;5;124mtraining\u001b[39m\u001b[38;5;124m\"\u001b[39m, \u001b[38;5;124m\"\u001b[39m\u001b[38;5;124mvalidation\u001b[39m\u001b[38;5;124m\"\u001b[39m)\n\u001b[1;32m     16\u001b[0m model_metrics \u001b[38;5;241m=\u001b[39m (configs[\u001b[38;5;124m\"\u001b[39m\u001b[38;5;124mevaluation_metric\u001b[39m\u001b[38;5;124m\"\u001b[39m],)\n\u001b[0;32m---> 18\u001b[0m \u001b[43mrun_pytorch_training\u001b[49m\u001b[43m(\u001b[49m\u001b[43mconfigs\u001b[49m\u001b[43m,\u001b[49m\u001b[43m \u001b[49m\u001b[43mconfigs\u001b[49m\u001b[43m[\u001b[49m\u001b[38;5;124;43m\"\u001b[39;49m\u001b[38;5;124;43mmodel_filename\u001b[39;49m\u001b[38;5;124;43m\"\u001b[39;49m\u001b[43m]\u001b[49m\u001b[43m,\u001b[49m\u001b[43m \u001b[49m\u001b[43mconfigs\u001b[49m\u001b[43m[\u001b[49m\u001b[38;5;124;43m\"\u001b[39;49m\u001b[38;5;124;43mtraining_log_path\u001b[39;49m\u001b[38;5;124;43m\"\u001b[39;49m\u001b[43m]\u001b[49m\u001b[43m,\u001b[49m\n\u001b[1;32m     19\u001b[0m \u001b[43m                     \u001b[49m\u001b[43mconfigs\u001b[49m\u001b[43m[\u001b[49m\u001b[38;5;124;43m\"\u001b[39;49m\u001b[38;5;124;43mresidual_arrays_path\u001b[39;49m\u001b[38;5;124;43m\"\u001b[39;49m\u001b[43m]\u001b[49m\u001b[43m,\u001b[49m\n\u001b[1;32m     20\u001b[0m \u001b[43m                     \u001b[49m\u001b[43mmetric_to_monitor\u001b[49m\u001b[38;5;241;43m=\u001b[39;49m\u001b[43mmetric_to_monitor\u001b[49m\u001b[43m,\u001b[49m\n\u001b[1;32m     21\u001b[0m \u001b[43m                     \u001b[49m\u001b[43mbias\u001b[49m\u001b[38;5;241;43m=\u001b[39;49m\u001b[38;5;28;43;01mNone\u001b[39;49;00m\u001b[43m)\u001b[49m\n",
      "File \u001b[0;32m/notebooks/Marmoset_Residual_Training/training/pytorch_train.py:271\u001b[0m, in \u001b[0;36mrun_pytorch_training\u001b[0;34m(config, model_filename, training_log_filename, residual_arrays_path, verbose, use_multiprocessing, n_workers, model_name, n_gpus, regularized, test_input, metric_to_monitor, model_metrics, bias, pin_memory, amp, prefetch_factor, **unused_args)\u001b[0m\n\u001b[1;32m    267\u001b[0m metric_to_monitor \u001b[38;5;241m=\u001b[39m \u001b[38;5;124m\"\u001b[39m\u001b[38;5;124mtrain_loss\u001b[39m\u001b[38;5;124m\"\u001b[39m\n\u001b[1;32m    270\u001b[0m \u001b[38;5;66;03m# Train the model\u001b[39;00m\n\u001b[0;32m--> 271\u001b[0m \u001b[43mtrain\u001b[49m\u001b[43m(\u001b[49m\u001b[43mmodel\u001b[49m\u001b[38;5;241;43m=\u001b[39;49m\u001b[43mmodel\u001b[49m\u001b[43m,\u001b[49m\u001b[43m \u001b[49m\u001b[43moptimizer\u001b[49m\u001b[38;5;241;43m=\u001b[39;49m\u001b[43moptimizer\u001b[49m\u001b[43m,\u001b[49m\u001b[43m \u001b[49m\u001b[43mcriterion\u001b[49m\u001b[38;5;241;43m=\u001b[39;49m\u001b[43mcriterion\u001b[49m\u001b[43m,\u001b[49m\u001b[43m \u001b[49m\u001b[43mn_epochs\u001b[49m\u001b[38;5;241;43m=\u001b[39;49m\u001b[43mconfig\u001b[49m\u001b[43m[\u001b[49m\u001b[38;5;124;43m\"\u001b[39;49m\u001b[38;5;124;43mn_epochs\u001b[39;49m\u001b[38;5;124;43m\"\u001b[39;49m\u001b[43m]\u001b[49m\u001b[43m,\u001b[49m\u001b[43m \u001b[49m\u001b[43mverbose\u001b[49m\u001b[38;5;241;43m=\u001b[39;49m\u001b[38;5;28;43mbool\u001b[39;49m\u001b[43m(\u001b[49m\u001b[43mverbose\u001b[49m\u001b[43m)\u001b[49m\u001b[43m,\u001b[49m\n\u001b[1;32m    272\u001b[0m \u001b[43m    \u001b[49m\u001b[43mtraining_loader\u001b[49m\u001b[38;5;241;43m=\u001b[39;49m\u001b[43mtrain_loader\u001b[49m\u001b[43m,\u001b[49m\u001b[43m \u001b[49m\u001b[43mvalidation_loader\u001b[49m\u001b[38;5;241;43m=\u001b[39;49m\u001b[43mval_loader\u001b[49m\u001b[43m,\u001b[49m\u001b[43m \u001b[49m\u001b[43mtest_loader\u001b[49m\u001b[38;5;241;43m=\u001b[39;49m\u001b[43mtest_loader\u001b[49m\u001b[43m,\u001b[49m\u001b[43m \u001b[49m\u001b[43mmodel_filename\u001b[49m\u001b[38;5;241;43m=\u001b[39;49m\u001b[43mmodel_filename\u001b[49m\u001b[43m,\u001b[49m\n\u001b[1;32m    273\u001b[0m \u001b[43m    \u001b[49m\u001b[43mtraining_log_filename\u001b[49m\u001b[38;5;241;43m=\u001b[39;49m\u001b[43mtraining_log_filename\u001b[49m\u001b[43m,\u001b[49m\u001b[43m \u001b[49m\u001b[43mresidual_arrays_path\u001b[49m\u001b[38;5;241;43m=\u001b[39;49m\u001b[43mresidual_arrays_path\u001b[49m\u001b[43m,\u001b[49m\u001b[43m \u001b[49m\n\u001b[1;32m    274\u001b[0m \u001b[43m    \u001b[49m\u001b[43mseparate_hemisphere\u001b[49m\u001b[38;5;241;43m=\u001b[39;49m\u001b[43mconfig\u001b[49m\u001b[43m[\u001b[49m\u001b[38;5;124;43m\"\u001b[39;49m\u001b[38;5;124;43mseparate_hemisphere\u001b[39;49m\u001b[38;5;124;43m\"\u001b[39;49m\u001b[43m]\u001b[49m\u001b[43m,\u001b[49m\u001b[43m \u001b[49m\u001b[43mmetric_to_monitor\u001b[49m\u001b[38;5;241;43m=\u001b[39;49m\u001b[43mmetric_to_monitor\u001b[49m\u001b[43m,\u001b[49m\n\u001b[1;32m    275\u001b[0m \u001b[43m    \u001b[49m\u001b[43mearly_stopping_patience\u001b[49m\u001b[38;5;241;43m=\u001b[39;49m\u001b[43min_config\u001b[49m\u001b[43m(\u001b[49m\u001b[38;5;124;43m\"\u001b[39;49m\u001b[38;5;124;43mearly_stopping_patience\u001b[39;49m\u001b[38;5;124;43m\"\u001b[39;49m\u001b[43m,\u001b[49m\u001b[43m \u001b[49m\u001b[43mconfig\u001b[49m\u001b[43m)\u001b[49m\u001b[43m,\u001b[49m\n\u001b[1;32m    276\u001b[0m \u001b[43m    \u001b[49m\u001b[43msave_best\u001b[49m\u001b[38;5;241;43m=\u001b[39;49m\u001b[43min_config\u001b[49m\u001b[43m(\u001b[49m\u001b[38;5;124;43m\"\u001b[39;49m\u001b[38;5;124;43msave_best\u001b[39;49m\u001b[38;5;124;43m\"\u001b[39;49m\u001b[43m,\u001b[49m\u001b[43m \u001b[49m\u001b[43mconfig\u001b[49m\u001b[43m,\u001b[49m\u001b[43m \u001b[49m\u001b[38;5;28;43;01mFalse\u001b[39;49;00m\u001b[43m)\u001b[49m\u001b[43m,\u001b[49m\n\u001b[1;32m    277\u001b[0m \u001b[43m    \u001b[49m\u001b[43mlearning_rate_decay_patience\u001b[49m\u001b[38;5;241;43m=\u001b[39;49m\u001b[43min_config\u001b[49m\u001b[43m(\u001b[49m\u001b[38;5;124;43m\"\u001b[39;49m\u001b[38;5;124;43mdecay_patience\u001b[39;49m\u001b[38;5;124;43m\"\u001b[39;49m\u001b[43m,\u001b[49m\u001b[43m \u001b[49m\u001b[43mconfig\u001b[49m\u001b[43m)\u001b[49m\u001b[43m,\u001b[49m\n\u001b[1;32m    278\u001b[0m \u001b[43m    \u001b[49m\u001b[43mregularized\u001b[49m\u001b[38;5;241;43m=\u001b[39;49m\u001b[43min_config\u001b[49m\u001b[43m(\u001b[49m\u001b[38;5;124;43m\"\u001b[39;49m\u001b[38;5;124;43mregularized\u001b[39;49m\u001b[38;5;124;43m\"\u001b[39;49m\u001b[43m,\u001b[49m\u001b[43m \u001b[49m\u001b[43mconfig\u001b[49m\u001b[43m,\u001b[49m\u001b[43m \u001b[49m\u001b[43mregularized\u001b[49m\u001b[43m)\u001b[49m\u001b[43m,\u001b[49m\n\u001b[1;32m    279\u001b[0m \u001b[43m    \u001b[49m\u001b[43mn_gpus\u001b[49m\u001b[38;5;241;43m=\u001b[39;49m\u001b[43mn_gpus\u001b[49m\u001b[43m,\u001b[49m\n\u001b[1;32m    280\u001b[0m \u001b[43m    \u001b[49m\u001b[43mvae\u001b[49m\u001b[38;5;241;43m=\u001b[39;49m\u001b[43min_config\u001b[49m\u001b[43m(\u001b[49m\u001b[38;5;124;43m\"\u001b[39;49m\u001b[38;5;124;43mvae\u001b[39;49m\u001b[38;5;124;43m\"\u001b[39;49m\u001b[43m,\u001b[49m\u001b[43m \u001b[49m\u001b[43mconfig\u001b[49m\u001b[43m,\u001b[49m\u001b[43m \u001b[49m\u001b[38;5;28;43;01mFalse\u001b[39;49;00m\u001b[43m)\u001b[49m\u001b[43m,\u001b[49m\n\u001b[1;32m    281\u001b[0m \u001b[43m    \u001b[49m\u001b[43mdecay_factor\u001b[49m\u001b[38;5;241;43m=\u001b[39;49m\u001b[43min_config\u001b[49m\u001b[43m(\u001b[49m\u001b[38;5;124;43m\"\u001b[39;49m\u001b[38;5;124;43mdecay_factor\u001b[39;49m\u001b[38;5;124;43m\"\u001b[39;49m\u001b[43m,\u001b[49m\u001b[43m \u001b[49m\u001b[43mconfig\u001b[49m\u001b[43m)\u001b[49m\u001b[43m,\u001b[49m\n\u001b[1;32m    282\u001b[0m \u001b[43m    \u001b[49m\u001b[43mmin_lr\u001b[49m\u001b[38;5;241;43m=\u001b[39;49m\u001b[43min_config\u001b[49m\u001b[43m(\u001b[49m\u001b[38;5;124;43m\"\u001b[39;49m\u001b[38;5;124;43mmin_learning_rate\u001b[39;49m\u001b[38;5;124;43m\"\u001b[39;49m\u001b[43m,\u001b[49m\u001b[43m \u001b[49m\u001b[43mconfig\u001b[49m\u001b[43m)\u001b[49m\u001b[43m,\u001b[49m\n\u001b[1;32m    283\u001b[0m \u001b[43m    \u001b[49m\u001b[43mlearning_rate_decay_step_size\u001b[49m\u001b[38;5;241;43m=\u001b[39;49m\u001b[43min_config\u001b[49m\u001b[43m(\u001b[49m\u001b[38;5;124;43m\"\u001b[39;49m\u001b[38;5;124;43mdecay_step_size\u001b[39;49m\u001b[38;5;124;43m\"\u001b[39;49m\u001b[43m,\u001b[49m\u001b[43m \u001b[49m\u001b[43mconfig\u001b[49m\u001b[43m)\u001b[49m\u001b[43m,\u001b[49m\n\u001b[1;32m    284\u001b[0m \u001b[43m    \u001b[49m\u001b[43msave_every_n_epochs\u001b[49m\u001b[38;5;241;43m=\u001b[39;49m\u001b[43min_config\u001b[49m\u001b[43m(\u001b[49m\u001b[38;5;124;43m\"\u001b[39;49m\u001b[38;5;124;43msave_every_n_epochs\u001b[39;49m\u001b[38;5;124;43m\"\u001b[39;49m\u001b[43m,\u001b[49m\u001b[43m \u001b[49m\u001b[43mconfig\u001b[49m\u001b[43m)\u001b[49m\u001b[43m,\u001b[49m\n\u001b[1;32m    285\u001b[0m \u001b[43m    \u001b[49m\u001b[43msave_last_n_models\u001b[49m\u001b[38;5;241;43m=\u001b[39;49m\u001b[43min_config\u001b[49m\u001b[43m(\u001b[49m\u001b[38;5;124;43m\"\u001b[39;49m\u001b[38;5;124;43msave_last_n_models\u001b[39;49m\u001b[38;5;124;43m\"\u001b[39;49m\u001b[43m,\u001b[49m\u001b[43m \u001b[49m\u001b[43mconfig\u001b[49m\u001b[43m)\u001b[49m\u001b[43m,\u001b[49m\n\u001b[1;32m    286\u001b[0m \u001b[43m    \u001b[49m\u001b[43mamp\u001b[49m\u001b[38;5;241;43m=\u001b[39;49m\u001b[43mamp\u001b[49m\u001b[43m)\u001b[49m\n",
      "File \u001b[0;32m/notebooks/Marmoset_Residual_Training/training/pytorch_train.py:80\u001b[0m, in \u001b[0;36mtrain\u001b[0;34m(model, optimizer, criterion, n_epochs, training_loader, validation_loader, test_loader, training_log_filename, model_filename, residual_arrays_path, separate_hemisphere, metric_to_monitor, early_stopping_patience, learning_rate_decay_patience, save_best, n_gpus, verbose, regularized, vae, decay_factor, min_lr, learning_rate_decay_step_size, save_every_n_epochs, save_last_n_models, amp)\u001b[0m\n\u001b[1;32m     77\u001b[0m     \u001b[38;5;28;01mbreak\u001b[39;00m\n\u001b[1;32m     79\u001b[0m \u001b[38;5;66;03m# Train the model\u001b[39;00m\n\u001b[0;32m---> 80\u001b[0m loss \u001b[38;5;241m=\u001b[39m \u001b[43mepoch_training\u001b[49m\u001b[43m(\u001b[49m\u001b[43mtraining_loader\u001b[49m\u001b[43m,\u001b[49m\u001b[43m \u001b[49m\u001b[43mmodel\u001b[49m\u001b[43m,\u001b[49m\u001b[43m \u001b[49m\u001b[43mcriterion\u001b[49m\u001b[43m,\u001b[49m\u001b[43m \u001b[49m\u001b[43moptimizer\u001b[49m\u001b[38;5;241;43m=\u001b[39;49m\u001b[43moptimizer\u001b[49m\u001b[43m,\u001b[49m\u001b[43m \u001b[49m\u001b[43mepoch\u001b[49m\u001b[38;5;241;43m=\u001b[39;49m\u001b[43mepoch\u001b[49m\u001b[43m,\u001b[49m\u001b[43m \u001b[49m\n\u001b[1;32m     81\u001b[0m \u001b[43m                      \u001b[49m\u001b[43mresidual_arrays_path\u001b[49m\u001b[38;5;241;43m=\u001b[39;49m\u001b[43mresidual_arrays_path\u001b[49m\u001b[43m,\u001b[49m\u001b[43m \u001b[49m\u001b[43mseparate_hemisphere\u001b[49m\u001b[38;5;241;43m=\u001b[39;49m\u001b[43mseparate_hemisphere\u001b[49m\u001b[43m,\u001b[49m\n\u001b[1;32m     82\u001b[0m \u001b[43m                      \u001b[49m\u001b[43mn_gpus\u001b[49m\u001b[38;5;241;43m=\u001b[39;49m\u001b[43mn_gpus\u001b[49m\u001b[43m,\u001b[49m\u001b[43m \u001b[49m\u001b[43mregularized\u001b[49m\u001b[38;5;241;43m=\u001b[39;49m\u001b[43mregularized\u001b[49m\u001b[43m,\u001b[49m\u001b[43m \u001b[49m\u001b[43mvae\u001b[49m\u001b[38;5;241;43m=\u001b[39;49m\u001b[43mvae\u001b[49m\u001b[43m,\u001b[49m\u001b[43m \u001b[49m\u001b[43mscaler\u001b[49m\u001b[38;5;241;43m=\u001b[39;49m\u001b[43mscaler\u001b[49m\u001b[43m)\u001b[49m\n\u001b[1;32m     84\u001b[0m \u001b[38;5;28;01mtry\u001b[39;00m:\n\u001b[1;32m     85\u001b[0m     training_loader\u001b[38;5;241m.\u001b[39mdataset\u001b[38;5;241m.\u001b[39mon_epoch_end()\n",
      "File \u001b[0;32m/notebooks/Marmoset_Residual_Training/utils/training_utils/training_funcs.py:146\u001b[0m, in \u001b[0;36mepoch_training\u001b[0;34m(train_loader, model, criterion, optimizer, epoch, residual_arrays_path, separate_hemisphere, n_gpus, print_frequency, regularized, print_gpu_memory, vae, scaler)\u001b[0m\n\u001b[1;32m    144\u001b[0m \u001b[38;5;28mprint\u001b[39m(\u001b[38;5;124m\"\u001b[39m\u001b[38;5;124mImage coordinates shape is: \u001b[39m\u001b[38;5;132;01m{}\u001b[39;00m\u001b[38;5;124m\"\u001b[39m\u001b[38;5;241m.\u001b[39mformat(image_coordinates\u001b[38;5;241m.\u001b[39mshape))\n\u001b[1;32m    145\u001b[0m image_coordinates \u001b[38;5;241m=\u001b[39m torch\u001b[38;5;241m.\u001b[39mfrom_numpy(image_coordinates)\u001b[38;5;241m.\u001b[39munsqueeze(\u001b[38;5;241m0\u001b[39m)\u001b[38;5;241m.\u001b[39mfloat()\n\u001b[0;32m--> 146\u001b[0m image_coordinates \u001b[38;5;241m=\u001b[39m \u001b[43mtorch\u001b[49m\u001b[38;5;241;43m.\u001b[39;49m\u001b[43mpermute\u001b[49m\u001b[43m(\u001b[49m\u001b[43mimage_coordinates\u001b[49m\u001b[43m,\u001b[49m\u001b[43m \u001b[49m\u001b[43m(\u001b[49m\u001b[38;5;241;43m0\u001b[39;49m\u001b[43m,\u001b[49m\u001b[43m \u001b[49m\u001b[38;5;241;43m4\u001b[39;49m\u001b[43m,\u001b[49m\u001b[43m \u001b[49m\u001b[38;5;241;43m1\u001b[39;49m\u001b[43m,\u001b[49m\u001b[43m \u001b[49m\u001b[38;5;241;43m2\u001b[39;49m\u001b[43m,\u001b[49m\u001b[43m \u001b[49m\u001b[38;5;241;43m3\u001b[39;49m\u001b[43m)\u001b[49m\u001b[43m)\u001b[49m\n\u001b[1;32m    147\u001b[0m \u001b[38;5;28mprint\u001b[39m(\u001b[38;5;124m\"\u001b[39m\u001b[38;5;124mImage coordinates shape after permuting is: \u001b[39m\u001b[38;5;132;01m{}\u001b[39;00m\u001b[38;5;124m\"\u001b[39m\u001b[38;5;241m.\u001b[39mformat(image_coordinates\u001b[38;5;241m.\u001b[39mshape))\n\u001b[1;32m    149\u001b[0m \u001b[38;5;66;03m# Get the cube in the residual that corresponds to this coordinate\u001b[39;00m\n",
      "\u001b[0;31mRuntimeError\u001b[0m: number of dims don't match in permute"
     ]
    }
   ],
   "source": [
    "# Load the configuration\n",
    "configs = load_json(config_path)\n",
    "\n",
    "# Define the metric to monitor based on whether we're skipping val or not\n",
    "if configs[\"skip_val\"]:\n",
    "    metric_to_monitor = \"train_loss\"\n",
    "else:\n",
    "    metric_to_monitor = \"val_loss\"\n",
    "\n",
    "# Define the groups\n",
    "if configs[\"skip_val\"]:\n",
    "    groups = (\"training\",)\n",
    "else:\n",
    "    groups = (\"training\", \"validation\")\n",
    "\n",
    "model_metrics = (configs[\"evaluation_metric\"],)\n",
    "\n",
    "run_pytorch_training(configs, configs[\"model_filename\"], configs[\"training_log_path\"],\n",
    "                     configs[\"residual_arrays_path\"],\n",
    "                     metric_to_monitor=metric_to_monitor,\n",
    "                     bias=None)"
   ]
  },
  {
   "cell_type": "code",
   "execution_count": null,
   "metadata": {},
   "outputs": [],
   "source": []
  }
 ],
 "metadata": {
  "kernelspec": {
   "display_name": "Python 3 (ipykernel)",
   "language": "python",
   "name": "python3"
  },
  "language_info": {
   "codemirror_mode": {
    "name": "ipython",
    "version": 3
   },
   "file_extension": ".py",
   "mimetype": "text/x-python",
   "name": "python",
   "nbconvert_exporter": "python",
   "pygments_lexer": "ipython3",
   "version": "3.9.16"
  }
 },
 "nbformat": 4,
 "nbformat_minor": 4
}
