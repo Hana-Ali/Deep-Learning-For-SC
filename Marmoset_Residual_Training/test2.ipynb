{
 "cells": [
  {
   "cell_type": "code",
   "execution_count": 1,
<<<<<<< HEAD
   "metadata": {
    "tags": []
   },
=======
   "metadata": {},
>>>>>>> d2d815127215b7b2d0d29b4150a09d943a4f1004
   "outputs": [],
   "source": [
    "from utils import *\n",
    "from models import *\n",
    "from training import *"
   ]
  },
  {
   "cell_type": "code",
   "execution_count": 2,
<<<<<<< HEAD
   "metadata": {
    "tags": []
   },
=======
   "metadata": {},
>>>>>>> d2d815127215b7b2d0d29b4150a09d943a4f1004
   "outputs": [],
   "source": [
    "hpc = False\n",
    "labs = False\n",
<<<<<<< HEAD
    "paperspace = True\n",
=======
    "paperspace = False\n",
>>>>>>> d2d815127215b7b2d0d29b4150a09d943a4f1004
    "\n",
    "if hpc:\n",
    "    main_data_path = \"/rds/general/user/hsa22/ephemeral/Brain_MINDS/model_data\"\n",
    "    main_logs_path = \"/rds/general/user/hsa22/ephemeral/Brain_MINDS/tract_residuals\"\n",
    "elif labs:\n",
    "    main_data_path = \"/media/hsa22/Expansion/Brain_MINDS/model_data\"\n",
    "    main_logs_path = \"/media/hsa22/Expansion//Brain_MINDS/tract_residuals\"\n",
    "elif paperspace:\n",
<<<<<<< HEAD
    "    main_data_path = \"/notebooks/model_data\"\n",
    "    main_logs_path = \"/notebooks/tract_residuals\"\n",
=======
    "    main_data_path = \"/model_data\"\n",
    "    main_logs_path = \"/tract_residuals\"\n",
>>>>>>> d2d815127215b7b2d0d29b4150a09d943a4f1004
    "else:\n",
    "    main_data_path = \"D:\\\\Brain-MINDS\\\\model_data\"\n",
    "    main_logs_path = \"D:\\\\Brain-MINDS\\\\tract_residuals\"\n",
    "\n",
    "training_log_path = os.path.join(main_logs_path, \"training_logs\", \"resnet_log.csv\")\n",
    "model_filename = os.path.join(main_logs_path, \"models\", \"resnet_model.pt\")"
   ]
  },
  {
   "cell_type": "code",
   "execution_count": 3,
   "metadata": {},
   "outputs": [],
   "source": [
    "# Create the configs dictionary\n",
    "configs = {\n",
    "\n",
    "    ####### Model #######\n",
    "    \"model_name\" : \"resnet\", # Model name\n",
    "    \"input_nc\" : 1, # Number of input channels\n",
    "    \"output_nc\" : 1, # Number of output channels\n",
    "    \"ngf\" : 64, # Number of filters in first conv layer\n",
    "    \"num_blocks\" : 6, # Number of residual blocks\n",
    "    \"norm_layer\" : \"BatchNorm3d\", # Normalization layer\n",
    "    \"use_dropout\" : False, # Dropout layers\n",
    "    \"padding_type\" : \"reflect\", # Padding type\n",
    "    \n",
    "    ####### Training #######\n",
    "    \"n_epochs\" : 100, # Number of epochs\n",
    "    \"loss\" : \"mse_loss\", # Loss function\n",
    "    \"optimizer\" : \"Adam\", # Optimizer\n",
<<<<<<< HEAD
    "    \"evaluation_metric\" : \"MSE_loss\", # Evaluation metric\n",
=======
    "    \"evaluation_metric\" : \"mse_loss\", # Evaluation metric\n",
>>>>>>> d2d815127215b7b2d0d29b4150a09d943a4f1004
    "    \"save_best\" : True, # Save best model\n",
    "    \"regularized\" : False, # Regularization\n",
    "    \"vae\" : False, # Variational autoencoder\n",
    "\n",
    "    ####### Data #######\n",
    "    \"main_data_path\" : main_data_path, # Data path\n",
    "    \"training_log_path\" : training_log_path, # Training log path\n",
    "    \"model_filename\" : model_filename, # Model filename\n",
    "    \"batch_size\" : 1, # Batch size\n",
    "    \"validation_batch_size\" : 1, # Validation batch size\n",
    "    \n",
    "    ####### Parameters #######\n",
    "    \"initial_learning_rate\" : 1e-04, # Initial learning rate\n",
    "    \"early_stopping_patience\": 50, # Early stopping patience\n",
    "    \"decay_patience\": 20, # Learning rate decay patience\n",
    "    \"decay_factor\": 0.5, # Learning rate decay factor\n",
    "    \"min_learning_rate\": 1e-08, # Minimum learning rate\n",
    "    \"save_last_n_models\": 10, # Save last n models\n",
    "\n",
    "    ####### Misc #######\n",
    "    \"skip_val\" : True, # Skip validation\n",
    "\n",
    "}"
   ]
  },
  {
   "cell_type": "code",
   "execution_count": 4,
   "metadata": {},
   "outputs": [],
   "source": [
    "# Define the configuration path and save it as a .json file\n",
    "config_path = os.path.join(\"configs\", configs[\"model_name\"] + \".json\")\n",
    "\n",
    "# Save the configuration\n",
    "dump_json(configs, config_path)"
   ]
  },
  {
   "cell_type": "code",
   "execution_count": 5,
   "metadata": {},
   "outputs": [
    {
     "name": "stdout",
     "output_type": "stream",
     "text": [
      "Model is: ResnetEncoder\n",
<<<<<<< HEAD
      "Criterion is: <function mse_loss at 0x7fd9367e65e0>\n",
      "Optimizer is: Adam\n",
      "Shape of image:  torch.Size([1, 1, 128, 356, 230])\n",
      "Epoch [0][  0/104]\tTime  4.402 ( 4.402)\tData  1.638 ( 1.638)\tLoss 1.6989e+04 (1.6989e+04)\n",
      "Shape of image:  torch.Size([1, 1, 128, 356, 230])\n",
      "Epoch [0][  0/104]\tTime  0.277 ( 2.340)\tData  1.638 ( 1.638)\tLoss 1.6905e+04 (1.6947e+04)\n",
      "Shape of image:  torch.Size([1, 1, 128, 356, 230])\n",
      "Epoch [0][  0/104]\tTime  0.283 ( 1.654)\tData  1.638 ( 1.638)\tLoss 1.6859e+04 (1.6917e+04)\n",
      "Shape of image:  torch.Size([1, 1, 128, 356, 230])\n",
      "Epoch [0][  0/104]\tTime  0.279 ( 1.310)\tData  1.638 ( 1.638)\tLoss 1.6822e+04 (1.6894e+04)\n",
      "Shape of image:  torch.Size([1, 1, 128, 356, 230])\n",
      "Epoch [0][  0/104]\tTime  0.282 ( 1.105)\tData  1.638 ( 1.638)\tLoss 1.6795e+04 (1.6874e+04)\n",
      "Shape of image:  torch.Size([1, 1, 128, 356, 230])\n",
      "Epoch [0][  0/104]\tTime  0.282 ( 0.968)\tData  1.638 ( 1.638)\tLoss 1.6752e+04 (1.6854e+04)\n",
      "Shape of image:  torch.Size([1, 1, 128, 356, 230])\n",
      "Epoch [0][  0/104]\tTime  0.279 ( 0.869)\tData  1.638 ( 1.638)\tLoss 1.6713e+04 (1.6834e+04)\n",
      "Shape of image:  torch.Size([1, 1, 128, 356, 230])\n",
      "Epoch [0][  0/104]\tTime  0.281 ( 0.796)\tData  1.638 ( 1.638)\tLoss 1.6673e+04 (1.6814e+04)\n",
      "Shape of image:  torch.Size([1, 1, 128, 356, 230])\n",
      "Epoch [0][  0/104]\tTime  0.280 ( 0.738)\tData  1.638 ( 1.638)\tLoss 1.6633e+04 (1.6794e+04)\n",
      "Shape of image:  torch.Size([1, 1, 128, 356, 230])\n",
      "Epoch [0][  0/104]\tTime  0.284 ( 0.693)\tData  1.638 ( 1.638)\tLoss 1.6595e+04 (1.6774e+04)\n",
      "Shape of image:  torch.Size([1, 1, 128, 356, 230])\n",
      "Epoch [0][  0/104]\tTime  0.280 ( 0.656)\tData  1.638 ( 1.638)\tLoss 1.6560e+04 (1.6754e+04)\n",
      "Shape of image:  torch.Size([1, 1, 128, 356, 230])\n",
      "Epoch [0][  0/104]\tTime  0.287 ( 0.625)\tData  1.638 ( 1.638)\tLoss 1.6525e+04 (1.6735e+04)\n",
      "Shape of image:  torch.Size([1, 1, 128, 356, 230])\n",
      "Epoch [0][  0/104]\tTime  0.279 ( 0.598)\tData  1.638 ( 1.638)\tLoss 1.6486e+04 (1.6716e+04)\n",
      "Shape of image:  torch.Size([1, 1, 128, 356, 230])\n",
      "Epoch [0][  0/104]\tTime  0.288 ( 0.576)\tData  1.638 ( 1.638)\tLoss 1.6451e+04 (1.6697e+04)\n",
      "Shape of image:  torch.Size([1, 1, 128, 356, 230])\n",
      "Epoch [0][  0/104]\tTime  0.282 ( 0.556)\tData  1.638 ( 1.638)\tLoss 1.6419e+04 (1.6678e+04)\n",
      "Shape of image:  torch.Size([1, 1, 128, 356, 230])\n",
      "Epoch [0][  0/104]\tTime  0.280 ( 0.539)\tData  1.638 ( 1.638)\tLoss 1.6389e+04 (1.6660e+04)\n",
      "Shape of image:  torch.Size([1, 1, 128, 356, 230])\n",
      "Epoch [0][  0/104]\tTime  0.284 ( 0.524)\tData  1.638 ( 1.638)\tLoss 1.6357e+04 (1.6643e+04)\n",
      "Shape of image:  torch.Size([1, 1, 128, 356, 230])\n",
      "Epoch [0][  0/104]\tTime  0.282 ( 0.511)\tData  1.638 ( 1.638)\tLoss 1.6326e+04 (1.6625e+04)\n",
      "Shape of image:  torch.Size([1, 1, 128, 356, 230])\n",
      "Epoch [0][  0/104]\tTime  0.292 ( 0.499)\tData  1.638 ( 1.638)\tLoss 1.6294e+04 (1.6608e+04)\n",
      "Shape of image:  torch.Size([1, 1, 128, 356, 230])\n",
      "Epoch [0][  0/104]\tTime  0.282 ( 0.488)\tData  1.638 ( 1.638)\tLoss 1.6261e+04 (1.6590e+04)\n",
      "Shape of image:  torch.Size([1, 1, 128, 356, 230])\n",
      "Epoch [0][  0/104]\tTime  0.284 ( 0.479)\tData  1.638 ( 1.638)\tLoss 1.6226e+04 (1.6573e+04)\n",
      "Shape of image:  torch.Size([1, 1, 128, 356, 230])\n",
      "Epoch [0][  0/104]\tTime  0.281 ( 0.470)\tData  1.638 ( 1.638)\tLoss 1.6190e+04 (1.6555e+04)\n",
      "Shape of image:  torch.Size([1, 1, 128, 356, 230])\n",
      "Epoch [0][  0/104]\tTime  0.280 ( 0.461)\tData  1.638 ( 1.638)\tLoss 1.6156e+04 (1.6538e+04)\n",
      "Shape of image:  torch.Size([1, 1, 128, 356, 230])\n",
      "Epoch [0][  0/104]\tTime  0.283 ( 0.454)\tData  1.638 ( 1.638)\tLoss 1.6121e+04 (1.6521e+04)\n",
      "Shape of image:  torch.Size([1, 1, 128, 356, 230])\n",
      "Epoch [0][  0/104]\tTime  0.282 ( 0.447)\tData  1.638 ( 1.638)\tLoss 1.6088e+04 (1.6503e+04)\n",
      "Shape of image:  torch.Size([1, 1, 128, 356, 230])\n",
      "Epoch [0][  0/104]\tTime  0.285 ( 0.441)\tData  1.638 ( 1.638)\tLoss 1.6056e+04 (1.6486e+04)\n",
      "Shape of image:  torch.Size([1, 1, 128, 356, 230])\n",
      "Epoch [0][  0/104]\tTime  0.280 ( 0.435)\tData  1.638 ( 1.638)\tLoss 1.6024e+04 (1.6469e+04)\n",
      "Shape of image:  torch.Size([1, 1, 128, 356, 230])\n",
      "Epoch [0][  0/104]\tTime  0.285 ( 0.430)\tData  1.638 ( 1.638)\tLoss 1.5991e+04 (1.6452e+04)\n",
      "Shape of image:  torch.Size([1, 1, 128, 356, 230])\n",
      "Epoch [0][  0/104]\tTime  0.281 ( 0.424)\tData  1.638 ( 1.638)\tLoss 1.5950e+04 (1.6435e+04)\n",
      "Shape of image:  torch.Size([1, 1, 128, 356, 230])\n",
      "Epoch [0][  0/104]\tTime  0.280 ( 0.420)\tData  1.638 ( 1.638)\tLoss 1.5912e+04 (1.6417e+04)\n",
      "Shape of image:  torch.Size([1, 1, 128, 356, 230])\n",
      "Epoch [0][  0/104]\tTime  0.278 ( 0.415)\tData  1.638 ( 1.638)\tLoss 1.5972e+04 (1.6403e+04)\n",
      "Shape of image:  torch.Size([1, 1, 128, 356, 230])\n",
      "Epoch [0][  0/104]\tTime  0.282 ( 0.411)\tData  1.638 ( 1.638)\tLoss 1.5927e+04 (1.6388e+04)\n",
      "Shape of image:  torch.Size([1, 1, 128, 356, 230])\n",
      "Epoch [0][  0/104]\tTime  0.277 ( 0.407)\tData  1.638 ( 1.638)\tLoss 1.5870e+04 (1.6372e+04)\n",
      "Shape of image:  torch.Size([1, 1, 128, 356, 230])\n",
      "Epoch [0][  0/104]\tTime  0.282 ( 0.403)\tData  1.638 ( 1.638)\tLoss 1.5800e+04 (1.6356e+04)\n",
      "Shape of image:  torch.Size([1, 1, 128, 356, 230])\n"
     ]
    },
    {
     "ename": "KeyboardInterrupt",
     "evalue": "",
     "output_type": "error",
     "traceback": [
      "\u001b[0;31m---------------------------------------------------------------------------\u001b[0m",
      "\u001b[0;31mKeyboardInterrupt\u001b[0m                         Traceback (most recent call last)",
      "Cell \u001b[0;32mIn [5], line 18\u001b[0m\n\u001b[1;32m     14\u001b[0m     groups \u001b[38;5;241m=\u001b[39m (\u001b[38;5;124m\"\u001b[39m\u001b[38;5;124mtraining\u001b[39m\u001b[38;5;124m\"\u001b[39m, \u001b[38;5;124m\"\u001b[39m\u001b[38;5;124mvalidation\u001b[39m\u001b[38;5;124m\"\u001b[39m)\n\u001b[1;32m     16\u001b[0m model_metrics \u001b[38;5;241m=\u001b[39m (configs[\u001b[38;5;124m\"\u001b[39m\u001b[38;5;124mevaluation_metric\u001b[39m\u001b[38;5;124m\"\u001b[39m],)\n\u001b[0;32m---> 18\u001b[0m \u001b[43mrun_pytorch_training\u001b[49m\u001b[43m(\u001b[49m\u001b[43mconfigs\u001b[49m\u001b[43m,\u001b[49m\u001b[43m \u001b[49m\u001b[43mconfigs\u001b[49m\u001b[43m[\u001b[49m\u001b[38;5;124;43m\"\u001b[39;49m\u001b[38;5;124;43mmodel_filename\u001b[39;49m\u001b[38;5;124;43m\"\u001b[39;49m\u001b[43m]\u001b[49m\u001b[43m,\u001b[49m\u001b[43m \u001b[49m\u001b[43mconfigs\u001b[49m\u001b[43m[\u001b[49m\u001b[38;5;124;43m\"\u001b[39;49m\u001b[38;5;124;43mtraining_log_path\u001b[39;49m\u001b[38;5;124;43m\"\u001b[39;49m\u001b[43m]\u001b[49m\u001b[43m,\u001b[49m\u001b[43m \u001b[49m\n\u001b[1;32m     19\u001b[0m \u001b[43m                     \u001b[49m\u001b[43mmetric_to_monitor\u001b[49m\u001b[38;5;241;43m=\u001b[39;49m\u001b[43mmetric_to_monitor\u001b[49m\u001b[43m,\u001b[49m\n\u001b[1;32m     20\u001b[0m \u001b[43m                     \u001b[49m\u001b[43mbias\u001b[49m\u001b[38;5;241;43m=\u001b[39;49m\u001b[38;5;28;43;01mNone\u001b[39;49;00m\u001b[43m)\u001b[49m\n",
      "File \u001b[0;32m/notebooks/Marmoset_Residual_Training/training/pytorch_train.py:282\u001b[0m, in \u001b[0;36mrun_pytorch_training\u001b[0;34m(config, model_filename, training_log_filename, verbose, use_multiprocessing, n_workers, model_name, n_gpus, regularized, test_input, metric_to_monitor, model_metrics, bias, pin_memory, amp, prefetch_factor, **unused_args)\u001b[0m\n\u001b[1;32m    273\u001b[0m     validation_loader \u001b[38;5;241m=\u001b[39m torch\u001b[38;5;241m.\u001b[39mutils\u001b[38;5;241m.\u001b[39mdata\u001b[38;5;241m.\u001b[39mDataLoader(validation_set,\n\u001b[1;32m    274\u001b[0m                                                     batch_size\u001b[38;5;241m=\u001b[39mconfig[\u001b[38;5;124m\"\u001b[39m\u001b[38;5;124mvalidation_batch_size\u001b[39m\u001b[38;5;124m\"\u001b[39m],\n\u001b[1;32m    275\u001b[0m                                                     shuffle\u001b[38;5;241m=\u001b[39m\u001b[38;5;28;01mFalse\u001b[39;00m,\n\u001b[0;32m   (...)\u001b[0m\n\u001b[1;32m    278\u001b[0m                                                     pin_memory\u001b[38;5;241m=\u001b[39mpin_memory,\n\u001b[1;32m    279\u001b[0m                                                     prefetch_factor\u001b[38;5;241m=\u001b[39mprefetch_factor)\n\u001b[1;32m    281\u001b[0m \u001b[38;5;66;03m# Train the model\u001b[39;00m\n\u001b[0;32m--> 282\u001b[0m \u001b[43mtrain\u001b[49m\u001b[43m(\u001b[49m\u001b[43mmodel\u001b[49m\u001b[38;5;241;43m=\u001b[39;49m\u001b[43mmodel\u001b[49m\u001b[43m,\u001b[49m\u001b[43m \u001b[49m\u001b[43moptimizer\u001b[49m\u001b[38;5;241;43m=\u001b[39;49m\u001b[43moptimizer\u001b[49m\u001b[43m,\u001b[49m\u001b[43m \u001b[49m\u001b[43mcriterion\u001b[49m\u001b[38;5;241;43m=\u001b[39;49m\u001b[43mcriterion\u001b[49m\u001b[43m,\u001b[49m\u001b[43m \u001b[49m\u001b[43mn_epochs\u001b[49m\u001b[38;5;241;43m=\u001b[39;49m\u001b[43mconfig\u001b[49m\u001b[43m[\u001b[49m\u001b[38;5;124;43m\"\u001b[39;49m\u001b[38;5;124;43mn_epochs\u001b[39;49m\u001b[38;5;124;43m\"\u001b[39;49m\u001b[43m]\u001b[49m\u001b[43m,\u001b[49m\u001b[43m \u001b[49m\u001b[43mverbose\u001b[49m\u001b[38;5;241;43m=\u001b[39;49m\u001b[38;5;28;43mbool\u001b[39;49m\u001b[43m(\u001b[49m\u001b[43mverbose\u001b[49m\u001b[43m)\u001b[49m\u001b[43m,\u001b[49m\n\u001b[1;32m    283\u001b[0m \u001b[43m    \u001b[49m\u001b[43mtraining_loader\u001b[49m\u001b[38;5;241;43m=\u001b[39;49m\u001b[43mtrain_loader\u001b[49m\u001b[43m,\u001b[49m\u001b[43m \u001b[49m\u001b[43mvalidation_loader\u001b[49m\u001b[38;5;241;43m=\u001b[39;49m\u001b[43mvalidation_loader\u001b[49m\u001b[43m,\u001b[49m\u001b[43m \u001b[49m\u001b[43mmodel_filename\u001b[49m\u001b[38;5;241;43m=\u001b[39;49m\u001b[43mmodel_filename\u001b[49m\u001b[43m,\u001b[49m\n\u001b[1;32m    284\u001b[0m \u001b[43m    \u001b[49m\u001b[43mtraining_log_filename\u001b[49m\u001b[38;5;241;43m=\u001b[39;49m\u001b[43mtraining_log_filename\u001b[49m\u001b[43m,\u001b[49m\n\u001b[1;32m    285\u001b[0m \u001b[43m    \u001b[49m\u001b[43mmetric_to_monitor\u001b[49m\u001b[38;5;241;43m=\u001b[39;49m\u001b[43mmetric_to_monitor\u001b[49m\u001b[43m,\u001b[49m\n\u001b[1;32m    286\u001b[0m \u001b[43m    \u001b[49m\u001b[43mearly_stopping_patience\u001b[49m\u001b[38;5;241;43m=\u001b[39;49m\u001b[43min_config\u001b[49m\u001b[43m(\u001b[49m\u001b[38;5;124;43m\"\u001b[39;49m\u001b[38;5;124;43mearly_stopping_patience\u001b[39;49m\u001b[38;5;124;43m\"\u001b[39;49m\u001b[43m,\u001b[49m\u001b[43m \u001b[49m\u001b[43mconfig\u001b[49m\u001b[43m)\u001b[49m\u001b[43m,\u001b[49m\n\u001b[1;32m    287\u001b[0m \u001b[43m    \u001b[49m\u001b[43msave_best\u001b[49m\u001b[38;5;241;43m=\u001b[39;49m\u001b[43min_config\u001b[49m\u001b[43m(\u001b[49m\u001b[38;5;124;43m\"\u001b[39;49m\u001b[38;5;124;43msave_best\u001b[39;49m\u001b[38;5;124;43m\"\u001b[39;49m\u001b[43m,\u001b[49m\u001b[43m \u001b[49m\u001b[43mconfig\u001b[49m\u001b[43m,\u001b[49m\u001b[43m \u001b[49m\u001b[38;5;28;43;01mFalse\u001b[39;49;00m\u001b[43m)\u001b[49m\u001b[43m,\u001b[49m\n\u001b[1;32m    288\u001b[0m \u001b[43m    \u001b[49m\u001b[43mlearning_rate_decay_patience\u001b[49m\u001b[38;5;241;43m=\u001b[39;49m\u001b[43min_config\u001b[49m\u001b[43m(\u001b[49m\u001b[38;5;124;43m\"\u001b[39;49m\u001b[38;5;124;43mdecay_patience\u001b[39;49m\u001b[38;5;124;43m\"\u001b[39;49m\u001b[43m,\u001b[49m\u001b[43m \u001b[49m\u001b[43mconfig\u001b[49m\u001b[43m)\u001b[49m\u001b[43m,\u001b[49m\n\u001b[1;32m    289\u001b[0m \u001b[43m    \u001b[49m\u001b[43mregularized\u001b[49m\u001b[38;5;241;43m=\u001b[39;49m\u001b[43min_config\u001b[49m\u001b[43m(\u001b[49m\u001b[38;5;124;43m\"\u001b[39;49m\u001b[38;5;124;43mregularized\u001b[39;49m\u001b[38;5;124;43m\"\u001b[39;49m\u001b[43m,\u001b[49m\u001b[43m \u001b[49m\u001b[43mconfig\u001b[49m\u001b[43m,\u001b[49m\u001b[43m \u001b[49m\u001b[43mregularized\u001b[49m\u001b[43m)\u001b[49m\u001b[43m,\u001b[49m\n\u001b[1;32m    290\u001b[0m \u001b[43m    \u001b[49m\u001b[43mn_gpus\u001b[49m\u001b[38;5;241;43m=\u001b[39;49m\u001b[43mn_gpus\u001b[49m\u001b[43m,\u001b[49m\n\u001b[1;32m    291\u001b[0m \u001b[43m    \u001b[49m\u001b[43mvae\u001b[49m\u001b[38;5;241;43m=\u001b[39;49m\u001b[43min_config\u001b[49m\u001b[43m(\u001b[49m\u001b[38;5;124;43m\"\u001b[39;49m\u001b[38;5;124;43mvae\u001b[39;49m\u001b[38;5;124;43m\"\u001b[39;49m\u001b[43m,\u001b[49m\u001b[43m \u001b[49m\u001b[43mconfig\u001b[49m\u001b[43m,\u001b[49m\u001b[43m \u001b[49m\u001b[38;5;28;43;01mFalse\u001b[39;49;00m\u001b[43m)\u001b[49m\u001b[43m,\u001b[49m\n\u001b[1;32m    292\u001b[0m \u001b[43m    \u001b[49m\u001b[43mdecay_factor\u001b[49m\u001b[38;5;241;43m=\u001b[39;49m\u001b[43min_config\u001b[49m\u001b[43m(\u001b[49m\u001b[38;5;124;43m\"\u001b[39;49m\u001b[38;5;124;43mdecay_factor\u001b[39;49m\u001b[38;5;124;43m\"\u001b[39;49m\u001b[43m,\u001b[49m\u001b[43m \u001b[49m\u001b[43mconfig\u001b[49m\u001b[43m)\u001b[49m\u001b[43m,\u001b[49m\n\u001b[1;32m    293\u001b[0m \u001b[43m    \u001b[49m\u001b[43mmin_lr\u001b[49m\u001b[38;5;241;43m=\u001b[39;49m\u001b[43min_config\u001b[49m\u001b[43m(\u001b[49m\u001b[38;5;124;43m\"\u001b[39;49m\u001b[38;5;124;43mmin_learning_rate\u001b[39;49m\u001b[38;5;124;43m\"\u001b[39;49m\u001b[43m,\u001b[49m\u001b[43m \u001b[49m\u001b[43mconfig\u001b[49m\u001b[43m)\u001b[49m\u001b[43m,\u001b[49m\n\u001b[1;32m    294\u001b[0m \u001b[43m    \u001b[49m\u001b[43mlearning_rate_decay_step_size\u001b[49m\u001b[38;5;241;43m=\u001b[39;49m\u001b[43min_config\u001b[49m\u001b[43m(\u001b[49m\u001b[38;5;124;43m\"\u001b[39;49m\u001b[38;5;124;43mdecay_step_size\u001b[39;49m\u001b[38;5;124;43m\"\u001b[39;49m\u001b[43m,\u001b[49m\u001b[43m \u001b[49m\u001b[43mconfig\u001b[49m\u001b[43m)\u001b[49m\u001b[43m,\u001b[49m\n\u001b[1;32m    295\u001b[0m \u001b[43m    \u001b[49m\u001b[43msave_every_n_epochs\u001b[49m\u001b[38;5;241;43m=\u001b[39;49m\u001b[43min_config\u001b[49m\u001b[43m(\u001b[49m\u001b[38;5;124;43m\"\u001b[39;49m\u001b[38;5;124;43msave_every_n_epochs\u001b[39;49m\u001b[38;5;124;43m\"\u001b[39;49m\u001b[43m,\u001b[49m\u001b[43m \u001b[49m\u001b[43mconfig\u001b[49m\u001b[43m)\u001b[49m\u001b[43m,\u001b[49m\n\u001b[1;32m    296\u001b[0m \u001b[43m    \u001b[49m\u001b[43msave_last_n_models\u001b[49m\u001b[38;5;241;43m=\u001b[39;49m\u001b[43min_config\u001b[49m\u001b[43m(\u001b[49m\u001b[38;5;124;43m\"\u001b[39;49m\u001b[38;5;124;43msave_last_n_models\u001b[39;49m\u001b[38;5;124;43m\"\u001b[39;49m\u001b[43m,\u001b[49m\u001b[43m \u001b[49m\u001b[43mconfig\u001b[49m\u001b[43m)\u001b[49m\u001b[43m,\u001b[49m\n\u001b[1;32m    297\u001b[0m \u001b[43m    \u001b[49m\u001b[43mamp\u001b[49m\u001b[38;5;241;43m=\u001b[39;49m\u001b[43mamp\u001b[49m\u001b[43m)\u001b[49m\n",
      "File \u001b[0;32m/notebooks/Marmoset_Residual_Training/training/pytorch_train.py:80\u001b[0m, in \u001b[0;36mtrain\u001b[0;34m(model, optimizer, criterion, n_epochs, training_loader, validation_loader, training_log_filename, model_filename, metric_to_monitor, early_stopping_patience, learning_rate_decay_patience, save_best, n_gpus, verbose, regularized, vae, decay_factor, min_lr, learning_rate_decay_step_size, save_every_n_epochs, save_last_n_models, amp)\u001b[0m\n\u001b[1;32m     77\u001b[0m     \u001b[38;5;28;01mbreak\u001b[39;00m\n\u001b[1;32m     79\u001b[0m \u001b[38;5;66;03m# Train the model\u001b[39;00m\n\u001b[0;32m---> 80\u001b[0m loss \u001b[38;5;241m=\u001b[39m \u001b[43mepoch_training\u001b[49m\u001b[43m(\u001b[49m\u001b[43mtraining_loader\u001b[49m\u001b[43m,\u001b[49m\u001b[43m \u001b[49m\u001b[43mmodel\u001b[49m\u001b[43m,\u001b[49m\u001b[43m \u001b[49m\u001b[43mcriterion\u001b[49m\u001b[43m,\u001b[49m\u001b[43m \u001b[49m\u001b[43moptimizer\u001b[49m\u001b[38;5;241;43m=\u001b[39;49m\u001b[43moptimizer\u001b[49m\u001b[43m,\u001b[49m\u001b[43m \u001b[49m\u001b[43mepoch\u001b[49m\u001b[38;5;241;43m=\u001b[39;49m\u001b[43mepoch\u001b[49m\u001b[43m,\u001b[49m\u001b[43m \u001b[49m\u001b[43mn_gpus\u001b[49m\u001b[38;5;241;43m=\u001b[39;49m\u001b[43mn_gpus\u001b[49m\u001b[43m,\u001b[49m\n\u001b[1;32m     81\u001b[0m \u001b[43m                      \u001b[49m\u001b[43mregularized\u001b[49m\u001b[38;5;241;43m=\u001b[39;49m\u001b[43mregularized\u001b[49m\u001b[43m,\u001b[49m\u001b[43m \u001b[49m\u001b[43mvae\u001b[49m\u001b[38;5;241;43m=\u001b[39;49m\u001b[43mvae\u001b[49m\u001b[43m,\u001b[49m\u001b[43m \u001b[49m\u001b[43mscaler\u001b[49m\u001b[38;5;241;43m=\u001b[39;49m\u001b[43mscaler\u001b[49m\u001b[43m)\u001b[49m\n\u001b[1;32m     82\u001b[0m \u001b[38;5;28;01mbreak\u001b[39;00m\n",
      "File \u001b[0;32m/notebooks/Marmoset_Residual_Training/utils/training_utils/training_funcs.py:90\u001b[0m, in \u001b[0;36mepoch_training\u001b[0;34m(train_loader, model, criterion, optimizer, epoch, n_gpus, print_frequency, regularized, print_gpu_memory, vae, scaler)\u001b[0m\n\u001b[1;32m     87\u001b[0m b0_cube \u001b[38;5;241m=\u001b[39m torch\u001b[38;5;241m.\u001b[39mfrom_numpy(b0_cube)\u001b[38;5;241m.\u001b[39munsqueeze(\u001b[38;5;241m0\u001b[39m)\u001b[38;5;241m.\u001b[39munsqueeze(\u001b[38;5;241m0\u001b[39m)\u001b[38;5;241m.\u001b[39mfloat()\n\u001b[1;32m     89\u001b[0m \u001b[38;5;66;03m# Get the loss and batch size\u001b[39;00m\n\u001b[0;32m---> 90\u001b[0m loss, batch_size \u001b[38;5;241m=\u001b[39m \u001b[43mbatch_loss\u001b[49m\u001b[43m(\u001b[49m\u001b[43mmodel\u001b[49m\u001b[43m,\u001b[49m\u001b[43m \u001b[49m\u001b[43mb0_cube\u001b[49m\u001b[43m,\u001b[49m\u001b[43m \u001b[49m\u001b[43mresidual_voxel\u001b[49m\u001b[43m,\u001b[49m\u001b[43m \u001b[49m\u001b[43minjection_center\u001b[49m\u001b[43m,\u001b[49m\u001b[43m \u001b[49m\u001b[43mcriterion\u001b[49m\u001b[43m,\u001b[49m\n\u001b[1;32m     91\u001b[0m \u001b[43m                                \u001b[49m\u001b[43mn_gpus\u001b[49m\u001b[38;5;241;43m=\u001b[39;49m\u001b[43mn_gpus\u001b[49m\u001b[43m,\u001b[49m\u001b[43m \u001b[49m\u001b[43mregularized\u001b[49m\u001b[38;5;241;43m=\u001b[39;49m\u001b[43mregularized\u001b[49m\u001b[43m,\u001b[49m\u001b[43m \u001b[49m\u001b[43mvae\u001b[49m\u001b[38;5;241;43m=\u001b[39;49m\u001b[43mvae\u001b[49m\u001b[43m,\u001b[49m\u001b[43m \u001b[49m\u001b[43muse_amp\u001b[49m\u001b[38;5;241;43m=\u001b[39;49m\u001b[43muse_amp\u001b[49m\u001b[43m)\u001b[49m\n\u001b[1;32m     93\u001b[0m \u001b[38;5;66;03m# Empty cache\u001b[39;00m\n\u001b[1;32m     94\u001b[0m \u001b[38;5;28;01mif\u001b[39;00m n_gpus:\n",
      "File \u001b[0;32m/notebooks/Marmoset_Residual_Training/utils/training_utils/training_funcs.py:142\u001b[0m, in \u001b[0;36mbatch_loss\u001b[0;34m(model, b0_cube, residual_voxel, injection_center, criterion, n_gpus, regularized, vae, use_amp)\u001b[0m\n\u001b[1;32m    136\u001b[0m \u001b[38;5;28;01mdef\u001b[39;00m \u001b[38;5;21mbatch_loss\u001b[39m(model, b0_cube, residual_voxel, injection_center, criterion, n_gpus\u001b[38;5;241m=\u001b[39m\u001b[38;5;28;01mNone\u001b[39;00m, regularized\u001b[38;5;241m=\u001b[39m\u001b[38;5;28;01mFalse\u001b[39;00m, vae\u001b[38;5;241m=\u001b[39m\u001b[38;5;28;01mFalse\u001b[39;00m, use_amp\u001b[38;5;241m=\u001b[39m\u001b[38;5;28;01mFalse\u001b[39;00m):\n\u001b[1;32m    137\u001b[0m     \n\u001b[1;32m    138\u001b[0m     \u001b[38;5;66;03m# If number of GPUs\u001b[39;00m\n\u001b[1;32m    139\u001b[0m     \u001b[38;5;28;01mif\u001b[39;00m n_gpus:\n\u001b[1;32m    140\u001b[0m         \n\u001b[1;32m    141\u001b[0m         \u001b[38;5;66;03m# Empty cache\u001b[39;00m\n\u001b[0;32m--> 142\u001b[0m         \u001b[43mtorch\u001b[49m\u001b[38;5;241;43m.\u001b[39;49m\u001b[43mcuda\u001b[49m\u001b[38;5;241;43m.\u001b[39;49m\u001b[43mempty_cache\u001b[49m\u001b[43m(\u001b[49m\u001b[43m)\u001b[49m\n\u001b[1;32m    144\u001b[0m         \u001b[38;5;66;03m# Cast all the data to float\u001b[39;00m\n\u001b[1;32m    145\u001b[0m         b0_cube \u001b[38;5;241m=\u001b[39m b0_cube\u001b[38;5;241m.\u001b[39mfloat()\n",
      "File \u001b[0;32m/usr/local/lib/python3.9/dist-packages/torch/cuda/memory.py:121\u001b[0m, in \u001b[0;36mempty_cache\u001b[0;34m()\u001b[0m\n\u001b[1;32m    110\u001b[0m \u001b[38;5;250m\u001b[39m\u001b[38;5;124mr\u001b[39m\u001b[38;5;124;03m\"\"\"Releases all unoccupied cached memory currently held by the caching\u001b[39;00m\n\u001b[1;32m    111\u001b[0m \u001b[38;5;124;03mallocator so that those can be used in other GPU application and visible in\u001b[39;00m\n\u001b[1;32m    112\u001b[0m \u001b[38;5;124;03m`nvidia-smi`.\u001b[39;00m\n\u001b[0;32m   (...)\u001b[0m\n\u001b[1;32m    118\u001b[0m \u001b[38;5;124;03m    more details about GPU memory management.\u001b[39;00m\n\u001b[1;32m    119\u001b[0m \u001b[38;5;124;03m\"\"\"\u001b[39;00m\n\u001b[1;32m    120\u001b[0m \u001b[38;5;28;01mif\u001b[39;00m is_initialized():\n\u001b[0;32m--> 121\u001b[0m     \u001b[43mtorch\u001b[49m\u001b[38;5;241;43m.\u001b[39;49m\u001b[43m_C\u001b[49m\u001b[38;5;241;43m.\u001b[39;49m\u001b[43m_cuda_emptyCache\u001b[49m\u001b[43m(\u001b[49m\u001b[43m)\u001b[49m\n",
      "\u001b[0;31mKeyboardInterrupt\u001b[0m: "
=======
      "Criterion is: <function mse_loss at 0x0000029DB3108670>\n",
      "Optimizer is: Adam\n",
      "Batch: 0\n",
      "B0: torch.Size([1, 1, 256, 356, 230])\n",
      "Residual: torch.Size([1, 1, 256, 356, 230])\n",
      "Is flipped: torch.Size([1])\n",
      "Injection center: torch.Size([1, 3])\n",
      "Residual voxel: 0.0\n",
      "Shape of image:  torch.Size([1, 1, 128, 356, 230])\n",
      "B0 cube shape: (32, 32, 32)\n",
      "B0 cube shape: torch.Size([1, 1, 32, 32, 32])\n"
>>>>>>> d2d815127215b7b2d0d29b4150a09d943a4f1004
     ]
    }
   ],
   "source": [
    "# Load the configuration\n",
    "configs = load_json(config_path)\n",
    "\n",
    "# Define the metric to monitor based on whether we're skipping val or not\n",
    "if configs[\"skip_val\"]:\n",
    "    metric_to_monitor = \"loss\"\n",
    "else:\n",
    "    metric_to_monitor = \"val_loss\"\n",
    "\n",
    "# Define the groups\n",
    "if configs[\"skip_val\"]:\n",
    "    groups = (\"training\",)\n",
    "else:\n",
    "    groups = (\"training\", \"validation\")\n",
    "\n",
    "model_metrics = (configs[\"evaluation_metric\"],)\n",
    "\n",
    "run_pytorch_training(configs, configs[\"model_filename\"], configs[\"training_log_path\"], \n",
    "                     metric_to_monitor=metric_to_monitor,\n",
    "                     bias=None)"
   ]
  },
  {
   "cell_type": "code",
   "execution_count": null,
   "metadata": {},
   "outputs": [],
   "source": []
  }
 ],
 "metadata": {
  "kernelspec": {
<<<<<<< HEAD
   "display_name": "Python 3 (ipykernel)",
=======
   "display_name": "Python 3",
>>>>>>> d2d815127215b7b2d0d29b4150a09d943a4f1004
   "language": "python",
   "name": "python3"
  },
  "language_info": {
   "codemirror_mode": {
    "name": "ipython",
    "version": 3
   },
   "file_extension": ".py",
   "mimetype": "text/x-python",
   "name": "python",
   "nbconvert_exporter": "python",
   "pygments_lexer": "ipython3",
<<<<<<< HEAD
   "version": "3.9.16"
  }
 },
 "nbformat": 4,
 "nbformat_minor": 4
=======
   "version": "3.9.17"
  },
  "orig_nbformat": 4
 },
 "nbformat": 4,
 "nbformat_minor": 2
>>>>>>> d2d815127215b7b2d0d29b4150a09d943a4f1004
}
