{
 "cells": [
  {
   "cell_type": "code",
   "execution_count": 1,
   "metadata": {
    "execution": {
     "iopub.execute_input": "2023-08-07T15:00:29.022685Z",
     "iopub.status.busy": "2023-08-07T15:00:29.022324Z",
     "iopub.status.idle": "2023-08-07T15:00:29.878823Z",
     "shell.execute_reply": "2023-08-07T15:00:29.877174Z",
     "shell.execute_reply.started": "2023-08-07T15:00:29.022659Z"
    }
   },
   "outputs": [
    {
     "name": "stdout",
     "output_type": "stream",
     "text": [
      "Using device: cuda\n"
     ]
    }
   ],
   "source": [
    "from models import EfficientNet3D\n",
    "import torch\n",
    "\n",
    "device = torch.device('cuda' if torch.cuda.is_available() else 'cpu')\n",
    "print('Using device:', device)"
   ]
  },
  {
   "cell_type": "code",
   "execution_count": 2,
   "metadata": {
    "execution": {
     "iopub.execute_input": "2023-08-07T15:00:31.491714Z",
     "iopub.status.busy": "2023-08-07T15:00:31.491014Z",
     "iopub.status.idle": "2023-08-07T15:00:33.075460Z",
     "shell.execute_reply": "2023-08-07T15:00:33.073848Z",
     "shell.execute_reply.started": "2023-08-07T15:00:31.491678Z"
    }
   },
   "outputs": [
    {
     "name": "stdout",
     "output_type": "stream",
     "text": [
      "inputs shape torch.Size([8, 45, 6, 6, 6])\n",
      "labels shape torch.Size([8])\n"
     ]
    }
   ],
   "source": [
    "batch_size = 8\n",
    "inputs_shape = (batch_size, 45, 6, 6, 6)\n",
    "labels_shape = (batch_size,)\n",
    "inputs = torch.randn(inputs_shape).to(device)\n",
    "labels = torch.randint(low=0, high=26, size=labels_shape).to(device)\n",
    "\n",
    "cnn_flattened_size = inputs_shape[1] * inputs_shape[2] * inputs_shape[3] * inputs_shape[4]\n",
    "\n",
    "print(\"inputs shape\", inputs.shape)\n",
    "print(\"labels shape\", labels.shape)"
   ]
  },
  {
   "cell_type": "code",
   "execution_count": 4,
   "metadata": {
    "execution": {
     "iopub.execute_input": "2023-08-07T15:01:37.724237Z",
     "iopub.status.busy": "2023-08-07T15:01:37.723426Z",
     "iopub.status.idle": "2023-08-07T15:01:37.777758Z",
     "shell.execute_reply": "2023-08-07T15:01:37.777120Z",
     "shell.execute_reply.started": "2023-08-07T15:01:37.724209Z"
    }
   },
   "outputs": [
    {
     "name": "stdout",
     "output_type": "stream",
     "text": [
      "4741096\n"
     ]
    }
   ],
   "source": [
    "num_classes = 27\n",
    "model = EfficientNet3D.from_name(\"efficientnet-b0\", override_params={'num_classes': num_classes}, \n",
    "                                 in_channels=1, hidden_size=128, task=\"classification\")\n",
    "print(sum([p.numel() for p in model.parameters()]))"
   ]
  },
  {
   "cell_type": "code",
   "execution_count": 6,
   "metadata": {
    "execution": {
     "iopub.execute_input": "2023-08-03T16:51:23.026888Z",
     "iopub.status.busy": "2023-08-03T16:51:23.026066Z",
     "iopub.status.idle": "2023-08-03T16:51:25.232068Z",
     "shell.execute_reply": "2023-08-03T16:51:25.231287Z",
     "shell.execute_reply.started": "2023-08-03T16:51:23.026860Z"
    }
   },
   "outputs": [
    {
     "data": {
      "text/plain": [
       "EfficientNet3D(\n",
       "  (_conv_stem): Conv3dStaticSamePadding(\n",
       "    1, 32, kernel_size=(3, 3, 3), stride=(2, 2, 2), bias=False\n",
       "    (static_padding): ZeroPad2d((0, 1, 0, 1, 0, 1))\n",
       "  )\n",
       "  (_bn0): BatchNorm3d(32, eps=0.001, momentum=0.010000000000000009, affine=True, track_running_stats=True)\n",
       "  (_blocks): ModuleList(\n",
       "    (0): MBConvBlock3D(\n",
       "      (_depthwise_conv): Conv3dStaticSamePadding(\n",
       "        32, 32, kernel_size=(3, 3, 3), stride=[2, 2, 2], groups=32, bias=False\n",
       "        (static_padding): ZeroPad2d((0, 1, 0, 1, 0, 1))\n",
       "      )\n",
       "      (_bn1): BatchNorm3d(32, eps=0.001, momentum=0.010000000000000009, affine=True, track_running_stats=True)\n",
       "      (_se_reduce): Conv3dStaticSamePadding(\n",
       "        32, 8, kernel_size=(1, 1, 1), stride=(1, 1, 1)\n",
       "        (static_padding): Identity()\n",
       "      )\n",
       "      (_se_expand): Conv3dStaticSamePadding(\n",
       "        8, 32, kernel_size=(1, 1, 1), stride=(1, 1, 1)\n",
       "        (static_padding): Identity()\n",
       "      )\n",
       "      (_project_conv): Conv3dStaticSamePadding(\n",
       "        32, 24, kernel_size=(1, 1, 1), stride=(1, 1, 1), bias=False\n",
       "        (static_padding): Identity()\n",
       "      )\n",
       "      (_bn2): BatchNorm3d(24, eps=0.001, momentum=0.010000000000000009, affine=True, track_running_stats=True)\n",
       "      (_swish): MemoryEfficientSwish()\n",
       "    )\n",
       "    (1): MBConvBlock3D(\n",
       "      (_expand_conv): Conv3dStaticSamePadding(\n",
       "        24, 144, kernel_size=(1, 1, 1), stride=(1, 1, 1), bias=False\n",
       "        (static_padding): Identity()\n",
       "      )\n",
       "      (_bn0): BatchNorm3d(144, eps=0.001, momentum=0.010000000000000009, affine=True, track_running_stats=True)\n",
       "      (_depthwise_conv): Conv3dStaticSamePadding(\n",
       "        144, 144, kernel_size=(5, 5, 5), stride=[1, 1, 1], groups=144, bias=False\n",
       "        (static_padding): ZeroPad2d((2, 2, 2, 2, 2, 2))\n",
       "      )\n",
       "      (_bn1): BatchNorm3d(144, eps=0.001, momentum=0.010000000000000009, affine=True, track_running_stats=True)\n",
       "      (_se_reduce): Conv3dStaticSamePadding(\n",
       "        144, 6, kernel_size=(1, 1, 1), stride=(1, 1, 1)\n",
       "        (static_padding): Identity()\n",
       "      )\n",
       "      (_se_expand): Conv3dStaticSamePadding(\n",
       "        6, 144, kernel_size=(1, 1, 1), stride=(1, 1, 1)\n",
       "        (static_padding): Identity()\n",
       "      )\n",
       "      (_project_conv): Conv3dStaticSamePadding(\n",
       "        144, 40, kernel_size=(1, 1, 1), stride=(1, 1, 1), bias=False\n",
       "        (static_padding): Identity()\n",
       "      )\n",
       "      (_bn2): BatchNorm3d(40, eps=0.001, momentum=0.010000000000000009, affine=True, track_running_stats=True)\n",
       "      (_swish): MemoryEfficientSwish()\n",
       "    )\n",
       "    (2): MBConvBlock3D(\n",
       "      (_expand_conv): Conv3dStaticSamePadding(\n",
       "        40, 240, kernel_size=(1, 1, 1), stride=(1, 1, 1), bias=False\n",
       "        (static_padding): Identity()\n",
       "      )\n",
       "      (_bn0): BatchNorm3d(240, eps=0.001, momentum=0.010000000000000009, affine=True, track_running_stats=True)\n",
       "      (_depthwise_conv): Conv3dStaticSamePadding(\n",
       "        240, 240, kernel_size=(5, 5, 5), stride=(1, 1, 1), groups=240, bias=False\n",
       "        (static_padding): ZeroPad2d((2, 2, 2, 2, 2, 2))\n",
       "      )\n",
       "      (_bn1): BatchNorm3d(240, eps=0.001, momentum=0.010000000000000009, affine=True, track_running_stats=True)\n",
       "      (_se_reduce): Conv3dStaticSamePadding(\n",
       "        240, 10, kernel_size=(1, 1, 1), stride=(1, 1, 1)\n",
       "        (static_padding): Identity()\n",
       "      )\n",
       "      (_se_expand): Conv3dStaticSamePadding(\n",
       "        10, 240, kernel_size=(1, 1, 1), stride=(1, 1, 1)\n",
       "        (static_padding): Identity()\n",
       "      )\n",
       "      (_project_conv): Conv3dStaticSamePadding(\n",
       "        240, 40, kernel_size=(1, 1, 1), stride=(1, 1, 1), bias=False\n",
       "        (static_padding): Identity()\n",
       "      )\n",
       "      (_bn2): BatchNorm3d(40, eps=0.001, momentum=0.010000000000000009, affine=True, track_running_stats=True)\n",
       "      (_swish): MemoryEfficientSwish()\n",
       "    )\n",
       "    (3): MBConvBlock3D(\n",
       "      (_expand_conv): Conv3dStaticSamePadding(\n",
       "        40, 240, kernel_size=(1, 1, 1), stride=(1, 1, 1), bias=False\n",
       "        (static_padding): Identity()\n",
       "      )\n",
       "      (_bn0): BatchNorm3d(240, eps=0.001, momentum=0.010000000000000009, affine=True, track_running_stats=True)\n",
       "      (_depthwise_conv): Conv3dStaticSamePadding(\n",
       "        240, 240, kernel_size=(3, 3, 3), stride=[1, 1, 1], groups=240, bias=False\n",
       "        (static_padding): ZeroPad2d((1, 1, 1, 1, 1, 1))\n",
       "      )\n",
       "      (_bn1): BatchNorm3d(240, eps=0.001, momentum=0.010000000000000009, affine=True, track_running_stats=True)\n",
       "      (_se_reduce): Conv3dStaticSamePadding(\n",
       "        240, 10, kernel_size=(1, 1, 1), stride=(1, 1, 1)\n",
       "        (static_padding): Identity()\n",
       "      )\n",
       "      (_se_expand): Conv3dStaticSamePadding(\n",
       "        10, 240, kernel_size=(1, 1, 1), stride=(1, 1, 1)\n",
       "        (static_padding): Identity()\n",
       "      )\n",
       "      (_project_conv): Conv3dStaticSamePadding(\n",
       "        240, 112, kernel_size=(1, 1, 1), stride=(1, 1, 1), bias=False\n",
       "        (static_padding): Identity()\n",
       "      )\n",
       "      (_bn2): BatchNorm3d(112, eps=0.001, momentum=0.010000000000000009, affine=True, track_running_stats=True)\n",
       "      (_swish): MemoryEfficientSwish()\n",
       "    )\n",
       "    (4-5): 2 x MBConvBlock3D(\n",
       "      (_expand_conv): Conv3dStaticSamePadding(\n",
       "        112, 672, kernel_size=(1, 1, 1), stride=(1, 1, 1), bias=False\n",
       "        (static_padding): Identity()\n",
       "      )\n",
       "      (_bn0): BatchNorm3d(672, eps=0.001, momentum=0.010000000000000009, affine=True, track_running_stats=True)\n",
       "      (_depthwise_conv): Conv3dStaticSamePadding(\n",
       "        672, 672, kernel_size=(3, 3, 3), stride=(1, 1, 1), groups=672, bias=False\n",
       "        (static_padding): ZeroPad2d((1, 1, 1, 1, 1, 1))\n",
       "      )\n",
       "      (_bn1): BatchNorm3d(672, eps=0.001, momentum=0.010000000000000009, affine=True, track_running_stats=True)\n",
       "      (_se_reduce): Conv3dStaticSamePadding(\n",
       "        672, 28, kernel_size=(1, 1, 1), stride=(1, 1, 1)\n",
       "        (static_padding): Identity()\n",
       "      )\n",
       "      (_se_expand): Conv3dStaticSamePadding(\n",
       "        28, 672, kernel_size=(1, 1, 1), stride=(1, 1, 1)\n",
       "        (static_padding): Identity()\n",
       "      )\n",
       "      (_project_conv): Conv3dStaticSamePadding(\n",
       "        672, 112, kernel_size=(1, 1, 1), stride=(1, 1, 1), bias=False\n",
       "        (static_padding): Identity()\n",
       "      )\n",
       "      (_bn2): BatchNorm3d(112, eps=0.001, momentum=0.010000000000000009, affine=True, track_running_stats=True)\n",
       "      (_swish): MemoryEfficientSwish()\n",
       "    )\n",
       "    (6): MBConvBlock3D(\n",
       "      (_expand_conv): Conv3dStaticSamePadding(\n",
       "        112, 672, kernel_size=(1, 1, 1), stride=(1, 1, 1), bias=False\n",
       "        (static_padding): Identity()\n",
       "      )\n",
       "      (_bn0): BatchNorm3d(672, eps=0.001, momentum=0.010000000000000009, affine=True, track_running_stats=True)\n",
       "      (_depthwise_conv): Conv3dStaticSamePadding(\n",
       "        672, 672, kernel_size=(5, 5, 5), stride=[1, 1, 1], groups=672, bias=False\n",
       "        (static_padding): ZeroPad2d((2, 2, 2, 2, 2, 2))\n",
       "      )\n",
       "      (_bn1): BatchNorm3d(672, eps=0.001, momentum=0.010000000000000009, affine=True, track_running_stats=True)\n",
       "      (_se_reduce): Conv3dStaticSamePadding(\n",
       "        672, 28, kernel_size=(1, 1, 1), stride=(1, 1, 1)\n",
       "        (static_padding): Identity()\n",
       "      )\n",
       "      (_se_expand): Conv3dStaticSamePadding(\n",
       "        28, 672, kernel_size=(1, 1, 1), stride=(1, 1, 1)\n",
       "        (static_padding): Identity()\n",
       "      )\n",
       "      (_project_conv): Conv3dStaticSamePadding(\n",
       "        672, 192, kernel_size=(1, 1, 1), stride=(1, 1, 1), bias=False\n",
       "        (static_padding): Identity()\n",
       "      )\n",
       "      (_bn2): BatchNorm3d(192, eps=0.001, momentum=0.010000000000000009, affine=True, track_running_stats=True)\n",
       "      (_swish): MemoryEfficientSwish()\n",
       "    )\n",
       "    (7-9): 3 x MBConvBlock3D(\n",
       "      (_expand_conv): Conv3dStaticSamePadding(\n",
       "        192, 1152, kernel_size=(1, 1, 1), stride=(1, 1, 1), bias=False\n",
       "        (static_padding): Identity()\n",
       "      )\n",
       "      (_bn0): BatchNorm3d(1152, eps=0.001, momentum=0.010000000000000009, affine=True, track_running_stats=True)\n",
       "      (_depthwise_conv): Conv3dStaticSamePadding(\n",
       "        1152, 1152, kernel_size=(5, 5, 5), stride=(1, 1, 1), groups=1152, bias=False\n",
       "        (static_padding): ZeroPad2d((2, 2, 2, 2, 2, 2))\n",
       "      )\n",
       "      (_bn1): BatchNorm3d(1152, eps=0.001, momentum=0.010000000000000009, affine=True, track_running_stats=True)\n",
       "      (_se_reduce): Conv3dStaticSamePadding(\n",
       "        1152, 48, kernel_size=(1, 1, 1), stride=(1, 1, 1)\n",
       "        (static_padding): Identity()\n",
       "      )\n",
       "      (_se_expand): Conv3dStaticSamePadding(\n",
       "        48, 1152, kernel_size=(1, 1, 1), stride=(1, 1, 1)\n",
       "        (static_padding): Identity()\n",
       "      )\n",
       "      (_project_conv): Conv3dStaticSamePadding(\n",
       "        1152, 192, kernel_size=(1, 1, 1), stride=(1, 1, 1), bias=False\n",
       "        (static_padding): Identity()\n",
       "      )\n",
       "      (_bn2): BatchNorm3d(192, eps=0.001, momentum=0.010000000000000009, affine=True, track_running_stats=True)\n",
       "      (_swish): MemoryEfficientSwish()\n",
       "    )\n",
       "    (10): MBConvBlock3D(\n",
       "      (_expand_conv): Conv3dStaticSamePadding(\n",
       "        192, 1152, kernel_size=(1, 1, 1), stride=(1, 1, 1), bias=False\n",
       "        (static_padding): Identity()\n",
       "      )\n",
       "      (_bn0): BatchNorm3d(1152, eps=0.001, momentum=0.010000000000000009, affine=True, track_running_stats=True)\n",
       "      (_depthwise_conv): Conv3dStaticSamePadding(\n",
       "        1152, 1152, kernel_size=(3, 3, 3), stride=[1, 1, 1], groups=1152, bias=False\n",
       "        (static_padding): ZeroPad2d((1, 1, 1, 1, 1, 1))\n",
       "      )\n",
       "      (_bn1): BatchNorm3d(1152, eps=0.001, momentum=0.010000000000000009, affine=True, track_running_stats=True)\n",
       "      (_se_reduce): Conv3dStaticSamePadding(\n",
       "        1152, 48, kernel_size=(1, 1, 1), stride=(1, 1, 1)\n",
       "        (static_padding): Identity()\n",
       "      )\n",
       "      (_se_expand): Conv3dStaticSamePadding(\n",
       "        48, 1152, kernel_size=(1, 1, 1), stride=(1, 1, 1)\n",
       "        (static_padding): Identity()\n",
       "      )\n",
       "      (_project_conv): Conv3dStaticSamePadding(\n",
       "        1152, 320, kernel_size=(1, 1, 1), stride=(1, 1, 1), bias=False\n",
       "        (static_padding): Identity()\n",
       "      )\n",
       "      (_bn2): BatchNorm3d(320, eps=0.001, momentum=0.010000000000000009, affine=True, track_running_stats=True)\n",
       "      (_swish): MemoryEfficientSwish()\n",
       "    )\n",
       "  )\n",
       "  (_conv_head): Conv3dStaticSamePadding(\n",
       "    320, 1280, kernel_size=(1, 1, 1), stride=(1, 1, 1), bias=False\n",
       "    (static_padding): Identity()\n",
       "  )\n",
       "  (_bn1): BatchNorm3d(1280, eps=0.001, momentum=0.010000000000000009, affine=True, track_running_stats=True)\n",
       "  (_avg_pooling): AdaptiveAvgPool3d(output_size=1)\n",
       "  (_dropout): Dropout(p=0.2, inplace=False)\n",
       "  (_fc): Linear(in_features=1280, out_features=27, bias=True)\n",
       "  (_swish): MemoryEfficientSwish()\n",
       "  (combination_mlp): TwoInputMLP(\n",
       "    (prev_pred_FC): Sequential(\n",
       "      (0): Linear(in_features=54, out_features=128, bias=True)\n",
       "      (1): ReLU(inplace=True)\n",
       "      (2): BatchNorm1d(128, eps=1e-05, momentum=0.1, affine=True, track_running_stats=True)\n",
       "    )\n",
       "    (cnn_output_FC): Sequential(\n",
       "      (0): Linear(in_features=1280, out_features=128, bias=True)\n",
       "      (1): ReLU(inplace=True)\n",
       "      (2): BatchNorm1d(128, eps=1e-05, momentum=0.1, affine=True, track_running_stats=True)\n",
       "    )\n",
       "    (combo_FC): Sequential(\n",
       "      (0): Linear(in_features=256, out_features=27, bias=True)\n",
       "      (1): ReLU(inplace=True)\n",
       "      (2): BatchNorm1d(27, eps=1e-05, momentum=0.1, affine=True, track_running_stats=True)\n",
       "    )\n",
       "  )\n",
       "  (final_activation): Softmax(dim=1)\n",
       ")"
      ]
     },
     "execution_count": 6,
     "metadata": {},
     "output_type": "execute_result"
    }
   ],
   "source": [
    "model = model.to(device)\n",
    "\n",
    "criterion = torch.nn.CrossEntropyLoss()\n",
    "optimizer = torch.optim.SGD(model.parameters(), lr=0.001, momentum=0.9)\n",
    "\n",
    "model.train()"
   ]
  },
  {
   "cell_type": "code",
   "execution_count": 7,
   "metadata": {
    "execution": {
     "iopub.execute_input": "2023-08-03T16:51:41.912335Z",
     "iopub.status.busy": "2023-08-03T16:51:41.911819Z",
     "iopub.status.idle": "2023-08-03T16:51:41.920476Z",
     "shell.execute_reply": "2023-08-03T16:51:41.919962Z",
     "shell.execute_reply.started": "2023-08-03T16:51:41.912319Z"
    }
   },
   "outputs": [
    {
     "name": "stdout",
     "output_type": "stream",
     "text": [
      "Previous prediction size outside torch.Size([8, 54])\n"
     ]
    }
   ],
   "source": [
    "previous_prediction_1 = torch.randn((batch_size, num_classes))\n",
    "previous_prediction_2 = torch.randn((batch_size, num_classes))\n",
    "# Concatenate the previous predictions together along dimension 2\n",
    "previous_predictions = torch.cat((previous_prediction_1, previous_prediction_2), dim=1).cuda()\n",
    "print(\"Previous prediction size outside\", previous_predictions.shape)"
   ]
  },
  {
   "cell_type": "code",
   "execution_count": 8,
   "metadata": {
    "execution": {
     "iopub.execute_input": "2023-08-03T16:51:43.551632Z",
     "iopub.status.busy": "2023-08-03T16:51:43.550653Z",
     "iopub.status.idle": "2023-08-03T16:51:47.994518Z",
     "shell.execute_reply": "2023-08-03T16:51:47.994008Z",
     "shell.execute_reply.started": "2023-08-03T16:51:43.551603Z"
    }
   },
   "outputs": [
    {
     "name": "stdout",
     "output_type": "stream",
     "text": [
      "[1] loss: 3.300\n",
      "Finished Training\n",
      "torch.Size([8, 27])\n",
      "[[0.00985324 0.2189163  0.01097384 0.04642019 0.00879625 0.00845034\n",
      "  0.0118514  0.00858997 0.01236258 0.2197035  0.00907216 0.00863427\n",
      "  0.01577826 0.0306583  0.07196753 0.00896132 0.0155595  0.00664667\n",
      "  0.14881474 0.00695251 0.01201527 0.03019348 0.02134095 0.02450305\n",
      "  0.00885784 0.01063012 0.01349641]\n",
      " [0.10502825 0.00976233 0.16661155 0.04340981 0.00690355 0.0223591\n",
      "  0.00930132 0.00674165 0.0097025  0.00719425 0.10208821 0.00677642\n",
      "  0.00780932 0.03919661 0.00666501 0.0070331  0.00826254 0.02581845\n",
      "  0.04563837 0.00745029 0.00668522 0.00702182 0.01407475 0.04211587\n",
      "  0.15726662 0.12212791 0.00695522]\n",
      " [0.0699482  0.00900881 0.01020604 0.00576856 0.00800897 0.15810147\n",
      "  0.01079067 0.00782115 0.01125611 0.01452929 0.00826018 0.00786148\n",
      "  0.01032586 0.0078024  0.04689101 0.00976066 0.01116164 0.09367335\n",
      "  0.01970655 0.09793743 0.12182268 0.00814618 0.16097473 0.05569447\n",
      "  0.00806505 0.00723095 0.01924615]\n",
      " [0.01004563 0.03213231 0.0111881  0.00645932 0.09346088 0.03341756\n",
      "  0.0120828  0.0955828  0.26483205 0.0107837  0.00924929 0.00880285\n",
      "  0.20341899 0.0117159  0.00865812 0.01770203 0.01073339 0.02960888\n",
      "  0.00954921 0.02111363 0.00868439 0.00912163 0.00871173 0.00721179\n",
      "  0.0227624  0.03393549 0.00903513]\n",
      " [0.01912888 0.01705653 0.0148454  0.0218589  0.01189956 0.01143161\n",
      "  0.01830531 0.01162051 0.01848411 0.03164648 0.01227281 0.11654098\n",
      "  0.01346083 0.01159266 0.01148839 0.10486677 0.31712973 0.01170936\n",
      "  0.01267077 0.00940535 0.0935716  0.01210342 0.01155953 0.00956926\n",
      "  0.01198288 0.05180969 0.01198864]\n",
      " [0.01224017 0.01600174 0.04428823 0.01806529 0.10659064 0.02028525\n",
      "  0.01472238 0.06451749 0.01636463 0.01138726 0.07902177 0.0107259\n",
      "  0.0123608  0.17676336 0.01054955 0.15797122 0.01307817 0.00825681\n",
      "  0.01163531 0.00863674 0.01058155 0.05821782 0.01061488 0.00878726\n",
      "  0.03241129 0.00986563 0.05605891]\n",
      " [0.00972898 0.00976959 0.01083545 0.00625571 0.00868532 0.00834377\n",
      "  0.25256824 0.05854097 0.01220667 0.01995138 0.00895775 0.04160933\n",
      "  0.00982486 0.00846131 0.07858538 0.00884831 0.02426981 0.04882765\n",
      "  0.00924821 0.05382454 0.01899659 0.14857957 0.03695592 0.06620108\n",
      "  0.0185519  0.01262142 0.00875033]\n",
      " [0.01489864 0.01496083 0.01659304 0.13305506 0.04928549 0.01277737\n",
      "  0.02522704 0.01298851 0.0186929  0.01386048 0.04014731 0.11718527\n",
      "  0.0583305  0.01295737 0.01330591 0.01546086 0.01591865 0.01098367\n",
      "  0.01416241 0.05269856 0.0154399  0.01496299 0.01292035 0.01069578\n",
      "  0.01339354 0.01200837 0.2570892 ]]\n",
      "[0.99999994 1.         1.         0.99999994 0.99999994 1.\n",
      " 1.         1.        ]\n"
     ]
    }
   ],
   "source": [
    "for epoch in range(1):\n",
    "    # zero the parameter gradients\n",
    "    optimizer.zero_grad()\n",
    "\n",
    "    # forward + backward + optimize\n",
    "    outputs = model(inputs, previous_predictions)\n",
    "    loss = criterion(outputs, labels)\n",
    "    loss.backward()\n",
    "    optimizer.step()\n",
    "\n",
    "    # print statistics\n",
    "    print('[%d] loss: %.3f' % (epoch + 1, loss.item()))\n",
    "\n",
    "print('Finished Training')\n",
    "print(outputs.shape)\n",
    "print(outputs.cpu().detach().numpy())\n",
    "print(outputs.cpu().detach().numpy().sum(axis=1))"
   ]
  },
  {
   "cell_type": "code",
   "execution_count": null,
   "metadata": {},
   "outputs": [],
   "source": []
  }
 ],
 "metadata": {
  "kernelspec": {
   "display_name": "Python 3 (ipykernel)",
   "language": "python",
   "name": "python3"
  },
  "language_info": {
   "codemirror_mode": {
    "name": "ipython",
    "version": 3
   },
   "file_extension": ".py",
   "mimetype": "text/x-python",
   "name": "python",
   "nbconvert_exporter": "python",
   "pygments_lexer": "ipython3",
   "version": "3.9.16"
  }
 },
 "nbformat": 4,
 "nbformat_minor": 4
}
