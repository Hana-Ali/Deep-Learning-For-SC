{
 "cells": [
  {
   "cell_type": "code",
   "execution_count": 1,
   "metadata": {
    "execution": {
     "iopub.status.idle": "2023-08-15T23:28:07.799817Z",
     "shell.execute_reply": "2023-08-15T23:28:07.799054Z",
     "shell.execute_reply.started": "2023-08-15T23:28:07.180596Z"
    }
   },
   "outputs": [
    {
     "name": "stdout",
     "output_type": "stream",
     "text": [
      "Using device: cuda\n"
     ]
    }
   ],
   "source": [
    "from models import ConvAutoencoder\n",
    "import torch\n",
    "import numpy as np\n",
    "\n",
    "device = torch.device('cuda' if torch.cuda.is_available() else 'cpu')\n",
    "print('Using device:', device)"
   ]
  },
  {
   "cell_type": "code",
   "execution_count": 2,
   "metadata": {
    "execution": {
     "iopub.execute_input": "2023-08-15T23:28:08.579750Z",
     "iopub.status.busy": "2023-08-15T23:28:08.579251Z",
     "iopub.status.idle": "2023-08-15T23:28:12.065948Z",
     "shell.execute_reply": "2023-08-15T23:28:12.065330Z",
     "shell.execute_reply.started": "2023-08-15T23:28:08.579725Z"
    }
   },
   "outputs": [],
   "source": [
    "input_shape = (2, 45, 5, 5, 5)\n",
    "task = \"regression\"\n",
    "\n",
    "inputs = torch.randn(input_shape).to(device)\n",
    "labels = inputs.clone().detach().to(device)\n",
    "\n",
    "# Define channel depending on depthwise\n",
    "depthwise = True\n",
    "if depthwise:\n",
    "    channels = 1\n",
    "else:\n",
    "    channels = input_shape[1]\n",
    "\n",
    "# Initialize the model\n",
    "model = ConvAutoencoder(channels=channels, depthwise=depthwise).to(device)"
   ]
  },
  {
   "cell_type": "code",
   "execution_count": 3,
   "metadata": {
    "execution": {
     "iopub.execute_input": "2023-08-15T23:28:12.600960Z",
     "iopub.status.busy": "2023-08-15T23:28:12.600154Z",
     "iopub.status.idle": "2023-08-15T23:28:12.608909Z",
     "shell.execute_reply": "2023-08-15T23:28:12.608506Z",
     "shell.execute_reply.started": "2023-08-15T23:28:12.600960Z"
    }
   },
   "outputs": [
    {
     "data": {
      "text/plain": [
       "ConvAutoencoder(\n",
       "  (encoder): Sequential(\n",
       "    (0): ReflectionPad3d((1, 1, 1, 1, 1, 1))\n",
       "    (1): Conv3d(1, 1, kernel_size=(3, 3, 3), stride=(1, 1, 1), padding=(1, 1, 1))\n",
       "    (2): BatchNorm3d(1, eps=1e-05, momentum=0.1, affine=True, track_running_stats=True)\n",
       "    (3): ReLU(inplace=True)\n",
       "    (4): Conv3d(1, 64, kernel_size=(1, 1, 1), stride=(1, 1, 1))\n",
       "    (5): BatchNorm3d(64, eps=1e-05, momentum=0.1, affine=True, track_running_stats=True)\n",
       "    (6): ReLU(inplace=True)\n",
       "    (7): AdaptiveAvgPool3d(output_size=(4, 4, 4))\n",
       "    (8): Conv3d(64, 64, kernel_size=(3, 3, 3), stride=(1, 1, 1), padding=(1, 1, 1))\n",
       "    (9): BatchNorm3d(64, eps=1e-05, momentum=0.1, affine=True, track_running_stats=True)\n",
       "    (10): ReLU(inplace=True)\n",
       "    (11): Conv3d(64, 128, kernel_size=(1, 1, 1), stride=(1, 1, 1))\n",
       "    (12): BatchNorm3d(128, eps=1e-05, momentum=0.1, affine=True, track_running_stats=True)\n",
       "    (13): ReLU(inplace=True)\n",
       "    (14): Conv3d(128, 128, kernel_size=(3, 3, 3), stride=(1, 1, 1), padding=(1, 1, 1))\n",
       "    (15): BatchNorm3d(128, eps=1e-05, momentum=0.1, affine=True, track_running_stats=True)\n",
       "    (16): ReLU(inplace=True)\n",
       "    (17): Conv3d(128, 256, kernel_size=(1, 1, 1), stride=(1, 1, 1))\n",
       "    (18): BatchNorm3d(256, eps=1e-05, momentum=0.1, affine=True, track_running_stats=True)\n",
       "    (19): ReLU(inplace=True)\n",
       "    (20): Conv3d(256, 256, kernel_size=(3, 3, 3), stride=(1, 1, 1), padding=(1, 1, 1))\n",
       "    (21): BatchNorm3d(256, eps=1e-05, momentum=0.1, affine=True, track_running_stats=True)\n",
       "    (22): ReLU(inplace=True)\n",
       "    (23): Conv3d(256, 512, kernel_size=(1, 1, 1), stride=(1, 1, 1))\n",
       "    (24): BatchNorm3d(512, eps=1e-05, momentum=0.1, affine=True, track_running_stats=True)\n",
       "    (25): ReLU(inplace=True)\n",
       "    (26): AdaptiveAvgPool3d(output_size=(1, 1, 1))\n",
       "  )\n",
       "  (final_conv): Conv3d(23040, 512, kernel_size=(3, 3, 3), stride=(1, 1, 1), padding=(1, 1, 1))\n",
       "  (decoder): Sequential(\n",
       "    (0): ConvTranspose3d(512, 512, kernel_size=(3, 3, 3), stride=(1, 1, 1), padding=(1, 1, 1))\n",
       "    (1): BatchNorm3d(512, eps=1e-05, momentum=0.1, affine=True, track_running_stats=True)\n",
       "    (2): ReLU(inplace=True)\n",
       "    (3): ConvTranspose3d(512, 256, kernel_size=(1, 1, 1), stride=(1, 1, 1))\n",
       "    (4): BatchNorm3d(256, eps=1e-05, momentum=0.1, affine=True, track_running_stats=True)\n",
       "    (5): ReLU(inplace=True)\n",
       "    (6): ConvTranspose3d(256, 256, kernel_size=(3, 3, 3), stride=(1, 1, 1), padding=(1, 1, 1))\n",
       "    (7): BatchNorm3d(256, eps=1e-05, momentum=0.1, affine=True, track_running_stats=True)\n",
       "    (8): ReLU(inplace=True)\n",
       "    (9): ConvTranspose3d(256, 128, kernel_size=(1, 1, 1), stride=(1, 1, 1))\n",
       "    (10): BatchNorm3d(128, eps=1e-05, momentum=0.1, affine=True, track_running_stats=True)\n",
       "    (11): ReLU(inplace=True)\n",
       "    (12): ConvTranspose3d(128, 128, kernel_size=(3, 3, 3), stride=(1, 1, 1), padding=(1, 1, 1))\n",
       "    (13): BatchNorm3d(128, eps=1e-05, momentum=0.1, affine=True, track_running_stats=True)\n",
       "    (14): ReLU(inplace=True)\n",
       "    (15): ConvTranspose3d(128, 64, kernel_size=(1, 1, 1), stride=(1, 1, 1))\n",
       "    (16): BatchNorm3d(64, eps=1e-05, momentum=0.1, affine=True, track_running_stats=True)\n",
       "    (17): ReLU(inplace=True)\n",
       "    (18): Upsample(scale_factor=4.0, mode=trilinear)\n",
       "    (19): ConvTranspose3d(64, 1, kernel_size=(3, 3, 3), stride=(1, 1, 1), padding=(1, 1, 1))\n",
       "    (20): BatchNorm3d(1, eps=1e-05, momentum=0.1, affine=True, track_running_stats=True)\n",
       "    (21): ReLU(inplace=True)\n",
       "    (22): Upsample(scale_factor=2.0, mode=trilinear)\n",
       "    (23): Conv3d(1, 1, kernel_size=(4, 4, 4), stride=(1, 1, 1))\n",
       "    (24): BatchNorm3d(1, eps=1e-05, momentum=0.1, affine=True, track_running_stats=True)\n",
       "    (25): ReLU(inplace=True)\n",
       "  )\n",
       ")"
      ]
     },
     "execution_count": 3,
     "metadata": {},
     "output_type": "execute_result"
    }
   ],
   "source": [
    "model = model.to(device)\n",
    "\n",
    "criterion = torch.nn.MSELoss()\n",
    "optimizer = torch.optim.SGD(model.parameters(), lr=0.001, momentum=0.9)\n",
    "\n",
    "model.train()"
   ]
  },
  {
   "cell_type": "code",
   "execution_count": 4,
   "metadata": {
    "execution": {
     "iopub.execute_input": "2023-08-15T23:28:15.068463Z",
     "iopub.status.busy": "2023-08-15T23:28:15.068030Z",
     "iopub.status.idle": "2023-08-15T23:28:17.688993Z",
     "shell.execute_reply": "2023-08-15T23:28:17.688513Z",
     "shell.execute_reply.started": "2023-08-15T23:28:15.068441Z"
    }
   },
   "outputs": [
    {
     "name": "stdout",
     "output_type": "stream",
     "text": [
      "[1] loss: 1.749\n",
      "[2] loss: 1.721\n",
      "Finished Training\n",
      "outputs.shape torch.Size([2, 45, 5, 5, 5])\n"
     ]
    }
   ],
   "source": [
    "for epoch in range(2):\n",
    "    # zero the parameter gradients\n",
    "    optimizer.zero_grad()\n",
    "\n",
    "    # forward + backward + optimize\n",
    "    outputs = model(inputs)\n",
    "    loss = criterion(outputs, labels)\n",
    "    loss.backward()\n",
    "    optimizer.step()\n",
    "\n",
    "    # print statistics\n",
    "    print('[%d] loss: %.3f' % (epoch + 1, loss.item()))\n",
    "\n",
    "print('Finished Training')\n",
    "print(\"outputs.shape\", outputs.shape)"
   ]
  },
  {
   "cell_type": "code",
   "execution_count": 5,
   "metadata": {
    "execution": {
     "iopub.execute_input": "2023-08-15T23:28:18.685697Z",
     "iopub.status.busy": "2023-08-15T23:28:18.684916Z",
     "iopub.status.idle": "2023-08-15T23:28:18.693525Z",
     "shell.execute_reply": "2023-08-15T23:28:18.692902Z",
     "shell.execute_reply.started": "2023-08-15T23:28:18.685672Z"
    }
   },
   "outputs": [
    {
     "name": "stdout",
     "output_type": "stream",
     "text": [
      "torch.Size([2, 45, 5, 5, 5])\n",
      "shape of x is torch.Size([2, 512, 1, 1, 1])\n"
     ]
    },
    {
     "data": {
      "text/plain": [
       "torch.Size([2, 512, 1, 1, 1])"
      ]
     },
     "execution_count": 5,
     "metadata": {},
     "output_type": "execute_result"
    }
   ],
   "source": [
    "print(inputs.shape)\n",
    "encoder_output = model.forward_encoder(inputs)\n",
    "encoder_output.shape"
   ]
  },
  {
   "cell_type": "code",
   "execution_count": null,
   "metadata": {},
   "outputs": [],
   "source": []
  }
 ],
 "metadata": {
  "kernelspec": {
   "display_name": "Python 3 (ipykernel)",
   "language": "python",
   "name": "python3"
  },
  "language_info": {
   "codemirror_mode": {
    "name": "ipython",
    "version": 3
   },
   "file_extension": ".py",
   "mimetype": "text/x-python",
   "name": "python",
   "nbconvert_exporter": "python",
   "pygments_lexer": "ipython3",
   "version": "3.11.0"
  }
 },
 "nbformat": 4,
 "nbformat_minor": 4
}
