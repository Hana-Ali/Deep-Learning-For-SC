{
 "cells": [
  {
   "cell_type": "code",
   "execution_count": 1,
   "metadata": {},
   "outputs": [
    {
     "name": "stdout",
     "output_type": "stream",
     "text": [
      "Using device: cuda\n"
     ]
    }
   ],
   "source": [
    "from models import Baseline_MLP\n",
    "import torch\n",
    "import numpy as np\n",
    "\n",
    "device = torch.device('cuda' if torch.cuda.is_available() else 'cpu')\n",
    "print('Using device:', device)"
   ]
  },
  {
   "cell_type": "code",
   "execution_count": 13,
   "metadata": {},
   "outputs": [],
   "source": [
    "input_shape = (1, 45, 5, 5, 5)\n",
    "task = \"regression\"\n",
    "\n",
    "if task == \"classification\":\n",
    "    output_size = 7\n",
    "    output_shape = (1, output_size)\n",
    "elif task == \"regression\":\n",
    "    output_size = 1\n",
    "    output_shape = (1, output_size)\n",
    "\n",
    "inputs = torch.randn(input_shape).to(device)\n",
    "labels = torch.randn(output_shape).to(device)\n",
    "\n",
    "# Get the output size of efficientnet\n",
    "efficientnet_output_size = input_shape[1] * input_shape[2] * input_shape[3] * input_shape[4]\n",
    "\n",
    "# Initialize the model\n",
    "model = Baseline_MLP(efficientnet_output_size=efficientnet_output_size, hidden_size=100, output_size=output_size, task=task).to(device)"
   ]
  },
  {
   "cell_type": "code",
   "execution_count": 14,
   "metadata": {},
   "outputs": [
    {
     "data": {
      "text/plain": [
       "Baseline_MLP(\n",
       "  (combination_mlp): TwoInputMLP(\n",
       "    (prev_pred_FC): Linear(in_features=6, out_features=100, bias=True)\n",
       "    (efficientnet_FC): Linear(in_features=5625, out_features=100, bias=True)\n",
       "    (combo_FC): Linear(in_features=200, out_features=1, bias=True)\n",
       "  )\n",
       "  (final_activation): Sigmoid()\n",
       ")"
      ]
     },
     "execution_count": 14,
     "metadata": {},
     "output_type": "execute_result"
    }
   ],
   "source": [
    "model = model.to(device)\n",
    "\n",
    "criterion = torch.nn.MSELoss()\n",
    "optimizer = torch.optim.SGD(model.parameters(), lr=0.001, momentum=0.9)\n",
    "\n",
    "model.train()"
   ]
  },
  {
   "cell_type": "code",
   "execution_count": 15,
   "metadata": {},
   "outputs": [],
   "source": [
    "previous_prediction_1 = torch.randn((1, 3))\n",
    "previous_prediction_2 = torch.randn((1, 3))\n",
    "previous_predictions = torch.cat((previous_prediction_1, previous_prediction_2), dim=1).cuda()"
   ]
  },
  {
   "cell_type": "code",
   "execution_count": 16,
   "metadata": {},
   "outputs": [
    {
     "name": "stdout",
     "output_type": "stream",
     "text": [
      "Previous predictions shape torch.Size([1, 100])\n",
      "Efficientnet output shape torch.Size([1, 100])\n",
      "outputs tensor([[206.1955]], device='cuda:0', grad_fn=<MulBackward0>)\n",
      "outputs.shape torch.Size([1, 1])\n",
      "labels tensor([[-0.2489]], device='cuda:0')\n",
      "labels.shape torch.Size([1, 1])\n",
      "[1] loss: 42619.258\n",
      "Previous predictions shape torch.Size([1, 100])\n",
      "Efficientnet output shape torch.Size([1, 100])\n",
      "outputs tensor([[0.]], device='cuda:0', grad_fn=<MulBackward0>)\n",
      "outputs.shape torch.Size([1, 1])\n",
      "labels tensor([[-0.2489]], device='cuda:0')\n",
      "labels.shape torch.Size([1, 1])\n",
      "[2] loss: 0.062\n",
      "Finished Training\n",
      "outputs.shape torch.Size([1, 1])\n",
      "output [[0.]]\n"
     ]
    }
   ],
   "source": [
    "for epoch in range(2):\n",
    "    # zero the parameter gradients\n",
    "    optimizer.zero_grad()\n",
    "\n",
    "    # forward + backward + optimize\n",
    "    outputs = model(inputs, previous_predictions)\n",
    "    print(\"outputs\", outputs)\n",
    "    print(\"outputs.shape\", outputs.shape)\n",
    "    print(\"labels\", labels)\n",
    "    print(\"labels.shape\", labels.shape)\n",
    "    loss = criterion(outputs, labels)\n",
    "    loss.backward()\n",
    "    optimizer.step()\n",
    "\n",
    "    # print statistics\n",
    "    print('[%d] loss: %.3f' % (epoch + 1, loss.item()))\n",
    "\n",
    "print('Finished Training')\n",
    "print(\"outputs.shape\", outputs.shape)\n",
    "print(\"output\", outputs.cpu().detach().numpy())"
   ]
  },
  {
   "cell_type": "code",
   "execution_count": null,
   "metadata": {},
   "outputs": [],
   "source": []
  }
 ],
 "metadata": {
  "kernelspec": {
   "display_name": "Python 3 (ipykernel)",
   "language": "python",
   "name": "python3"
  },
  "language_info": {
   "codemirror_mode": {
    "name": "ipython",
    "version": 3
   },
   "file_extension": ".py",
   "mimetype": "text/x-python",
   "name": "python",
   "nbconvert_exporter": "python",
   "pygments_lexer": "ipython3",
   "version": "3.9.16"
  }
 },
 "nbformat": 4,
 "nbformat_minor": 4
}
