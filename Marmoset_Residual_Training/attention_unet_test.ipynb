{
 "cells": [
  {
   "cell_type": "code",
   "execution_count": 14,
   "metadata": {
    "tags": []
   },
   "outputs": [
    {
     "name": "stdout",
     "output_type": "stream",
     "text": [
      "torch.Size([16, 45, 128, 178, 115])\n",
      "torch.Size([16, 45, 128, 178, 115])\n"
     ]
    }
   ],
   "source": [
    "import torch\n",
    "\n",
    "random_b0 = torch.rand((16, 45, 128, 178, 115))\n",
    "random_residual = torch.rand((16, 45, 128, 178, 115))\n",
    "\n",
    "print(random_b0.shape)\n",
    "print(random_residual.shape)"
   ]
  },
  {
   "cell_type": "code",
   "execution_count": 15,
   "metadata": {
    "tags": []
   },
   "outputs": [
    {
     "name": "stdout",
     "output_type": "stream",
     "text": [
      "torch.Size([16, 45, 32, 32, 32])\n",
      "torch.Size([16, 45, 16, 16, 16])\n",
      "torch.Size([16, 3, 16, 16, 16])\n",
      "torch.Size([16, 3, 16, 16, 16])\n"
     ]
    }
   ],
   "source": [
    "from training import *\n",
    "\n",
    "size = 32\n",
    "b0_cube = grab_cube_around_voxel(image=random_b0, voxel_coordinates=[5, 5, 5], kernel_size=size // 2)\n",
    "b0_cube = torch.from_numpy(b0_cube).float()\n",
    "\n",
    "res_cube = grab_cube_around_voxel(image=random_residual, voxel_coordinates=[5, 5, 5], kernel_size=size // 4)\n",
    "res_cube = torch.from_numpy(res_cube).float()\n",
    "\n",
    "injection_center = torch.rand((16, 3, size // 2, size // 2, size // 2))\n",
    "image_coordinates = torch.rand((16, 3, size // 2, size // 2, size // 2))\n",
    "\n",
    "print(b0_cube.shape)\n",
    "print(res_cube.shape)\n",
    "print(injection_center.shape)\n",
    "print(image_coordinates.shape)"
   ]
  },
  {
   "cell_type": "code",
   "execution_count": 19,
   "metadata": {},
   "outputs": [],
   "source": [
    "from models import *\n",
    "model = Attention_UNet(in_channels=45)"
   ]
  },
  {
   "cell_type": "code",
   "execution_count": 20,
   "metadata": {},
   "outputs": [
    {
     "name": "stdout",
     "output_type": "stream",
     "text": [
      "conv1:  torch.Size([16, 16, 32, 32, 32])\n",
      "maxpool1:  torch.Size([16, 16, 16, 16, 16])\n",
      "conv2:  torch.Size([16, 32, 16, 16, 16])\n",
      "maxpool2:  torch.Size([16, 32, 8, 8, 8])\n",
      "conv3:  torch.Size([16, 64, 8, 8, 8])\n",
      "maxpool3:  torch.Size([16, 64, 4, 4, 4])\n",
      "conv4:  torch.Size([16, 128, 4, 4, 4])\n",
      "maxpool4:  torch.Size([16, 128, 2, 2, 2])\n",
      "center:  torch.Size([16, 256, 2, 2, 2])\n",
      "gating:  torch.Size([16, 256, 2, 2, 2])\n",
      "g_conv4:  torch.Size([16, 128, 4, 4, 4])\n",
      "up4:  torch.Size([16, 128, 4, 4, 4])\n",
      "g_conv3:  torch.Size([16, 64, 8, 8, 8])\n",
      "up3:  torch.Size([16, 64, 8, 8, 8])\n",
      "g_conv2:  torch.Size([16, 32, 16, 16, 16])\n",
      "up2:  torch.Size([16, 32, 16, 16, 16])\n",
      "up1:  torch.Size([16, 16, 32, 32, 32])\n",
      "dsv4:  torch.Size([16, 3, 32, 32, 32])\n",
      "dsv3:  torch.Size([16, 3, 32, 32, 32])\n",
      "dsv2:  torch.Size([16, 3, 32, 32, 32])\n",
      "dsv1:  torch.Size([16, 3, 32, 32, 32])\n",
      "final:  torch.Size([16, 3, 16, 16, 16])\n",
      "injection_centers:  torch.Size([16, 3, 16, 16, 16])\n",
      "image_coordinates:  torch.Size([16, 3, 16, 16, 16])\n",
      "final:  torch.Size([16, 1, 16, 16, 16])\n",
      "output shape is:  torch.Size([16, 1, 16, 16, 16])\n"
     ]
    }
   ],
   "source": [
    "output = model(b0_cube, injection_center, image_coordinates)\n",
    "\n",
    "print(\"output shape is: \", output.shape)"
   ]
  },
  {
   "cell_type": "code",
   "execution_count": null,
   "metadata": {},
   "outputs": [],
   "source": [
    "import glob\n",
    "import os\n",
    "import nibabel as nib\n",
    "\n",
    "def glob_files(PATH_NAME, file_format):\n",
    "    INPUT_FILES = []\n",
    "    for file in glob.glob(os.path.join(PATH_NAME, os.path.join(\"**\", \"*.{}\".format(file_format))), recursive=True):\n",
    "        INPUT_FILES.append(file)\n",
    "    return INPUT_FILES\n",
    "\n",
    "nii_gz_files = glob_files(\"/notebooks/model_data_w_resize\", \"nii.gz\")\n",
    "b0_images = [file for file in nii_gz_files if \"b0\" in file and \"resized\" not in file]\n",
    "print(len(b0_images))\n"
   ]
  },
  {
   "cell_type": "code",
   "execution_count": 42,
   "metadata": {},
   "outputs": [
    {
     "name": "stdout",
     "output_type": "stream",
     "text": [
      "(230, 356, 256)\n"
     ]
    }
   ],
   "source": [
    "import SimpleITK as sitk\n",
    "\n",
    "reader = sitk.ImageFileReader()\n",
    "reader.SetFileName(b0_images[0])\n",
    "image = reader.Execute()\n",
    "\n",
    "normalizeFilter = sitk.NormalizeImageFilter()\n",
    "rescaleFilter = sitk.RescaleIntensityImageFilter()\n",
    "rescaleFilter.SetOutputMaximum(255)\n",
    "rescaleFilter.SetOutputMinimum(0)\n",
    "\n",
    "image = normalizeFilter.Execute(image)\n",
    "image = rescaleFilter.Execute(image)\n",
    "\n",
    "array = sitk.GetArrayFromImage(image)\n",
    "print(array.shape)\n",
    "\n",
    "image_normalized = sitk.GetImageFromArray(array)\n",
    "\n",
    "sitk.WriteImage(image_normalized, os.path.join(os.getcwd(), \"test2.nii.gz\"));"
   ]
  },
  {
   "cell_type": "code",
   "execution_count": 4,
   "metadata": {},
   "outputs": [
    {
     "name": "stdout",
     "output_type": "stream",
     "text": [
      "(256, 356, 230)\n",
      "(256, 356, 230)\n"
     ]
    }
   ],
   "source": [
    "import nibabel as nib\n",
    "import numpy as np\n",
    "\n",
    "image = nib.load(b0_images[0])\n",
    "data = image.get_fdata()\n",
    "\n",
    "print(data.shape)\n",
    "\n",
    "normalized_vector = data / np.linalg.norm(data)\n",
    "\n",
    "print(normalized_vector.shape)\n",
    "\n",
    "final_img = nib.Nifti1Image(normalized_vector, image.affine)\n",
    "\n",
    "nib.save(final_img, os.path.join(os.getcwd(), \"nibabel.nii\"))"
   ]
  },
  {
   "cell_type": "code",
   "execution_count": 5,
   "metadata": {},
   "outputs": [
    {
     "name": "stdout",
     "output_type": "stream",
     "text": [
      "(256, 356, 230)\n"
     ]
    }
   ],
   "source": [
    "path = os.path.join(os.getcwd(), \"nibabel.nii\")\n",
    "\n",
    "image = nib.load(path)\n",
    "data = image.get_fdata()\n",
    "\n",
    "print(data.shape)"
   ]
  },
  {
   "cell_type": "code",
   "execution_count": 16,
   "metadata": {},
   "outputs": [
    {
     "name": "stdout",
     "output_type": "stream",
     "text": [
      "(4, 12, 8, 8, 8, 8)\n"
     ]
    }
   ],
   "source": [
    "import numpy as np\n",
    "\n",
    "path_to_residuals = \"/notebooks/tract_residuals/predicted_residuals/epoch_1/image_0.npy\"\n",
    "image0 = np.load(path_to_residuals)\n",
    "print(image0.shape)"
   ]
  },
  {
   "cell_type": "code",
   "execution_count": 26,
   "metadata": {},
   "outputs": [
    {
     "name": "stdout",
     "output_type": "stream",
     "text": [
      "(128, 178, 115)\n"
     ]
    }
   ],
   "source": [
    "def to_shape(a, shape):\n",
    "    y_, x_, z_ = shape\n",
    "    y, x, z = a.shape\n",
    "    y_pad = (y_-y)\n",
    "    x_pad = (x_-x)\n",
    "    z_pad = (z_-z)\n",
    "    return np.pad(a,((y_pad//2, y_pad//2 + y_pad%2), \n",
    "                     (x_pad//2, x_pad//2 + x_pad%2),\n",
    "                     (z_pad//2, z_pad//2 + z_pad%2)),\n",
    "                  mode = 'constant')\n",
    "\n",
    "# Create random array\n",
    "random_array = np.random.rand(128, 178, 115)\n",
    "print(random_array.shape)"
   ]
  },
  {
   "cell_type": "code",
   "execution_count": 27,
   "metadata": {},
   "outputs": [
    {
     "name": "stdout",
     "output_type": "stream",
     "text": [
      "[0, 2, 3]\n",
      "[128, 180, 118]\n",
      "(128, 180, 118)\n"
     ]
    }
   ],
   "source": [
    "# Define kernel size\n",
    "kernel_size = 8 * 2\n",
    "\n",
    "# Get the number of values for each axes that need to be added to fit multiple of kernel\n",
    "padding_needed = [axis % kernel_size for axis in random_array.shape]\n",
    "print(padding_needed)\n",
    "\n",
    "output_shape = []\n",
    "for i in range(random_array.ndim):\n",
    "    output_shape.append(random_array.shape[i] + padding_needed[i])\n",
    "    \n",
    "print(output_shape)\n",
    "\n",
    "# Padding the random array to the new shape\n",
    "random_reshaped = to_shape(random_array, output_shape)\n",
    "print(random_reshaped.shape)"
   ]
  },
  {
   "cell_type": "code",
   "execution_count": 10,
   "metadata": {
    "execution": {
     "iopub.execute_input": "2023-07-25T23:31:31.335536Z",
     "iopub.status.busy": "2023-07-25T23:31:31.334884Z",
     "iopub.status.idle": "2023-07-25T23:31:31.470032Z",
     "shell.execute_reply": "2023-07-25T23:31:31.469379Z",
     "shell.execute_reply.started": "2023-07-25T23:31:31.335505Z"
    }
   },
   "outputs": [
    {
     "name": "stdout",
     "output_type": "stream",
     "text": [
      "(128, 178, 115)\n",
      "(128, 178, 115)\n"
     ]
    }
   ],
   "source": [
    "import nibabel as nib\n",
    "import numpy as np\n",
    "\n",
    "path = \"/notebooks/model_data_w_resize/dMRI_b0/A10-R01_0028-TT21/DWI_concatenated_b0_resized.nii.gz\"\n",
    "injection_center = \"/notebooks/model_data_w_resize/injection_centers/A10-R01_0028-TT21/inj_center.csv\"\n",
    "stream_path = \"/notebooks/model_data_w_resize/tckmapped_streamlines/A10-R01_0028-TT21/subtracted_unflipped_resized.nii.gz\"\n",
    "\n",
    "# Load the image\n",
    "image = nib.load(path)\n",
    "streamline = nib.load(stream_path)\n",
    "data = image.get_fdata()\n",
    "stream_data = streamline.get_fdata()\n",
    "print(data.shape)\n",
    "print(stream_data.shape)\n"
   ]
  },
  {
   "cell_type": "code",
   "execution_count": 13,
   "metadata": {
    "execution": {
     "iopub.execute_input": "2023-07-25T23:33:39.051685Z",
     "iopub.status.busy": "2023-07-25T23:33:39.050902Z",
     "iopub.status.idle": "2023-07-25T23:33:39.153253Z",
     "shell.execute_reply": "2023-07-25T23:33:39.152665Z",
     "shell.execute_reply.started": "2023-07-25T23:33:39.051662Z"
    }
   },
   "outputs": [],
   "source": [
    "b0_hemi = data[64:, :, :]\n",
    "res_hemi = stream_data[64:,:,:]\n",
    "\n",
    "img = nib.Nifti1Image(b0_hemi, affine=np.eye(4))\n",
    "img2 = nib.Nifti1Image(res_hemi, affine=np.eye(4))\n",
    "\n",
    "img_b0 = nib.Nifti1Image(data, affine=np.eye(4))\n",
    "img_str = nib.Nifti1Image(stream_data, affine=np.eye(4))\n",
    "\n",
    "nib.save(img, \"testingcut.nii\")\n",
    "nib.save(img2, \"testingcut_res.nii\")\n",
    "nib.save(img_b0, \"ogb0.nii\")\n",
    "nib.save(img_str, \"ogres.nii\")\n"
   ]
  },
  {
   "cell_type": "code",
   "execution_count": null,
   "metadata": {},
   "outputs": [],
   "source": []
  }
 ],
 "metadata": {
  "kernelspec": {
   "display_name": "Python 3 (ipykernel)",
   "language": "python",
   "name": "python3"
  },
  "language_info": {
   "codemirror_mode": {
    "name": "ipython",
    "version": 3
   },
   "file_extension": ".py",
   "mimetype": "text/x-python",
   "name": "python",
   "nbconvert_exporter": "python",
   "pygments_lexer": "ipython3",
   "version": "3.9.16"
  }
 },
 "nbformat": 4,
 "nbformat_minor": 4
}
