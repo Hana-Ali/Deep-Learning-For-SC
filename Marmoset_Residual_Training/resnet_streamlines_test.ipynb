{
 "cells": [
  {
   "cell_type": "code",
   "execution_count": 1,
   "metadata": {
    "execution": {
     "iopub.execute_input": "2023-08-03T16:51:17.338088Z",
     "iopub.status.busy": "2023-08-03T16:51:17.337545Z",
     "iopub.status.idle": "2023-08-03T16:51:18.971480Z",
     "shell.execute_reply": "2023-08-03T16:51:18.970922Z",
     "shell.execute_reply.started": "2023-08-03T16:51:17.338064Z"
    }
   },
   "outputs": [
    {
     "name": "stdout",
     "output_type": "stream",
     "text": [
      "Using device: cuda\n"
     ]
    }
   ],
   "source": [
    "from models import ResnetEncoder_Streamlines\n",
    "import torch\n",
    "\n",
    "device = torch.device('cuda' if torch.cuda.is_available() else 'cpu')\n",
    "print('Using device:', device)"
   ]
  },
  {
   "cell_type": "code",
   "execution_count": 2,
   "metadata": {},
   "outputs": [
    {
     "name": "stdout",
     "output_type": "stream",
     "text": [
      "inputs shape torch.Size([8, 45, 6, 6, 6])\n",
      "labels shape torch.Size([8])\n"
     ]
    }
   ],
   "source": [
    "batch_size = 8\n",
    "inputs_shape = (batch_size, 45, 6, 6, 6)\n",
    "labels_shape = (batch_size,)\n",
    "inputs = torch.randn(inputs_shape).to(device)\n",
    "labels = torch.randint(low=0, high=26, size=labels_shape).to(device)\n",
    "\n",
    "cnn_flattened_size = inputs_shape[1] * inputs_shape[2] * inputs_shape[3] * inputs_shape[4]\n",
    "\n",
    "print(\"inputs shape\", inputs.shape)\n",
    "print(\"labels shape\", labels.shape)"
   ]
  },
  {
   "cell_type": "code",
   "execution_count": 3,
   "metadata": {
    "execution": {
     "iopub.execute_input": "2023-08-03T16:51:21.503767Z",
     "iopub.status.busy": "2023-08-03T16:51:21.502859Z",
     "iopub.status.idle": "2023-08-03T16:51:21.584154Z",
     "shell.execute_reply": "2023-08-03T16:51:21.583590Z",
     "shell.execute_reply.started": "2023-08-03T16:51:21.503736Z"
    }
   },
   "outputs": [],
   "source": [
    "num_classes = 27\n",
    "model = ResnetEncoder_Streamlines(num_classes=num_classes, task='classification')"
   ]
  },
  {
   "cell_type": "code",
   "execution_count": 4,
   "metadata": {
    "execution": {
     "iopub.execute_input": "2023-08-03T16:51:23.026888Z",
     "iopub.status.busy": "2023-08-03T16:51:23.026066Z",
     "iopub.status.idle": "2023-08-03T16:51:25.232068Z",
     "shell.execute_reply": "2023-08-03T16:51:25.231287Z",
     "shell.execute_reply.started": "2023-08-03T16:51:23.026860Z"
    }
   },
   "outputs": [
    {
     "data": {
      "text/plain": [
       "ResnetEncoder_Streamlines(\n",
       "  (channelwise_conv): Sequential(\n",
       "    (0): ReflectionPad3d((3, 3, 3, 3, 3, 3))\n",
       "    (1): Conv3d(1, 64, kernel_size=(7, 7, 7), stride=(1, 1, 1), bias=False)\n",
       "    (2): BatchNorm3d(64, eps=1e-05, momentum=0.1, affine=True, track_running_stats=True)\n",
       "    (3): ReLU(inplace=True)\n",
       "    (4): Conv3d(64, 256, kernel_size=(3, 3, 3), stride=(1, 1, 1), padding=(1, 1, 1), bias=False)\n",
       "    (5): BatchNorm3d(256, eps=1e-05, momentum=0.1, affine=True, track_running_stats=True)\n",
       "    (6): ReLU(inplace=True)\n",
       "    (7): ResnetBlock(\n",
       "      (res_block): Sequential(\n",
       "        (0): ReflectionPad3d((1, 1, 1, 1, 1, 1))\n",
       "        (1): Conv3d(256, 256, kernel_size=(3, 3, 3), stride=(1, 1, 1), bias=False)\n",
       "        (2): BatchNorm3d(256, eps=1e-05, momentum=0.1, affine=True, track_running_stats=True)\n",
       "        (3): ReLU(inplace=True)\n",
       "        (4): ReflectionPad3d((1, 1, 1, 1, 1, 1))\n",
       "        (5): Conv3d(256, 256, kernel_size=(3, 3, 3), stride=(1, 1, 1), bias=False)\n",
       "        (6): BatchNorm3d(256, eps=1e-05, momentum=0.1, affine=True, track_running_stats=True)\n",
       "      )\n",
       "    )\n",
       "    (8): ResnetBlock(\n",
       "      (res_block): Sequential(\n",
       "        (0): ReflectionPad3d((1, 1, 1, 1, 1, 1))\n",
       "        (1): Conv3d(256, 256, kernel_size=(3, 3, 3), stride=(1, 1, 1), bias=False)\n",
       "        (2): BatchNorm3d(256, eps=1e-05, momentum=0.1, affine=True, track_running_stats=True)\n",
       "        (3): ReLU(inplace=True)\n",
       "        (4): ReflectionPad3d((1, 1, 1, 1, 1, 1))\n",
       "        (5): Conv3d(256, 256, kernel_size=(3, 3, 3), stride=(1, 1, 1), bias=False)\n",
       "        (6): BatchNorm3d(256, eps=1e-05, momentum=0.1, affine=True, track_running_stats=True)\n",
       "      )\n",
       "    )\n",
       "    (9): ResnetBlock(\n",
       "      (res_block): Sequential(\n",
       "        (0): ReflectionPad3d((1, 1, 1, 1, 1, 1))\n",
       "        (1): Conv3d(256, 256, kernel_size=(3, 3, 3), stride=(1, 1, 1), bias=False)\n",
       "        (2): BatchNorm3d(256, eps=1e-05, momentum=0.1, affine=True, track_running_stats=True)\n",
       "        (3): ReLU(inplace=True)\n",
       "        (4): ReflectionPad3d((1, 1, 1, 1, 1, 1))\n",
       "        (5): Conv3d(256, 256, kernel_size=(3, 3, 3), stride=(1, 1, 1), bias=False)\n",
       "        (6): BatchNorm3d(256, eps=1e-05, momentum=0.1, affine=True, track_running_stats=True)\n",
       "      )\n",
       "    )\n",
       "    (10): ResnetBlock(\n",
       "      (res_block): Sequential(\n",
       "        (0): ReflectionPad3d((1, 1, 1, 1, 1, 1))\n",
       "        (1): Conv3d(256, 256, kernel_size=(3, 3, 3), stride=(1, 1, 1), bias=False)\n",
       "        (2): BatchNorm3d(256, eps=1e-05, momentum=0.1, affine=True, track_running_stats=True)\n",
       "        (3): ReLU(inplace=True)\n",
       "        (4): ReflectionPad3d((1, 1, 1, 1, 1, 1))\n",
       "        (5): Conv3d(256, 256, kernel_size=(3, 3, 3), stride=(1, 1, 1), bias=False)\n",
       "        (6): BatchNorm3d(256, eps=1e-05, momentum=0.1, affine=True, track_running_stats=True)\n",
       "      )\n",
       "    )\n",
       "    (11): ResnetBlock(\n",
       "      (res_block): Sequential(\n",
       "        (0): ReflectionPad3d((1, 1, 1, 1, 1, 1))\n",
       "        (1): Conv3d(256, 256, kernel_size=(3, 3, 3), stride=(1, 1, 1), bias=False)\n",
       "        (2): BatchNorm3d(256, eps=1e-05, momentum=0.1, affine=True, track_running_stats=True)\n",
       "        (3): ReLU(inplace=True)\n",
       "        (4): ReflectionPad3d((1, 1, 1, 1, 1, 1))\n",
       "        (5): Conv3d(256, 256, kernel_size=(3, 3, 3), stride=(1, 1, 1), bias=False)\n",
       "        (6): BatchNorm3d(256, eps=1e-05, momentum=0.1, affine=True, track_running_stats=True)\n",
       "      )\n",
       "    )\n",
       "    (12): ResnetBlock(\n",
       "      (res_block): Sequential(\n",
       "        (0): ReflectionPad3d((1, 1, 1, 1, 1, 1))\n",
       "        (1): Conv3d(256, 256, kernel_size=(3, 3, 3), stride=(1, 1, 1), bias=False)\n",
       "        (2): BatchNorm3d(256, eps=1e-05, momentum=0.1, affine=True, track_running_stats=True)\n",
       "        (3): ReLU(inplace=True)\n",
       "        (4): ReflectionPad3d((1, 1, 1, 1, 1, 1))\n",
       "        (5): Conv3d(256, 256, kernel_size=(3, 3, 3), stride=(1, 1, 1), bias=False)\n",
       "        (6): BatchNorm3d(256, eps=1e-05, momentum=0.1, affine=True, track_running_stats=True)\n",
       "      )\n",
       "    )\n",
       "    (13): Conv3d(256, 128, kernel_size=(3, 3, 3), stride=(1, 1, 1), padding=(1, 1, 1), bias=False)\n",
       "    (14): BatchNorm3d(128, eps=1e-05, momentum=0.1, affine=True, track_running_stats=True)\n",
       "    (15): ReLU(inplace=True)\n",
       "    (16): Conv3d(128, 64, kernel_size=(3, 3, 3), stride=(1, 1, 1), padding=(1, 1, 1), bias=False)\n",
       "    (17): BatchNorm3d(64, eps=1e-05, momentum=0.1, affine=True, track_running_stats=True)\n",
       "    (18): ReLU(inplace=True)\n",
       "    (19): Conv3d(64, 32, kernel_size=(3, 3, 3), stride=(1, 1, 1), padding=(1, 1, 1), bias=False)\n",
       "    (20): BatchNorm3d(32, eps=1e-05, momentum=0.1, affine=True, track_running_stats=True)\n",
       "    (21): ReLU(inplace=True)\n",
       "    (22): Conv3d(32, 1, kernel_size=(3, 3, 3), stride=(1, 1, 1), padding=(1, 1, 1), bias=False)\n",
       "  )\n",
       "  (adaptive_pooling): AdaptiveAvgPool3d(output_size=(1, 1, 1))\n",
       "  (final_linear): Sequential(\n",
       "    (0): Linear(in_features=45, out_features=128, bias=True)\n",
       "    (1): ReLU()\n",
       "    (2): Linear(in_features=128, out_features=64, bias=True)\n",
       "    (3): ReLU()\n",
       "    (4): Linear(in_features=64, out_features=27, bias=True)\n",
       "  )\n",
       "  (combination_mlp): TwoInputMLP(\n",
       "    (prev_pred_FC): Sequential(\n",
       "      (0): Linear(in_features=54, out_features=128, bias=True)\n",
       "      (1): ReLU(inplace=True)\n",
       "      (2): BatchNorm1d(128, eps=1e-05, momentum=0.1, affine=True, track_running_stats=True)\n",
       "    )\n",
       "    (cnn_output_FC): Sequential(\n",
       "      (0): Linear(in_features=27, out_features=128, bias=True)\n",
       "      (1): ReLU(inplace=True)\n",
       "      (2): BatchNorm1d(128, eps=1e-05, momentum=0.1, affine=True, track_running_stats=True)\n",
       "    )\n",
       "    (combo_FC): Sequential(\n",
       "      (0): Linear(in_features=256, out_features=27, bias=True)\n",
       "      (1): ReLU(inplace=True)\n",
       "      (2): BatchNorm1d(27, eps=1e-05, momentum=0.1, affine=True, track_running_stats=True)\n",
       "    )\n",
       "  )\n",
       "  (final_activation): Softmax(dim=1)\n",
       ")"
      ]
     },
     "execution_count": 4,
     "metadata": {},
     "output_type": "execute_result"
    }
   ],
   "source": [
    "model = model.to(device)\n",
    "\n",
    "criterion = torch.nn.CrossEntropyLoss()\n",
    "optimizer = torch.optim.SGD(model.parameters(), lr=0.001, momentum=0.9)\n",
    "\n",
    "model.train()"
   ]
  },
  {
   "cell_type": "code",
   "execution_count": 5,
   "metadata": {
    "execution": {
     "iopub.execute_input": "2023-08-03T16:51:41.912335Z",
     "iopub.status.busy": "2023-08-03T16:51:41.911819Z",
     "iopub.status.idle": "2023-08-03T16:51:41.920476Z",
     "shell.execute_reply": "2023-08-03T16:51:41.919962Z",
     "shell.execute_reply.started": "2023-08-03T16:51:41.912319Z"
    }
   },
   "outputs": [
    {
     "name": "stdout",
     "output_type": "stream",
     "text": [
      "Previous prediction size outside torch.Size([8, 54])\n"
     ]
    }
   ],
   "source": [
    "previous_prediction_1 = torch.randn((batch_size, num_classes))\n",
    "previous_prediction_2 = torch.randn((batch_size, num_classes))\n",
    "# Concatenate the previous predictions together along dimension 2\n",
    "previous_predictions = torch.cat((previous_prediction_1, previous_prediction_2), dim=1).cuda()\n",
    "print(\"Previous prediction size outside\", previous_predictions.shape)\n",
    "\n",
    "original_shapes = torch.tensor([129, 171, 119])"
   ]
  },
  {
   "cell_type": "code",
   "execution_count": 6,
   "metadata": {},
   "outputs": [],
   "source": [
    "outputs = model(inputs, previous_predictions, original_shapes)"
   ]
  },
  {
   "cell_type": "code",
   "execution_count": 7,
   "metadata": {},
   "outputs": [
    {
     "name": "stdout",
     "output_type": "stream",
     "text": [
      "[1.         1.0000001  1.0000001  0.99999994 1.         1.\n",
      " 1.0000001  1.        ]\n"
     ]
    }
   ],
   "source": [
    "# Print the sum of each row in the matrix\n",
    "print(outputs.cpu().detach().numpy().sum(axis=1))"
   ]
  },
  {
   "cell_type": "code",
   "execution_count": 6,
   "metadata": {
    "execution": {
     "iopub.execute_input": "2023-08-03T16:51:43.551632Z",
     "iopub.status.busy": "2023-08-03T16:51:43.550653Z",
     "iopub.status.idle": "2023-08-03T16:51:47.994518Z",
     "shell.execute_reply": "2023-08-03T16:51:47.994008Z",
     "shell.execute_reply.started": "2023-08-03T16:51:43.551603Z"
    }
   },
   "outputs": [
    {
     "name": "stdout",
     "output_type": "stream",
     "text": [
      "[1] loss: 3.318\n",
      "[2] loss: 3.312\n",
      "[3] loss: 3.290\n",
      "[4] loss: 3.265\n",
      "[5] loss: 3.251\n",
      "[6] loss: 3.242\n",
      "[7] loss: 3.236\n",
      "[8] loss: 3.230\n",
      "[9] loss: 3.222\n",
      "[10] loss: 3.214\n",
      "Finished Training\n"
     ]
    }
   ],
   "source": [
    "for epoch in range(10):\n",
    "    # zero the parameter gradients\n",
    "    optimizer.zero_grad()\n",
    "\n",
    "    # forward + backward + optimize\n",
    "    outputs = model(inputs, previous_predictions, original_shapes)\n",
    "    loss = criterion(outputs, labels)\n",
    "    loss.backward()\n",
    "    optimizer.step()\n",
    "\n",
    "    # print statistics\n",
    "    print('[%d] loss: %.3f' % (epoch + 1, loss.item()))\n",
    "\n",
    "print('Finished Training')"
   ]
  },
  {
   "cell_type": "code",
   "execution_count": null,
   "metadata": {},
   "outputs": [],
   "source": []
  }
 ],
 "metadata": {
  "kernelspec": {
   "display_name": "Python 3 (ipykernel)",
   "language": "python",
   "name": "python3"
  },
  "language_info": {
   "codemirror_mode": {
    "name": "ipython",
    "version": 3
   },
   "file_extension": ".py",
   "mimetype": "text/x-python",
   "name": "python",
   "nbconvert_exporter": "python",
   "pygments_lexer": "ipython3",
   "version": "3.10.12"
  }
 },
 "nbformat": 4,
 "nbformat_minor": 4
}
