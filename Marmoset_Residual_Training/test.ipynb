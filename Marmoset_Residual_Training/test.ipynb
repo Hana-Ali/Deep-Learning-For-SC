{
 "cells": [
  {
   "cell_type": "code",
   "execution_count": 3,
   "metadata": {},
   "outputs": [
    {
     "name": "stdout",
     "output_type": "stream",
     "text": [
      "ResnetEncoder(\n",
      "  (model): Sequential(\n",
      "    (0): ReflectionPad3d((3, 3, 3, 3, 3, 3))\n",
      "    (1): Conv3d(3, 64, kernel_size=(7, 7, 7), stride=(1, 1, 1), bias=False)\n",
      "    (2): BatchNorm3d(64, eps=1e-05, momentum=0.1, affine=True, track_running_stats=True)\n",
      "    (3): ReLU(inplace=True)\n",
      "    (4): Conv3d(64, 128, kernel_size=(3, 3, 3), stride=(2, 2, 2), padding=(1, 1, 1), bias=False)\n",
      "    (5): BatchNorm3d(128, eps=1e-05, momentum=0.1, affine=True, track_running_stats=True)\n",
      "    (6): ReLU(inplace=True)\n",
      "    (7): Conv3d(128, 256, kernel_size=(3, 3, 3), stride=(2, 2, 2), padding=(1, 1, 1), bias=False)\n",
      "    (8): BatchNorm3d(256, eps=1e-05, momentum=0.1, affine=True, track_running_stats=True)\n",
      "    (9): ReLU(inplace=True)\n",
      "    (10): ResnetBlock(\n",
      "      (res_block): Sequential(\n",
      "        (0): ReflectionPad3d((1, 1, 1, 1, 1, 1))\n",
      "        (1): Conv3d(256, 256, kernel_size=(3, 3, 3), stride=(1, 1, 1), bias=False)\n",
      "        (2): BatchNorm3d(256, eps=1e-05, momentum=0.1, affine=True, track_running_stats=True)\n",
      "        (3): ReLU(inplace=True)\n",
      "        (4): ReflectionPad3d((1, 1, 1, 1, 1, 1))\n",
      "        (5): Conv3d(256, 256, kernel_size=(3, 3, 3), stride=(1, 1, 1), bias=False)\n",
      "        (6): BatchNorm3d(256, eps=1e-05, momentum=0.1, affine=True, track_running_stats=True)\n",
      "      )\n",
      "    )\n",
      "    (11): ResnetBlock(\n",
      "      (res_block): Sequential(\n",
      "        (0): ReflectionPad3d((1, 1, 1, 1, 1, 1))\n",
      "        (1): Conv3d(256, 256, kernel_size=(3, 3, 3), stride=(1, 1, 1), bias=False)\n",
      "        (2): BatchNorm3d(256, eps=1e-05, momentum=0.1, affine=True, track_running_stats=True)\n",
      "        (3): ReLU(inplace=True)\n",
      "        (4): ReflectionPad3d((1, 1, 1, 1, 1, 1))\n",
      "        (5): Conv3d(256, 256, kernel_size=(3, 3, 3), stride=(1, 1, 1), bias=False)\n",
      "        (6): BatchNorm3d(256, eps=1e-05, momentum=0.1, affine=True, track_running_stats=True)\n",
      "      )\n",
      "    )\n",
      "    (12): ResnetBlock(\n",
      "      (res_block): Sequential(\n",
      "        (0): ReflectionPad3d((1, 1, 1, 1, 1, 1))\n",
      "        (1): Conv3d(256, 256, kernel_size=(3, 3, 3), stride=(1, 1, 1), bias=False)\n",
      "        (2): BatchNorm3d(256, eps=1e-05, momentum=0.1, affine=True, track_running_stats=True)\n",
      "        (3): ReLU(inplace=True)\n",
      "        (4): ReflectionPad3d((1, 1, 1, 1, 1, 1))\n",
      "        (5): Conv3d(256, 256, kernel_size=(3, 3, 3), stride=(1, 1, 1), bias=False)\n",
      "        (6): BatchNorm3d(256, eps=1e-05, momentum=0.1, affine=True, track_running_stats=True)\n",
      "      )\n",
      "    )\n",
      "    (13): ResnetBlock(\n",
      "      (res_block): Sequential(\n",
      "        (0): ReflectionPad3d((1, 1, 1, 1, 1, 1))\n",
      "        (1): Conv3d(256, 256, kernel_size=(3, 3, 3), stride=(1, 1, 1), bias=False)\n",
      "        (2): BatchNorm3d(256, eps=1e-05, momentum=0.1, affine=True, track_running_stats=True)\n",
      "        (3): ReLU(inplace=True)\n",
      "        (4): ReflectionPad3d((1, 1, 1, 1, 1, 1))\n",
      "        (5): Conv3d(256, 256, kernel_size=(3, 3, 3), stride=(1, 1, 1), bias=False)\n",
      "        (6): BatchNorm3d(256, eps=1e-05, momentum=0.1, affine=True, track_running_stats=True)\n",
      "      )\n",
      "    )\n",
      "    (14): ResnetBlock(\n",
      "      (res_block): Sequential(\n",
      "        (0): ReflectionPad3d((1, 1, 1, 1, 1, 1))\n",
      "        (1): Conv3d(256, 256, kernel_size=(3, 3, 3), stride=(1, 1, 1), bias=False)\n",
      "        (2): BatchNorm3d(256, eps=1e-05, momentum=0.1, affine=True, track_running_stats=True)\n",
      "        (3): ReLU(inplace=True)\n",
      "        (4): ReflectionPad3d((1, 1, 1, 1, 1, 1))\n",
      "        (5): Conv3d(256, 256, kernel_size=(3, 3, 3), stride=(1, 1, 1), bias=False)\n",
      "        (6): BatchNorm3d(256, eps=1e-05, momentum=0.1, affine=True, track_running_stats=True)\n",
      "      )\n",
      "    )\n",
      "    (15): ResnetBlock(\n",
      "      (res_block): Sequential(\n",
      "        (0): ReflectionPad3d((1, 1, 1, 1, 1, 1))\n",
      "        (1): Conv3d(256, 256, kernel_size=(3, 3, 3), stride=(1, 1, 1), bias=False)\n",
      "        (2): BatchNorm3d(256, eps=1e-05, momentum=0.1, affine=True, track_running_stats=True)\n",
      "        (3): ReLU(inplace=True)\n",
      "        (4): ReflectionPad3d((1, 1, 1, 1, 1, 1))\n",
      "        (5): Conv3d(256, 256, kernel_size=(3, 3, 3), stride=(1, 1, 1), bias=False)\n",
      "        (6): BatchNorm3d(256, eps=1e-05, momentum=0.1, affine=True, track_running_stats=True)\n",
      "      )\n",
      "    )\n",
      "    (16): Conv3d(256, 128, kernel_size=(3, 3, 3), stride=(2, 2, 2), padding=(1, 1, 1), bias=False)\n",
      "    (17): BatchNorm3d(128, eps=1e-05, momentum=0.1, affine=True, track_running_stats=True)\n",
      "    (18): ReLU(inplace=True)\n",
      "    (19): Conv3d(128, 64, kernel_size=(3, 3, 3), stride=(2, 2, 2), padding=(1, 1, 1), bias=False)\n",
      "    (20): BatchNorm3d(64, eps=1e-05, momentum=0.1, affine=True, track_running_stats=True)\n",
      "    (21): ReLU(inplace=True)\n",
      "    (22): Conv3d(64, 32, kernel_size=(3, 3, 3), stride=(2, 2, 2), padding=(1, 1, 1), bias=False)\n",
      "    (23): BatchNorm3d(32, eps=1e-05, momentum=0.1, affine=True, track_running_stats=True)\n",
      "    (24): ReLU(inplace=True)\n",
      "    (25): Conv3d(32, 1, kernel_size=(3, 3, 3), stride=(2, 2, 2), padding=(1, 1, 1), bias=False)\n",
      "  )\n",
      ")\n"
     ]
    }
   ],
   "source": [
    "from model_builders import *\n",
    "\n",
    "# Create a Myronenko Encoder\n",
    "encoder = ResnetEncoder(input_nc=3,\n",
    "                        output_nc=3,\n",
    "                        ngf=64,\n",
    "                        n_blocks=6,\n",
    "                        norm_layer=nn.BatchNorm3d,\n",
    "                        use_dropout=False,\n",
    "                        padding_type='reflect')\n",
    "print(encoder)"
   ]
  },
  {
   "cell_type": "code",
   "execution_count": 21,
   "metadata": {},
   "outputs": [
    {
     "name": "stdout",
     "output_type": "stream",
     "text": [
      "(128, 178, 115)\n",
      "torch.Size([1, 1, 128, 178, 115])\n"
     ]
    }
   ],
   "source": [
    "import nibabel as nib\n",
    "\n",
    "# Path to an image\n",
    "path = \"C:\\\\tractography\\\\DWI_concatenated_resized_b0.nii.gz\"\n",
    "\n",
    "# Load the image\n",
    "image = nib.load(path)\n",
    "\n",
    "# Get the data\n",
    "data = image.get_fdata()\n",
    "\n",
    "print(data.shape)\n",
    "\n",
    "data_torch = torch.from_numpy(data).unsqueeze(0).unsqueeze(0).float()\n",
    "\n",
    "print(data_torch.shape)"
   ]
  },
  {
   "cell_type": "code",
   "execution_count": 56,
   "metadata": {},
   "outputs": [],
   "source": [
    "model = []\n",
    "\n",
    "input_nc = 1\n",
    "ngf = 64\n",
    "norm_layer = nn.BatchNorm3d\n",
    "\n",
    "\n",
    "padding_layer = nn.ReflectionPad3d(3)\n",
    "model += [padding_layer]\n",
    "model += [nn.Conv3d(input_nc, ngf, kernel_size=7, padding=0, bias=False), \n",
    "                norm_layer(ngf), nn.ReLU(True)]\n",
    "\n",
    "# 2. Add the downsample block\n",
    "number_downsampling = 2\n",
    "for i in range(number_downsampling):\n",
    "    mult = 2**i\n",
    "    model += [nn.Conv3d(ngf * mult, ngf * mult * 2, kernel_size=3, \n",
    "                        stride=2, padding=1, bias=False), \n",
    "                    norm_layer(ngf * mult * 2), \n",
    "                    nn.ReLU(True)]\n",
    "    \n",
    "mult = 2**number_downsampling\n",
    "n_blocks = 6\n",
    "for i in range(n_blocks):\n",
    "    model += [ResnetBlock(ngf * mult, padding_type=\"replicate\", \n",
    "                            norm_layer=norm_layer, use_dropout=False, \n",
    "                            use_bias=False)]\n",
    "\n",
    "for i in range(number_downsampling):\n",
    "    mult = 2**(number_downsampling - i)\n",
    "    model += [nn.Conv3d(ngf * mult, int(ngf * mult / 2), \n",
    "                        kernel_size=3, stride=2, padding=1, bias=False), \n",
    "                    norm_layer(int(ngf * mult / 2)), \n",
    "                    nn.ReLU(True)]\n",
    "    \n",
    "model += [nn.Conv3d(int(ngf * mult / 2), int(ngf * mult / 4),\n",
    "                    kernel_size=3, stride=2, padding=1, bias=False),\n",
    "                        norm_layer(int(ngf * mult / 4)), nn.ReLU(True)]\n",
    "\n",
    "model += [nn.Conv3d(int(ngf * mult / 4), 1, kernel_size=3, stride=2, padding=1, bias=False)]\n",
    "\n",
    "model += [nn.AdaptiveAvgPool3d((1, 1, 1))]"
   ]
  },
  {
   "cell_type": "code",
   "execution_count": 61,
   "metadata": {},
   "outputs": [
    {
     "name": "stdout",
     "output_type": "stream",
     "text": [
      "torch.Size([1, 1, 134, 184, 121])\n",
      "torch.Size([1, 64, 128, 178, 115])\n",
      "torch.Size([1, 64, 128, 178, 115])\n",
      "torch.Size([1, 64, 128, 178, 115])\n",
      "torch.Size([1, 128, 64, 89, 58])\n",
      "torch.Size([1, 128, 64, 89, 58])\n",
      "torch.Size([1, 128, 64, 89, 58])\n",
      "torch.Size([1, 256, 32, 45, 29])\n",
      "torch.Size([1, 256, 32, 45, 29])\n",
      "torch.Size([1, 256, 32, 45, 29])\n",
      "torch.Size([1, 256, 32, 45, 29])\n",
      "torch.Size([1, 256, 32, 45, 29])\n",
      "torch.Size([1, 256, 32, 45, 29])\n",
      "torch.Size([1, 256, 32, 45, 29])\n",
      "torch.Size([1, 256, 32, 45, 29])\n",
      "torch.Size([1, 256, 32, 45, 29])\n",
      "torch.Size([1, 128, 16, 23, 15])\n",
      "torch.Size([1, 128, 16, 23, 15])\n",
      "torch.Size([1, 128, 16, 23, 15])\n",
      "torch.Size([1, 64, 8, 12, 8])\n",
      "torch.Size([1, 64, 8, 12, 8])\n",
      "torch.Size([1, 64, 8, 12, 8])\n",
      "torch.Size([1, 32, 4, 6, 4])\n",
      "torch.Size([1, 32, 4, 6, 4])\n",
      "torch.Size([1, 32, 4, 6, 4])\n",
      "torch.Size([1, 1, 2, 3, 2])\n",
      "torch.Size([1, 1, 1, 1, 1])\n"
     ]
    }
   ],
   "source": [
    "def forward(model, output):\n",
    "    for layer in model:\n",
    "        output = layer(output)\n",
    "        print(output.shape)\n",
    "    return output\n",
    "\n",
    "# for layer in model:\n",
    "#     output = model_final(torch.from_numpy(data).unsqueeze(0).unsqueeze(0).float())\n",
    "output = forward(model, torch.from_numpy(data).unsqueeze(0).unsqueeze(0).float())"
   ]
  },
  {
   "cell_type": "code",
   "execution_count": 62,
   "metadata": {},
   "outputs": [],
   "source": [
    "# Squeeze the output\n",
    "output = output.squeeze(0).squeeze(0).detach().numpy()"
   ]
  },
  {
   "cell_type": "code",
   "execution_count": 63,
   "metadata": {},
   "outputs": [
    {
     "name": "stdout",
     "output_type": "stream",
     "text": [
      "(128, 178, 115)\n",
      "(1, 1, 1)\n",
      "[[[0.20566858]]]\n"
     ]
    }
   ],
   "source": [
    "print(data.shape)\n",
    "print(output.shape)\n",
    "print(output)"
   ]
  }
 ],
 "metadata": {
  "kernelspec": {
   "display_name": "Python 3",
   "language": "python",
   "name": "python3"
  },
  "language_info": {
   "codemirror_mode": {
    "name": "ipython",
    "version": 3
   },
   "file_extension": ".py",
   "mimetype": "text/x-python",
   "name": "python",
   "nbconvert_exporter": "python",
   "pygments_lexer": "ipython3",
   "version": "3.11.0"
  },
  "orig_nbformat": 4
 },
 "nbformat": 4,
 "nbformat_minor": 2
}
