{
 "cells": [
  {
   "cell_type": "code",
   "execution_count": 1,
   "metadata": {
    "execution": {
     "iopub.execute_input": "2023-08-02T12:07:57.683457Z",
     "iopub.status.busy": "2023-08-02T12:07:57.680454Z",
     "iopub.status.idle": "2023-08-02T12:07:57.691123Z",
     "shell.execute_reply": "2023-08-02T12:07:57.690613Z",
     "shell.execute_reply.started": "2023-08-02T12:07:57.683425Z"
    }
   },
   "outputs": [],
   "source": [
    "from models import CNN_Attention\n",
    "import torch"
   ]
  },
  {
   "cell_type": "code",
   "execution_count": 2,
   "metadata": {
    "execution": {
     "iopub.execute_input": "2023-08-02T12:14:38.061821Z",
     "iopub.status.busy": "2023-08-02T12:14:38.061241Z",
     "iopub.status.idle": "2023-08-02T12:14:38.086589Z",
     "shell.execute_reply": "2023-08-02T12:14:38.086033Z",
     "shell.execute_reply.started": "2023-08-02T12:14:38.061798Z"
    }
   },
   "outputs": [
    {
     "name": "stderr",
     "output_type": "stream",
     "text": [
      "/homes/hsa22/.local/lib/python3.10/site-packages/torch/nn/init.py:405: UserWarning: Initializing zero-element tensors is a no-op\n",
      "  warnings.warn(\"Initializing zero-element tensors is a no-op\")\n"
     ]
    }
   ],
   "source": [
    "# Empty cache\n",
    "torch.cuda.empty_cache()\n",
    "\n",
    "# Define the device\n",
    "device = torch.device(\"cuda\" if torch.cuda.is_available() else \"cpu\")\n",
    "\n",
    "batch_size = 2\n",
    "# Define the previous predictions\n",
    "previous_prediction_1 = torch.randn((batch_size, 1, 3))\n",
    "previous_prediction_2 = torch.randn((batch_size, 1, 3))\n",
    "# Concatenate the previous predictions together along the rows\n",
    "previous_predictions = torch.cat((previous_prediction_1, previous_prediction_2), dim=2).to(device)\n",
    "# Define the input shape\n",
    "input_shape = (batch_size, 45, 15, 15, 15)\n",
    "inputs = torch.randn(input_shape).to(device)\n",
    "\n",
    "# Define the model\n",
    "model = CNN_Attention(in_channels=45, num_rnn_layers=2, num_rnn_hidden_neurons=128, cube_size=input_shape[-1], num_nodes=1, num_coordinates=3, combination=True).to(device)"
   ]
  },
  {
   "cell_type": "code",
   "execution_count": 3,
   "metadata": {
    "execution": {
     "iopub.execute_input": "2023-08-02T12:14:38.663088Z",
     "iopub.status.busy": "2023-08-02T12:14:38.662477Z",
     "iopub.status.idle": "2023-08-02T12:14:39.010824Z",
     "shell.execute_reply": "2023-08-02T12:14:39.010130Z",
     "shell.execute_reply.started": "2023-08-02T12:14:38.663066Z"
    }
   },
   "outputs": [
    {
     "name": "stdout",
     "output_type": "stream",
     "text": [
      "Shape of first_block torch.Size([2, 45, 15, 15, 15])\n",
      "Shape of second_block torch.Size([2, 45, 15, 15, 15])\n",
      "Shape of third_block torch.Size([2, 45, 15, 15, 15])\n",
      "Shape of fourth_block torch.Size([2, 45, 15, 15, 15])\n",
      "Shape of fifth_block torch.Size([2, 45, 15, 15, 15])\n",
      "Shape of sixth_block torch.Size([2, 45, 15, 15, 15])\n",
      "Shape of previous_predictions_mlp_output torch.Size([2, 32])\n",
      "Shape of previous_predictions torch.Size([2, 32])\n",
      "Shape of cnn_attention_output torch.Size([2, 45, 15, 15, 15])\n",
      "Shape of flattened_input torch.Size([2, 151875])\n",
      "Shape of final_mlp torch.Size([2, 1, 3])\n"
     ]
    }
   ],
   "source": [
    "# Test the model\n",
    "outputs = model(inputs, previous_predictions)"
   ]
  },
  {
   "cell_type": "code",
   "execution_count": 6,
   "metadata": {},
   "outputs": [
    {
     "name": "stdout",
     "output_type": "stream",
     "text": [
      "(2, 1, 3)\n"
     ]
    }
   ],
   "source": [
    "print(outputs.cpu().detach().numpy().shape)"
   ]
  },
  {
   "cell_type": "code",
   "execution_count": null,
   "metadata": {},
   "outputs": [],
   "source": []
  }
 ],
 "metadata": {
  "kernelspec": {
   "display_name": "Python 3 (ipykernel)",
   "language": "python",
   "name": "python3"
  },
  "language_info": {
   "codemirror_mode": {
    "name": "ipython",
    "version": 3
   },
   "file_extension": ".py",
   "mimetype": "text/x-python",
   "name": "python",
   "nbconvert_exporter": "python",
   "pygments_lexer": "ipython3",
   "version": "3.10.12"
  }
 },
 "nbformat": 4,
 "nbformat_minor": 4
}
